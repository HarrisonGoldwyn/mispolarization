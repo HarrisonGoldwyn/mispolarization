{
 "cells": [
  {
   "cell_type": "markdown",
   "metadata": {},
   "source": [
    "Copied from ``BEM_fit_nanrod_in_vacuum__012419-Copy1`` on 02/07/29\n",
    "\n",
    "This file computes "
   ]
  },
  {
   "cell_type": "code",
   "execution_count": 1,
   "metadata": {
    "collapsed": false
   },
   "outputs": [
    {
     "name": "stdout",
     "output_type": "stream",
     "text": [
      "reading parameters from /Users/chair/Documents/Academia/SuperRes/Biteen_colab/Mispolarization/python/gitted/parameter_files/curly_nrod_vacuum.yaml\n",
      "reading parameters from /Users/chair/Documents/Academia/SuperRes/Biteen_colab/Mispolarization/python/gitted/parameter_files/curly_nrod_vacuum.yaml\n",
      "polarizability reduced by factor of 1\n",
      "coupling scaled up by by factor of 1\n"
     ]
    }
   ],
   "source": [
    "from __future__ import print_function\n",
    "from __future__ import division\n",
    "\n",
    "import pdb\n",
    "import sys\n",
    "import os\n",
    "import yaml\n",
    "\n",
    "import numpy as np\n",
    "import scipy.optimize as opt\n",
    "from scipy import interpolate\n",
    "import scipy.io as sio\n",
    "import scipy.special as spf\n",
    "\n",
    "## import diffrantion integral solver from Optics folder\n",
    "project_path = ('/Users/chair/Documents/Academia/SuperRes/Biteen_colab/'\n",
    "    +\n",
    "    'Mispolarization/python/gitted'\n",
    "    )\n",
    "optics_path = project_path + '/Optics'\n",
    "sys.path.append(optics_path)\n",
    "# sys.path.append(date_dir)\n",
    "import diffraction_int as diffi\n",
    "import fibonacci as fib\n",
    "\n",
    "## Read parameter file to obtain physical properties \n",
    "## of molecule and plasmon, molecule and imaging system.\n",
    "parameter_files_path = (\n",
    "    project_path + '/parameter_files'\n",
    ")\n",
    "\n",
    "curly_yaml_file_name = '/curly_nrod_vacuum.yaml'\n",
    "parameters = yaml.load(open(parameter_files_path+curly_yaml_file_name,'r'))\n",
    "\n",
    "\n",
    "modules_path = project_path + '/solving_problems/modules'\n",
    "sys.path.append(modules_path)\n",
    "\n",
    "import fitting_misLocalization as fit\n",
    "\n",
    "## plotting stuff\n",
    "import matplotlib.pyplot as plt\n",
    "import matplotlib as mpl\n",
    "get_ipython().magic('matplotlib inline')\n",
    "# mpl.rc('font',**{'family':'sans-serif','sans-serif':['Helvetica']})\n",
    "## for Palatino and other serif fonts use:\n",
    "#rc('font',**{'family':'serif','serif':['Palatino']})\n",
    "mpl.rcParams['text.usetex'] = True\n",
    "\n",
    "## colorbar stuff \n",
    "from mpl_toolkits import axes_grid1\n",
    "\n",
    "## Import analytic expressions for the focused fields from a point dipole.\n",
    "import anal_foc_diff_fields as afi\n",
    "\n",
    "## Import computational solution to two coupled oscillators of arbitrarty \n",
    "## anisotropic polarizabilities. \n",
    "# import coupled_dipoles as cp \n",
    "\n",
    "## Import physical constants from yaml file.\n",
    "phys_const_file_name = '/physical_constants.yaml'\n",
    "opened_constant_file = open(\n",
    "    parameter_files_path+phys_const_file_name,\n",
    "    'r')\n",
    "constants = yaml.load(opened_constant_file)\n",
    "e = constants['physical_constants']['e']\n",
    "c = constants['physical_constants']['c']  # charge of electron in statcoloumbs\n",
    "hbar =constants['physical_constants']['hbar']\n",
    "nm = constants['physical_constants']['nm']\n",
    "n_a = constants['physical_constants']['nA']   # Avogadro's number\n",
    "# Z_o = 376.7303 # impedence of free space in ohms (SI)\n",
    "\n",
    "## Define some useful constants from defined parameters\n",
    "n_b = parameters['general']['background_ref_index']\n",
    "eps_b = n_b**2.\n",
    "# a = parameters['plasmon']['radius']\n",
    "\n",
    "\n",
    "\n",
    "#######################################################################\n",
    "## Optics stuff.  \n",
    "sensor_size = parameters['optics']['sensor_size']*nm\n",
    "# height = 2*mm  # also defines objective lens focal length \n",
    "# height = parameters['optics']['obj_f_len']\n",
    "resolution = parameters['optics']['sensor_pts']  # image grid resolution\n",
    "## Build image sensor\n",
    "eye = diffi.observation_points(\n",
    "    x_min= -sensor_size/2, \n",
    "    x_max= sensor_size/2,\n",
    "    y_min= -sensor_size/2, \n",
    "    y_max= sensor_size/2, \n",
    "    points= resolution\n",
    "    )\n",
    "\n",
    "## Experimental parameters\n",
    "magnification = parameters['optics']['magnification']\n",
    "numerical_aperture = parameters['optics']['numerical_aperture']\n",
    "max_theta = np.arcsin(numerical_aperture) # defines physical aperture size\n",
    "\n",
    "## numerical parameters for calculation of scattered field\n",
    "lens_points = parameters['optics']['lens_points']\n",
    "\n",
    "# obj_f = 1.*mm  # still dont know what this is supposed to be\n",
    "obj_f = parameters['optics']['obj_f_len']\n",
    "\n",
    "tube_f = magnification * obj_f\n",
    "\n",
    "## calculate dipole magnitudes\n",
    "drive_hbar_omega = parameters['general']['drive_energy'] ## rod long mode max at 1.8578957289256757 eV\n",
    "omega_drive = drive_hbar_omega/hbar  # driving frequency"
   ]
  },
  {
   "cell_type": "markdown",
   "metadata": {
    "collapsed": true
   },
   "source": [
    "# initialize matlab stuff"
   ]
  },
  {
   "cell_type": "code",
   "execution_count": 2,
   "metadata": {
    "collapsed": false
   },
   "outputs": [],
   "source": [
    "## import matlab engine to run BEM\n",
    "import matlab\n",
    "import matlab.engine\n",
    "\n",
    "variable_dict = {'list_of_coodinates':eye[0]/nm, 'meshed_X':eye[1]/nm,'meshed_Y':eye[2]/nm}\n"
   ]
  },
  {
   "cell_type": "code",
   "execution_count": 3,
   "metadata": {
    "collapsed": false
   },
   "outputs": [
    {
     "name": "stdout",
     "output_type": "stream",
     "text": [
      "given even number of points for Fibonacci lattice, \n",
      "  adding 1...\n"
     ]
    }
   ],
   "source": [
    "## values required for scattered field calculation of sphere\n",
    "sphere_points = fib.fib_alg_k_filter(\n",
    "    num_points=lens_points, \n",
    "    max_ang=max_theta\n",
    "    )\n",
    "\n",
    "cart_points_on_sph = fib.sphere_to_cart(\n",
    "    sphere_points[:,0],\n",
    "    sphere_points[:,1],\n",
    "    obj_f*np.ones(np.shape(sphere_points[:,0]))\n",
    "    )"
   ]
  },
  {
   "cell_type": "code",
   "execution_count": 4,
   "metadata": {
    "collapsed": false
   },
   "outputs": [
    {
     "name": "stdout",
     "output_type": "stream",
     "text": [
      "starting Matlab...\n"
     ]
    }
   ],
   "source": [
    "## start matlab before looping\n",
    "print('starting Matlab...')\n",
    "eng = matlab.engine.start_matlab()\n",
    "\n",
    "## convert lens-integration coordinates to matlab variable\n",
    "matlab_cart_points_on_sph = matlab.double(cart_points_on_sph.tolist())"
   ]
  },
  {
   "cell_type": "code",
   "execution_count": 5,
   "metadata": {
    "collapsed": true
   },
   "outputs": [],
   "source": [
    "mol_location = [100,0,0]"
   ]
  },
  {
   "cell_type": "code",
   "execution_count": 6,
   "metadata": {
    "collapsed": true
   },
   "outputs": [],
   "source": [
    "def fixed_ori_mol_placement(x_min=0, x_max=500, y_min=0, y_max=500, mol_grid_pts_1D = 3, mol_angle=0):\n",
    "    locations = diffi.observation_points(x_min, x_max, y_min, y_max, points=mol_grid_pts_1D)[0]\n",
    "    locations = np.hstack((locations,np.zeros((locations.shape[0],1))))\n",
    "    \n",
    "    mol_linspace_pts = mol_grid_pts_1D\n",
    "#     random_mol_angles= (np.random.random(mol_linspace_pts**2)*np.pi*2)\n",
    "    return [locations, mol_angle]"
   ]
  },
  {
   "cell_type": "code",
   "execution_count": 7,
   "metadata": {
    "collapsed": false
   },
   "outputs": [],
   "source": [
    "class Simulation(object):\n",
    "    \"\"\"Runs BEM simulation\n",
    "    \n",
    "    Collects focused+diffracted far-field information from molecules nearby a nanorod \n",
    "    by MNPBEM calculation in an invisible instance of Matlab.\n",
    "    \n",
    "    Args:\n",
    "        locations: list of 3D cartesien coordinates of molecules. \n",
    "            One simulation is run per location.  \n",
    "        mol_angle: Angle on the molecule's dipole moment relatice to the x-axis\n",
    "        plas_angle: Angle of the long-axis of the nanorod relative to the x-axis\n",
    "    \n",
    "    Attributes:\n",
    "        mol_too_close: named confusingly, this method is built to filter locations\n",
    "            for points within the fluorescence quenching region around the nanorod, \n",
    "            assigned to be 10 nm from the surface of the fit ellipsoid.\n",
    "            Returns: VALID locations OUTSIDE this region.\n",
    "        calculate_BEM_fields: runs simulatins and stores results in attributes; \n",
    "            bem_E: Focused and diffracted electric field\n",
    "            BEM_images: \n",
    "    \n",
    "    \"\"\"\n",
    "    \n",
    "    ## set up inverse mapping from observed -> true angle for signle molecule in the plane. \n",
    "        \n",
    "    def __init__(self, locations, mol_angle=0, plas_angle=np.pi/2\n",
    "                 ):\n",
    "        self.n_b = np.sqrt(1.778) ## Curly's water \n",
    "        self.mol_locations = locations\n",
    "        self.mol_angles = mol_angle\n",
    "        self.rod_angle = plas_angle\n",
    "        \n",
    "        #### Filtering out molecules in region of fluorescence quenching \n",
    "        self.el_a = parameters['plasmon']['fit_a1'] ## ranorod degenerate radius\n",
    "        self.el_c = parameters['plasmon']['fit_a2']\n",
    "        self.quel_a = self.el_a + 10 ## define quenching region\n",
    "        self.quel_c = self.el_c + 10\n",
    "        self.input_x_mol = locations[:,0]\n",
    "        self.input_y_mol = locations[:,1]\n",
    "        \n",
    "        self.pt_is_in_ellip = self.mol_too_close()\n",
    "        ## select molecules outside region,\n",
    "        self.mol_locations = locations[self.pt_is_in_ellip]\n",
    "        ## select molecule angles if listed per molecule, \n",
    "        if type(mol_angle)==np.ndarray and mol_angle.shape[0]>1:\n",
    "            self.mol_angles = mol_angle[self.pt_is_in_ellip]\n",
    "        else: self.mol_angles = mol_angle\n",
    "\n",
    "        self.default_plot_limits = [\n",
    "            np.min(self.mol_locations)-((np.max(self.mol_locations)-np.min(self.mol_locations))*.1),\n",
    "            np.max(self.mol_locations)+((np.max(self.mol_locations)-np.min(self.mol_locations))*.1)]\n",
    "        \n",
    "    def mol_too_close(self):\n",
    "        '''Returns molecule locations that are outside the fluorescence quenching zone,\n",
    "            defined as 10 nm from surface of fit spheroid'''\n",
    "        rotated_x = np.cos(self.rod_angle)*self.input_x_mol + np.sin(self.rod_angle)*self.input_y_mol\n",
    "        rotated_y = -np.sin(self.rod_angle)*self.input_x_mol + np.cos(self.rod_angle)*self.input_y_mol\n",
    "        long_quench_radius = self.quel_a\n",
    "        short_quench_radius = self.quel_c\n",
    "        rotated_ellip_eq = rotated_x**2./long_quench_radius**2 + rotated_y**2./short_quench_radius**2\n",
    "        return (rotated_ellip_eq > 1)\n",
    "        \n",
    "    def calculate_BEM_fields(self):\n",
    "        \"\"\" Runs BEM simulation in Matlab using parameters initialized parameters \n",
    "            \"\"\"\n",
    "        if hasattr(self, 'BEM_images'):\n",
    "            return self.BEM_images\n",
    "            \n",
    "        mol_locations = self.mol_locations\n",
    "        mol_angle = self.mol_angles\n",
    "        drive_energy = drive_hbar_omega\n",
    "        \n",
    "        number_of_molecules = mol_locations.shape[0]\n",
    "\n",
    "        self.BEM_images = np.zeros((number_of_molecules, eye[0].shape[0]))\n",
    "        self.bem_E = np.zeros((number_of_molecules, eye[0].shape[0], 3))\n",
    "        \n",
    "        for i in range(number_of_molecules):\n",
    "            print('{}th molecule'.format(int(i+1)))\n",
    "            mol_location = mol_locations[i]\n",
    "            mol_orientation = [np.cos(mol_angle), np.sin(mol_angle), 0]\n",
    "\n",
    "            [E, sph_p] = eng.BEM_CurlyNanRod_dipDrive_E(\n",
    "                matlab.double(list(mol_location)), \n",
    "                drive_energy, \n",
    "                matlab.double(list(mol_orientation)), \n",
    "                matlab_cart_points_on_sph,\n",
    "                float(self.n_b**2.),\n",
    "                nargout=2)\n",
    "\n",
    "\n",
    "            BEM_scattered_E = np.asarray(E)\n",
    "                # print('BEM_scattered_E.shape = ',BEM_scattered_E.shape)\n",
    "                # BEM_scattered_H = np.asarray(H)\n",
    "                # print('BEM_scattered_H.shape = ',BEM_scattered_H.shape)\n",
    "            cart_sphere_points = np.asarray(sph_p)\n",
    "\n",
    "            sph_sph_points = fib.cart_to_sphere(\n",
    "                cart_sphere_points[:,0],\n",
    "                cart_sphere_points[:,1],\n",
    "                cart_sphere_points[:,2]\n",
    "                ).T\n",
    "\n",
    "            thetas_and_phis = sph_sph_points[:,1:]\n",
    "\n",
    "            print(\n",
    "                'calculating diffracted fields')\n",
    "            \n",
    "            diffracted_E_field = diffi.perform_integral(\n",
    "                scattered_E=BEM_scattered_E, \n",
    "                scattered_sph_coords=thetas_and_phis, \n",
    "                obser_pts=eye[0]*np.array([[1,-1]]), \n",
    "                z=0, \n",
    "                obj_f=obj_f, \n",
    "                tube_f=tube_f, \n",
    "                k=omega_drive*self.n_b/c,\n",
    "                alpha_1_max=max_theta\n",
    "                )\n",
    "\n",
    "            diffracted_power_flux = np.real(\n",
    "                np.sum(\n",
    "                    np.multiply(diffracted_E_field,\n",
    "                        np.conj(diffracted_E_field)\n",
    "                        ),\n",
    "                    axis=-1\n",
    "                    )\n",
    "                )\n",
    "\n",
    "            self.bem_E[i] = diffracted_E_field\n",
    "            self.BEM_images[i] = diffracted_power_flux\n",
    "        return self.BEM_images"
   ]
  },
  {
   "cell_type": "markdown",
   "metadata": {},
   "source": [
    "### Wrap Simulation class into an object with same attributes as MolCoupNanoRodExp, so that the Gaussian Localization can be calculated"
   ]
  },
  {
   "cell_type": "code",
   "execution_count": 8,
   "metadata": {
    "collapsed": true
   },
   "outputs": [],
   "source": [
    "class SimulatedExperiment(Simulation,fit.MolCoupNanoRodExp):        \n",
    "    \"\"\"\n",
    "        \n",
    "        \"\"\"\n",
    "    def __init__(self, locations, mol_angle=0, plas_angle=np.pi/2, \n",
    "                 obs_points=None,):\n",
    "        \n",
    "        fit.CoupledDipoles.__init__(self, obs_points)\n",
    "        \n",
    "        self.n_b = np.sqrt(1.778) ## Curly's water \n",
    "        ###### from fit.MolCoupNanoRodExp\n",
    "        self.mol_locations = locations\n",
    "        self.mol_angles = mol_angle\n",
    "        self.rod_angle = plas_angle\n",
    "        \n",
    "        #### Filtering out molecules in region of fluorescence quenching \n",
    "        self.el_a = parameters['plasmon']['fit_a1'] ## ranorod degenerate radius\n",
    "        self.el_c = parameters['plasmon']['fit_a2']\n",
    "        self.quel_a = self.el_a + 10 ## define quenching region\n",
    "        self.quel_c = self.el_c + 10\n",
    "        self.input_x_mol = locations[:,0]\n",
    "        self.input_y_mol = locations[:,1]\n",
    "\n",
    "        self.pt_is_in_ellip = self.mol_too_close()\n",
    "        ## select molecules outside region,\n",
    "        self.mol_locations = locations[self.pt_is_in_ellip]\n",
    "        ## select molecule angles if listed per molecule, \n",
    "        if type(mol_angle)==np.ndarray and mol_angle.shape[0]>1:\n",
    "            self.mol_angles = mol_angle[self.pt_is_in_ellip]\n",
    "        else: self.mol_angles = mol_angle\n",
    "\n",
    "        ##Features cut out of Model experiment calss for simulation class\n",
    "#         (self.mol_E, \n",
    "#          self.plas_E, \n",
    "#          self.p0_unc_E, \n",
    "#          self.p0, \n",
    "#          self.p1) = self.dipole_fields(self.mol_locations, self.mol_angles, self.rod_angle)\n",
    "\n",
    "#         self.trial_images = self.calculate_BEM_fields()\n",
    "\n",
    "        self.default_plot_limits = [\n",
    "            np.min(self.mol_locations)-((np.max(self.mol_locations)-np.min(self.mol_locations))*.1),\n",
    "            np.max(self.mol_locations)+((np.max(self.mol_locations)-np.min(self.mol_locations))*.1)]\n",
    "        \n",
    "    "
   ]
  },
  {
   "cell_type": "code",
   "execution_count": 9,
   "metadata": {
    "collapsed": false
   },
   "outputs": [],
   "source": [
    "locations, angles = fixed_ori_mol_placement(mol_grid_pts_1D=5, x_max=300, y_max=300)"
   ]
  },
  {
   "cell_type": "code",
   "execution_count": 10,
   "metadata": {
    "collapsed": false
   },
   "outputs": [
    {
     "name": "stderr",
     "output_type": "stream",
     "text": [
      "/Users/chair/Documents/Academia/SuperRes/Biteen_colab/Mispolarization/python/gitted/solving_problems/modules/coupled_dipoles.py:203: RuntimeWarning: divide by zero encountered in arctanh\n",
      "  L = (1-e**2.)/e**3. * (-e + np.arctanh(e))\n",
      "/Users/chair/Documents/Academia/SuperRes/Biteen_colab/Mispolarization/python/gitted/solving_problems/modules/coupled_dipoles.py:203: RuntimeWarning: invalid value encountered in double_scalars\n",
      "  L = (1-e**2.)/e**3. * (-e + np.arctanh(e))\n",
      "/Users/chair/Documents/Academia/SuperRes/Biteen_colab/Mispolarization/python/gitted/solving_problems/modules/coupled_dipoles.py:245: RuntimeWarning: divide by zero encountered in double_scalars\n",
      "  ((1+e**2.)/(1-e**2.))*L_i(1, a_x, a_yz) + 1\n",
      "/Users/chair/Documents/Academia/SuperRes/Biteen_colab/Mispolarization/python/gitted/solving_problems/modules/coupled_dipoles.py:252: RuntimeWarning: divide by zero encountered in arctanh\n",
      "  D = (a_yz/(2*a_x))*(3/e * np.arctanh(e) - D_x(a_x,a_yz))\n"
     ]
    }
   ],
   "source": [
    "simTestInst = SimulatedExperiment(locations, mol_angle=np.pi/2)"
   ]
  },
  {
   "cell_type": "code",
   "execution_count": 11,
   "metadata": {
    "collapsed": false,
    "scrolled": false
   },
   "outputs": [
    {
     "name": "stdout",
     "output_type": "stream",
     "text": [
      "1th molecule\n",
      "calculating diffracted fields\n"
     ]
    },
    {
     "name": "stderr",
     "output_type": "stream",
     "text": [
      "/Users/chair/anaconda/envs/py36/lib/python3.6/site-packages/ipykernel/__main__.py:129: ComplexWarning: Casting complex values to real discards the imaginary part\n"
     ]
    },
    {
     "name": "stdout",
     "output_type": "stream",
     "text": [
      "2th molecule\n",
      "calculating diffracted fields\n",
      "3th molecule\n",
      "calculating diffracted fields\n",
      "4th molecule\n",
      "calculating diffracted fields\n",
      "5th molecule\n",
      "calculating diffracted fields\n",
      "6th molecule\n",
      "calculating diffracted fields\n",
      "7th molecule\n",
      "calculating diffracted fields\n",
      "8th molecule\n",
      "calculating diffracted fields\n",
      "9th molecule\n",
      "calculating diffracted fields\n",
      "10th molecule\n",
      "calculating diffracted fields\n",
      "11th molecule\n",
      "calculating diffracted fields\n",
      "12th molecule\n",
      "calculating diffracted fields\n",
      "13th molecule\n",
      "calculating diffracted fields\n",
      "14th molecule\n",
      "calculating diffracted fields\n",
      "15th molecule\n",
      "calculating diffracted fields\n",
      "16th molecule\n",
      "calculating diffracted fields\n",
      "17th molecule\n",
      "calculating diffracted fields\n",
      "18th molecule\n",
      "calculating diffracted fields\n",
      "19th molecule\n",
      "calculating diffracted fields\n",
      "20th molecule\n",
      "calculating diffracted fields\n",
      "21th molecule\n",
      "calculating diffracted fields\n",
      "22th molecule\n",
      "calculating diffracted fields\n",
      "23th molecule\n",
      "calculating diffracted fields\n",
      "24th molecule\n",
      "calculating diffracted fields\n"
     ]
    }
   ],
   "source": [
    "simTestInst.trial_images = simTestInst.calculate_BEM_fields()"
   ]
  },
  {
   "cell_type": "code",
   "execution_count": 12,
   "metadata": {
    "collapsed": false,
    "scrolled": false
   },
   "outputs": [
    {
     "data": {
      "image/png": "[encoded data removed]",
      "text/plain": [
       "<Figure size 975x900 with 2 Axes>"
      ]
     },
     "metadata": {
      "needs_background": "light"
     },
     "output_type": "display_data"
    }
   ],
   "source": [
    "simTestInst.plot_mispol_map_wMisloc()"
   ]
  },
  {
   "cell_type": "markdown",
   "metadata": {
    "collapsed": true
   },
   "source": [
    "Compare to model fit."
   ]
  },
  {
   "cell_type": "code",
   "execution_count": null,
   "metadata": {
    "collapsed": true
   },
   "outputs": [],
   "source": [
    "# import fitting_misLocalization_adding_noise_to_modeled_images__011619v11 as fit"
   ]
  },
  {
   "cell_type": "code",
   "execution_count": 13,
   "metadata": {
    "collapsed": false,
    "scrolled": false
   },
   "outputs": [
    {
     "name": "stdout",
     "output_type": "stream",
     "text": [
      "initial guess for molecule 0 location: (-10.0,131.0)\n"
     ]
    },
    {
     "name": "stderr",
     "output_type": "stream",
     "text": [
      "/Users/chair/Documents/Academia/SuperRes/Biteen_colab/Mispolarization/python/gitted/solving_problems/modules/coupled_dipoles.py:203: RuntimeWarning: divide by zero encountered in arctanh\n",
      "  L = (1-e**2.)/e**3. * (-e + np.arctanh(e))\n",
      "/Users/chair/Documents/Academia/SuperRes/Biteen_colab/Mispolarization/python/gitted/solving_problems/modules/coupled_dipoles.py:203: RuntimeWarning: invalid value encountered in double_scalars\n",
      "  L = (1-e**2.)/e**3. * (-e + np.arctanh(e))\n",
      "/Users/chair/Documents/Academia/SuperRes/Biteen_colab/Mispolarization/python/gitted/solving_problems/modules/coupled_dipoles.py:245: RuntimeWarning: divide by zero encountered in double_scalars\n",
      "  ((1+e**2.)/(1-e**2.))*L_i(1, a_x, a_yz) + 1\n",
      "/Users/chair/Documents/Academia/SuperRes/Biteen_colab/Mispolarization/python/gitted/solving_problems/modules/coupled_dipoles.py:252: RuntimeWarning: divide by zero encountered in arctanh\n",
      "  D = (a_yz/(2*a_x))*(3/e * np.arctanh(e) - D_x(a_x,a_yz))\n",
      "/Users/chair/anaconda/envs/py36/lib/python3.6/site-packages/numpy/core/fromnumeric.py:83: RuntimeWarning: invalid value encountered in reduce\n",
      "  return ufunc.reduce(obj, axis, dtype, out, **passkwargs)\n"
     ]
    },
    {
     "ename": "ValueError",
     "evalue": "Residuals are not finite in the initial point.",
     "output_type": "error",
     "traceback": [
      "\u001b[0;31m---------------------------------------------------------------------------\u001b[0m",
      "\u001b[0;31mValueError\u001b[0m                                Traceback (most recent call last)",
      "\u001b[0;32m<ipython-input-13-a24070dc1111>\u001b[0m in \u001b[0;36m<module>\u001b[0;34m\u001b[0m\n\u001b[1;32m      1\u001b[0m \u001b[0mtest_BEM_fit_instance\u001b[0m \u001b[0;34m=\u001b[0m \u001b[0mfit\u001b[0m\u001b[0;34m.\u001b[0m\u001b[0mFitModelToData\u001b[0m\u001b[0;34m(\u001b[0m\u001b[0msimTestInst\u001b[0m\u001b[0;34m.\u001b[0m\u001b[0mBEM_images\u001b[0m\u001b[0;34m)\u001b[0m\u001b[0;34m\u001b[0m\u001b[0;34m\u001b[0m\u001b[0m\n\u001b[0;32m----> 2\u001b[0;31m \u001b[0mtest_BEM_fit_instance\u001b[0m\u001b[0;34m.\u001b[0m\u001b[0mfit_model_to_image_data\u001b[0m\u001b[0;34m(\u001b[0m\u001b[0;34m)\u001b[0m\u001b[0;34m\u001b[0m\u001b[0;34m\u001b[0m\u001b[0m\n\u001b[0m\u001b[1;32m      3\u001b[0m \u001b[0;31m# test_BEM_fit_instance.plot_contour_fit_over_data(0)\u001b[0m\u001b[0;34m\u001b[0m\u001b[0;34m\u001b[0m\u001b[0;34m\u001b[0m\u001b[0m\n",
      "\u001b[0;32m~/Documents/Academia/SuperRes/Biteen_colab/Mispolarization/python/gitted/solving_problems/modules/fitting_misLocalization.py\u001b[0m in \u001b[0;36mfit_model_to_image_data\u001b[0;34m(self, images)\u001b[0m\n\u001b[1;32m    843\u001b[0m                 \u001b[0mself\u001b[0m\u001b[0;34m.\u001b[0m\u001b[0m_misloc_data_minus_model\u001b[0m\u001b[0;34m,\u001b[0m\u001b[0;34m\u001b[0m\u001b[0;34m\u001b[0m\u001b[0m\n\u001b[1;32m    844\u001b[0m                 \u001b[0mparams0\u001b[0m\u001b[0;34m,\u001b[0m\u001b[0;34m\u001b[0m\u001b[0;34m\u001b[0m\u001b[0m\n\u001b[0;32m--> 845\u001b[0;31m                 \u001b[0margs\u001b[0m\u001b[0;34m=\u001b[0m\u001b[0mtuple_normed_image_data\u001b[0m\u001b[0;34m,\u001b[0m\u001b[0;34m\u001b[0m\u001b[0;34m\u001b[0m\u001b[0m\n\u001b[0m\u001b[1;32m    846\u001b[0m                 )\n\u001b[1;32m    847\u001b[0m             \u001b[0mself\u001b[0m\u001b[0;34m.\u001b[0m\u001b[0mmodel_fit_results\u001b[0m\u001b[0;34m[\u001b[0m\u001b[0mi\u001b[0m\u001b[0;34m]\u001b[0m \u001b[0;34m=\u001b[0m \u001b[0moptimized_fit\u001b[0m\u001b[0;34m[\u001b[0m\u001b[0;34m'x'\u001b[0m\u001b[0;34m]\u001b[0m\u001b[0;34m\u001b[0m\u001b[0;34m\u001b[0m\u001b[0m\n",
      "\u001b[0;32m~/anaconda/envs/py36/lib/python3.6/site-packages/scipy/optimize/_lsq/least_squares.py\u001b[0m in \u001b[0;36mleast_squares\u001b[0;34m(fun, x0, jac, bounds, method, ftol, xtol, gtol, x_scale, loss, f_scale, diff_step, tr_solver, tr_options, jac_sparsity, max_nfev, verbose, args, kwargs)\u001b[0m\n\u001b[1;32m    803\u001b[0m \u001b[0;34m\u001b[0m\u001b[0m\n\u001b[1;32m    804\u001b[0m     \u001b[0;32mif\u001b[0m \u001b[0;32mnot\u001b[0m \u001b[0mnp\u001b[0m\u001b[0;34m.\u001b[0m\u001b[0mall\u001b[0m\u001b[0;34m(\u001b[0m\u001b[0mnp\u001b[0m\u001b[0;34m.\u001b[0m\u001b[0misfinite\u001b[0m\u001b[0;34m(\u001b[0m\u001b[0mf0\u001b[0m\u001b[0;34m)\u001b[0m\u001b[0;34m)\u001b[0m\u001b[0;34m:\u001b[0m\u001b[0;34m\u001b[0m\u001b[0;34m\u001b[0m\u001b[0m\n\u001b[0;32m--> 805\u001b[0;31m         \u001b[0;32mraise\u001b[0m \u001b[0mValueError\u001b[0m\u001b[0;34m(\u001b[0m\u001b[0;34m\"Residuals are not finite in the initial point.\"\u001b[0m\u001b[0;34m)\u001b[0m\u001b[0;34m\u001b[0m\u001b[0;34m\u001b[0m\u001b[0m\n\u001b[0m\u001b[1;32m    806\u001b[0m \u001b[0;34m\u001b[0m\u001b[0m\n\u001b[1;32m    807\u001b[0m     \u001b[0mn\u001b[0m \u001b[0;34m=\u001b[0m \u001b[0mx0\u001b[0m\u001b[0;34m.\u001b[0m\u001b[0msize\u001b[0m\u001b[0;34m\u001b[0m\u001b[0;34m\u001b[0m\u001b[0m\n",
      "\u001b[0;31mValueError\u001b[0m: Residuals are not finite in the initial point."
     ]
    }
   ],
   "source": [
    "test_BEM_fit_instance = fit.FitModelToData(simTestInst.BEM_images)\n",
    "test_BEM_fit_instance.fit_model_to_image_data()\n",
    "# test_BEM_fit_instance.plot_contour_fit_over_data(0)"
   ]
  },
  {
   "cell_type": "code",
   "execution_count": null,
   "metadata": {
    "collapsed": false
   },
   "outputs": [],
   "source": [
    "test_BEM_fit_instance.plot_fit_results_as_quiver_map(simTestInst)   "
   ]
  },
  {
   "cell_type": "code",
   "execution_count": null,
   "metadata": {
    "collapsed": false
   },
   "outputs": [],
   "source": [
    "locations, angles = fixed_ori_mol_placement(mol_grid_pts_1D=5, x_max=300, y_max=300)\n",
    "simTestInst_few_mol = SimulatedExperiment(locations, mol_angle=np.pi/2)\n",
    "simTestInst_few_mol.trial_images = simTestInst_few_mol.calculate_BEM_fields()"
   ]
  },
  {
   "cell_type": "code",
   "execution_count": null,
   "metadata": {
    "collapsed": false
   },
   "outputs": [],
   "source": [
    "simTestInst_few_mol.plot_mispol_map_wMisloc()"
   ]
  },
  {
   "cell_type": "code",
   "execution_count": null,
   "metadata": {
    "collapsed": false
   },
   "outputs": [],
   "source": [
    "test_BEM_fit_instance_few_mol = fit.FitModelToData(simTestInst_few_mol.BEM_images)\n",
    "test_BEM_fit_few_mol = test_BEM_fit_instance_few_mol.fit_model_to_image_data()\n",
    "# test_BEM_fit_instance.plot_contour_fit_over_data(0)"
   ]
  },
  {
   "cell_type": "code",
   "execution_count": null,
   "metadata": {
    "collapsed": false
   },
   "outputs": [],
   "source": [
    "test_BEM_fit_instance_few_mol.plot_fit_results_as_quiver_map(simTestInst_few_mol)   "
   ]
  },
  {
   "cell_type": "code",
   "execution_count": null,
   "metadata": {
    "collapsed": true
   },
   "outputs": [],
   "source": []
  },
  {
   "cell_type": "code",
   "execution_count": null,
   "metadata": {
    "collapsed": false
   },
   "outputs": [],
   "source": [
    "locations, angles = fixed_ori_mol_placement(mol_grid_pts_1D=7, x_max=300, y_max=300)\n",
    "simTestInst_few_more_mol = SimulatedExperiment(locations, mol_angle=np.pi/2)\n",
    "simTestInst_few_more_mol.trial_images = simTestInst_few_more_mol.calculate_BEM_fields()"
   ]
  },
  {
   "cell_type": "code",
   "execution_count": null,
   "metadata": {
    "collapsed": false
   },
   "outputs": [],
   "source": [
    "simTestInst_few_more_mol.plot_mispol_map_wMisloc()"
   ]
  },
  {
   "cell_type": "code",
   "execution_count": null,
   "metadata": {
    "collapsed": false
   },
   "outputs": [],
   "source": [
    "test_BEM_fit_instance_few_more_mol = fit.FitModelToData(simTestInst_few_more_mol.BEM_images)\n",
    "test_BEM_fit_few_more_mol = test_BEM_fit_instance_few_more_mol.fit_model_to_image_data()\n",
    "test_BEM_fit_instance_few_more_mol.plot_fit_results_as_quiver_map(simTestInst_few_more_mol)   "
   ]
  },
  {
   "cell_type": "code",
   "execution_count": null,
   "metadata": {
    "collapsed": true
   },
   "outputs": [],
   "source": []
  },
  {
   "cell_type": "code",
   "execution_count": null,
   "metadata": {
    "collapsed": true
   },
   "outputs": [],
   "source": []
  },
  {
   "cell_type": "code",
   "execution_count": null,
   "metadata": {
    "collapsed": true
   },
   "outputs": [],
   "source": []
  },
  {
   "cell_type": "code",
   "execution_count": null,
   "metadata": {
    "collapsed": true
   },
   "outputs": [],
   "source": []
  },
  {
   "cell_type": "code",
   "execution_count": null,
   "metadata": {
    "collapsed": true
   },
   "outputs": [],
   "source": []
  },
  {
   "cell_type": "code",
   "execution_count": null,
   "metadata": {
    "collapsed": true
   },
   "outputs": [],
   "source": []
  },
  {
   "cell_type": "code",
   "execution_count": null,
   "metadata": {
    "collapsed": true
   },
   "outputs": [],
   "source": []
  },
  {
   "cell_type": "code",
   "execution_count": null,
   "metadata": {
    "collapsed": true
   },
   "outputs": [],
   "source": []
  },
  {
   "cell_type": "code",
   "execution_count": null,
   "metadata": {
    "collapsed": true
   },
   "outputs": [],
   "source": []
  },
  {
   "cell_type": "code",
   "execution_count": null,
   "metadata": {
    "collapsed": true
   },
   "outputs": [],
   "source": []
  },
  {
   "cell_type": "code",
   "execution_count": null,
   "metadata": {
    "collapsed": true
   },
   "outputs": [],
   "source": []
  },
  {
   "cell_type": "code",
   "execution_count": null,
   "metadata": {
    "collapsed": true
   },
   "outputs": [],
   "source": []
  },
  {
   "cell_type": "code",
   "execution_count": null,
   "metadata": {
    "collapsed": true
   },
   "outputs": [],
   "source": []
  },
  {
   "cell_type": "code",
   "execution_count": null,
   "metadata": {
    "collapsed": true
   },
   "outputs": [],
   "source": []
  },
  {
   "cell_type": "code",
   "execution_count": null,
   "metadata": {
    "collapsed": true
   },
   "outputs": [],
   "source": []
  },
  {
   "cell_type": "code",
   "execution_count": null,
   "metadata": {
    "collapsed": true
   },
   "outputs": [],
   "source": []
  },
  {
   "cell_type": "code",
   "execution_count": null,
   "metadata": {
    "collapsed": true
   },
   "outputs": [],
   "source": []
  },
  {
   "cell_type": "code",
   "execution_count": null,
   "metadata": {
    "collapsed": true
   },
   "outputs": [],
   "source": []
  },
  {
   "cell_type": "code",
   "execution_count": null,
   "metadata": {
    "collapsed": true
   },
   "outputs": [],
   "source": []
  },
  {
   "cell_type": "code",
   "execution_count": null,
   "metadata": {
    "collapsed": false
   },
   "outputs": [],
   "source": [
    "test_BEM_fit_instance.model_fit_results"
   ]
  },
  {
   "cell_type": "code",
   "execution_count": null,
   "metadata": {
    "collapsed": false
   },
   "outputs": [],
   "source": [
    "# test_BEM_fit_instance.model_fit_results = test_BEM_fit_instance.model_fit_results*np.array([[1,-1,1]])"
   ]
  },
  {
   "cell_type": "code",
   "execution_count": null,
   "metadata": {
    "collapsed": false
   },
   "outputs": [],
   "source": [
    "test_BEM_fit_instance.plot_fit_results_as_quiver_map(simTestInst)  "
   ]
  },
  {
   "cell_type": "code",
   "execution_count": null,
   "metadata": {
    "collapsed": true
   },
   "outputs": [],
   "source": []
  },
  {
   "cell_type": "code",
   "execution_count": null,
   "metadata": {
    "collapsed": false,
    "scrolled": false
   },
   "outputs": [],
   "source": [
    "simTestInst_yMol = SimulatedExperiment(locations, mol_angle=0)\n",
    "simTestInst_yMol.plot_mispol_map_wMisloc()\n",
    "\n",
    "test_BEM_fit_instance_yMol = fit.FitModelToData(simTestInst_yMol.BEM_images)\n",
    "test_BEM_fit_yMol = test_BEM_fit_instance_yMol.fit_model_to_image_data()\n",
    "# test_BEM_fit_instance.plot_contour_fit_over_data(0)\n",
    "\n",
    "# test_BEM_fit_instance_yMol.model_fit_results = test_BEM_fit_instance_yMol.model_fit_results*np.array([[1,-1,1]])\n",
    "test_BEM_fit_instance_yMol.plot_fit_results_as_quiver_map(simTestInst_yMol)"
   ]
  },
  {
   "cell_type": "markdown",
   "metadata": {},
   "source": [
    "Seems to be working now, but not much better than the gaussian fits at this point. Arguably worse locatization, polarization seems significantly better but that could be due to the correct initial guess. "
   ]
  },
  {
   "cell_type": "markdown",
   "metadata": {
    "collapsed": true
   },
   "source": [
    "## Time to try and fit Curly's images. Should be able to feed the data into 'FitModelToData' after first loading the data in from the matlab files."
   ]
  },
  {
   "cell_type": "code",
   "execution_count": null,
   "metadata": {
    "collapsed": true
   },
   "outputs": [],
   "source": [
    "import scipy.io as sio"
   ]
  },
  {
   "cell_type": "code",
   "execution_count": null,
   "metadata": {
    "collapsed": false
   },
   "outputs": [],
   "source": [
    "mol_img_y_700_file = sio.loadmat('/Users/chair/Documents/Academia/SuperRes/Biteen_colab/from_Biteen_group/Curly_simulated_images_nrod_mol_downloaded_010818/mol_img_y_700.mat')"
   ]
  },
  {
   "cell_type": "code",
   "execution_count": null,
   "metadata": {
    "collapsed": false
   },
   "outputs": [],
   "source": [
    "mol_img_y_700 = mol_img_y_700_file['mol_img_y_700']"
   ]
  },
  {
   "cell_type": "code",
   "execution_count": null,
   "metadata": {
    "collapsed": false
   },
   "outputs": [],
   "source": [
    "mol_img_y_700.shape"
   ]
  },
  {
   "cell_type": "code",
   "execution_count": null,
   "metadata": {
    "collapsed": false
   },
   "outputs": [],
   "source": [
    "simTestInst_yMol.BEM_images.shape"
   ]
  },
  {
   "cell_type": "markdown",
   "metadata": {
    "collapsed": true
   },
   "source": [
    "Need to reshape Curly's data to match the BEM_images shape I have been using. "
   ]
  },
  {
   "cell_type": "code",
   "execution_count": null,
   "metadata": {
    "collapsed": true
   },
   "outputs": [],
   "source": [
    "reshaped_Curly_image_y_700nm = mol_img_y_700.reshape((99, 300*300))"
   ]
  },
  {
   "cell_type": "code",
   "execution_count": null,
   "metadata": {
    "collapsed": false
   },
   "outputs": [],
   "source": [
    "reshaped_Curly_image_y_700nm.shape"
   ]
  },
  {
   "cell_type": "markdown",
   "metadata": {
    "collapsed": true
   },
   "source": [
    "need to load in Curly's x and y coordinates and modify the 'FitModelToData' to accept coordinates different from 'eye' default. But first, lunch."
   ]
  },
  {
   "cell_type": "code",
   "execution_count": null,
   "metadata": {
    "collapsed": false
   },
   "outputs": [],
   "source": [
    "x_image_file = sio.loadmat('/Users/chair/Documents/Academia/SuperRes/Biteen_colab/from_Biteen_group/Curly_simulated_images_nrod_mol_downloaded_010818/x_image.mat')\n",
    "y_image_file = sio.loadmat('/Users/chair/Documents/Academia/SuperRes/Biteen_colab/from_Biteen_group/Curly_simulated_images_nrod_mol_downloaded_010818/y_image.mat')\n",
    "true_position_file = sio.loadmat('/Users/chair/Documents/Academia/SuperRes/Biteen_colab/from_Biteen_group/Curly_simulated_images_nrod_mol_downloaded_010818/true_position.mat')"
   ]
  },
  {
   "cell_type": "code",
   "execution_count": null,
   "metadata": {
    "collapsed": false
   },
   "outputs": [],
   "source": [
    "curly_x_space = x_image_file['x_image'][:, 0]\n",
    "curly_y_space = y_image_file['y_image'][:, 0]"
   ]
  },
  {
   "cell_type": "code",
   "execution_count": null,
   "metadata": {
    "collapsed": false
   },
   "outputs": [],
   "source": [
    "true_position_file['true_pos'].shape"
   ]
  },
  {
   "cell_type": "code",
   "execution_count": null,
   "metadata": {
    "collapsed": false
   },
   "outputs": [],
   "source": [
    "Curly_true_position = np.hstack((true_position_file['true_pos'], np.zeros((99,1))))"
   ]
  },
  {
   "cell_type": "code",
   "execution_count": null,
   "metadata": {
    "collapsed": true
   },
   "outputs": [],
   "source": [
    "class FitModelToCurlyData(fit.FitModelToData):\n",
    "    \"\"\"Should do the same thing as FitModelToData Except handle \n",
    "        Curly's grid of observation points \n",
    "    \n",
    "    Args:\n",
    "        image_data: same as super\n",
    "        obs_coords: Meshgrid of Curly's points\n",
    "        \n",
    "    Attributes:\n",
    "        default_plot_limits:\n",
    "        mol_locations:\n",
    "        mol_angles:\n",
    "        rod_angle:\n",
    "        \n",
    "    \"\"\"\n",
    "    pass"
   ]
  },
  {
   "cell_type": "markdown",
   "metadata": {},
   "source": [
    "Really I should build an Exp class for Curly's stuff, so the true positions are accessable to plotting functions"
   ]
  },
  {
   "cell_type": "markdown",
   "metadata": {},
   "source": [
    "I can actually do this with 'Simulation'"
   ]
  },
  {
   "cell_type": "code",
   "execution_count": null,
   "metadata": {
    "collapsed": true
   },
   "outputs": [],
   "source": [
    "class SimulatedCurlyExperiment():\n",
    "    "
   ]
  },
  {
   "cell_type": "code",
   "execution_count": null,
   "metadata": {
    "collapsed": true
   },
   "outputs": [],
   "source": []
  },
  {
   "cell_type": "code",
   "execution_count": null,
   "metadata": {
    "collapsed": false
   },
   "outputs": [],
   "source": [
    "Curly_X, Curly_Y = np.meshgrid(curly_x_space, curly_y_space)\n",
    "Curly_Simultation = SimulatedExperiment(locations=Curly_true_position,x_obv_grid=Curly_X, y_obv_grid=Curly_Y)\n"
   ]
  },
  {
   "cell_type": "markdown",
   "metadata": {
    "collapsed": true
   },
   "source": [
    "need a new class that doesnt automatically run BEM calculations. JK just commented out the line in Simulation.\\__init\\__ that ran the BEM calculations and stored the results as self.BEM_images"
   ]
  },
  {
   "cell_type": "code",
   "execution_count": null,
   "metadata": {
    "collapsed": false
   },
   "outputs": [],
   "source": [
    "class FitModelToAnyData(fit.FitModelToData):\n",
    "    \n",
    "    def __init__(self, image_data, \n",
    "                 x_obv_grid=eye[1],\n",
    "                 y_obv_grid=eye[2]):\n",
    "        \n",
    "        self.mol_angle=0 \n",
    "        self.rod_angle=np.pi/2\n",
    "\n",
    "        self.x_obv_grid=x_obv_grid\n",
    "        self.y_obv_grid=y_obv_grid\n",
    "        \n",
    "        self.image_data = image_data"
   ]
  },
  {
   "cell_type": "code",
   "execution_count": null,
   "metadata": {
    "collapsed": true
   },
   "outputs": [],
   "source": [
    "Fit_Curly_images = FitModelToAnyData(reshaped_Curly_image_y_700nm, Curly_X, Curly_Y)"
   ]
  },
  {
   "cell_type": "code",
   "execution_count": null,
   "metadata": {
    "collapsed": false
   },
   "outputs": [],
   "source": [
    "Fit_Curly_images.plot_fit_results_as_quiver_map(Curly_Simultation)"
   ]
  },
  {
   "cell_type": "code",
   "execution_count": null,
   "metadata": {
    "collapsed": true
   },
   "outputs": [],
   "source": []
  },
  {
   "cell_type": "code",
   "execution_count": null,
   "metadata": {
    "collapsed": true
   },
   "outputs": [],
   "source": []
  },
  {
   "cell_type": "code",
   "execution_count": null,
   "metadata": {
    "collapsed": true
   },
   "outputs": [],
   "source": []
  },
  {
   "cell_type": "code",
   "execution_count": null,
   "metadata": {
    "collapsed": true
   },
   "outputs": [],
   "source": []
  },
  {
   "cell_type": "code",
   "execution_count": null,
   "metadata": {
    "collapsed": true
   },
   "outputs": [],
   "source": []
  },
  {
   "cell_type": "code",
   "execution_count": null,
   "metadata": {
    "collapsed": true
   },
   "outputs": [],
   "source": []
  },
  {
   "cell_type": "code",
   "execution_count": null,
   "metadata": {
    "collapsed": true
   },
   "outputs": [],
   "source": []
  },
  {
   "cell_type": "code",
   "execution_count": null,
   "metadata": {
    "collapsed": true
   },
   "outputs": [],
   "source": []
  },
  {
   "cell_type": "code",
   "execution_count": null,
   "metadata": {
    "collapsed": true
   },
   "outputs": [],
   "source": []
  },
  {
   "cell_type": "code",
   "execution_count": null,
   "metadata": {
    "collapsed": true
   },
   "outputs": [],
   "source": []
  },
  {
   "cell_type": "code",
   "execution_count": null,
   "metadata": {
    "collapsed": true
   },
   "outputs": [],
   "source": []
  },
  {
   "cell_type": "code",
   "execution_count": null,
   "metadata": {
    "collapsed": true
   },
   "outputs": [],
   "source": []
  }
 ],
 "metadata": {
  "anaconda-cloud": {},
  "kernelspec": {
   "display_name": "Python [conda env:py36]",
   "language": "python",
   "name": "conda-env-py36-py"
  },
  "language_info": {
   "codemirror_mode": {
    "name": "ipython",
    "version": 3
   },
   "file_extension": ".py",
   "mimetype": "text/x-python",
   "name": "python",
   "nbconvert_exporter": "python",
   "pygments_lexer": "ipython3",
   "version": "3.6.7"
  }
 },
 "nbformat": 4,
 "nbformat_minor": 1
}
