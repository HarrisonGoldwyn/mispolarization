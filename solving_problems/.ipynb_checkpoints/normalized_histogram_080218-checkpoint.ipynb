{
 "cells": [
  {
   "cell_type": "code",
   "execution_count": 138,
   "metadata": {
    "collapsed": false,
    "scrolled": true
   },
   "outputs": [],
   "source": [
    "from __future__ import print_function\n",
    "from __future__ import division\n",
    "\n",
    "import pdb\n",
    "import sys\n",
    "import os\n",
    "import numpy as np\n",
    "import scipy.optimize as opt\n",
    "import scipy.io as sio\n",
    "import scipy.special as spf\n",
    "import yaml\n",
    "\n",
    "## import diffrantion integral solver from Optics folder\n",
    "work_dir = os.getcwd()\n",
    "date_dir = os.path.split(work_dir)[0]\n",
    "optics_folder = os.path.join(date_dir, 'Optics')\n",
    "sys.path.append(optics_folder)\n",
    "import diffraction_int as diffi\n",
    "import fibonacci as fib\n",
    "\n",
    "## Import field functions\n",
    "field_module_folder = os.path.join(date_dir, 'field_functions')             \n",
    "sys.path.append(field_module_folder)\n",
    "import far_fields as fi\n",
    "\n",
    "## Read parameter file to obtain fields\n",
    "stream = open('param.yaml','r')\n",
    "parameters = yaml.load(stream)\n",
    "\n",
    "\n",
    "## plotting stuff\n",
    "import matplotlib.pyplot as plt\n",
    "% matplotlib inline\n",
    "\n",
    "\n",
    "## colorbar stuff \n",
    "from mpl_toolkits import axes_grid1\n",
    "\n",
    "## Fourier solution to dipole dynamics\n",
    "import eqm_slns as osc\n",
    "\n",
    "## analytic image functions\n",
    "import analytic_intensity_functions_xyz as imf\n",
    "\n",
    "## dipole moments as functions of separation, not pulled from param file\n",
    "import p_of_d as pod\n",
    "\n",
    "## pretty fitting\n",
    "import lmfit as lf\n",
    "\n",
    "\n",
    "\n",
    "\n",
    "## Import physical constants\n",
    "full_path_to_constant_yaml = os.path.join(date_dir,'physical_constants.yaml')\n",
    "opened_constant_file = open(full_path_to_constant_yaml,'r')\n",
    "constants = yaml.load(opened_constant_file)\n",
    "e = constants['physical_constants']['e']\n",
    "c = constants['physical_constants']['c']  # charge of electron in statcoloumbs\n",
    "hbar =constants['physical_constants']['hbar']\n",
    "nm = constants['physical_constants']['nm']\n",
    "n_a = constants['physical_constants']['nA']   # Avogadro's number\n",
    "# Z_o = 376.7303 # impedence of free space in ohms (SI)\n",
    "\n",
    "## System background\n",
    "n_b = parameters['general']['background_ref_index']\n",
    "eps_b = n_b**2.\n",
    "\n",
    "a = parameters['plasmon']['radius']\n",
    "#######################################################################\n",
    "## simulated image \n",
    "sensor_size = 4000*nm\n",
    "# height = 2*mm  # also defines objective lens focal length \n",
    "height = 2e6*nm\n",
    "resolution = 100  # image grid resolution\n",
    "\n",
    "norm_style = 'per fig'  # 'per fig' or 'across figs'\n",
    "\n",
    "show_or_save = 'show'\n",
    "# show_or_save = raw_input('( show / save ) figures? ')\n",
    "\n",
    "file_extension = 'pdf'  # 'pdf' for mest quality\n",
    "\n",
    "## plot parameters\n",
    "plot_scale = 1/nm\n",
    "\n",
    "#######################################################################\n",
    "## Optics stuff.  \n",
    "\n",
    "## Build image sensor\n",
    "eye = diffi.observation_points(\n",
    "    x_min= -sensor_size/2, \n",
    "    x_max= sensor_size/2,\n",
    "    y_min= -sensor_size/2, \n",
    "    y_max= sensor_size/2, \n",
    "    points= resolution\n",
    "    )\n",
    "\n",
    "## Experimental parameters\n",
    "magnification = 1\n",
    "numerical_aperture = 1\n",
    "max_theta = np.arcsin(numerical_aperture) # defines physical aperture size\n",
    "\n",
    "## numerical parameters for calculation of scattered field\n",
    "lens_points = 1000\n",
    "\n",
    "# obj_f = 1.*mm  # still dont know what this is supposed to be\n",
    "obj_f = height\n",
    "\n",
    "tube_f = magnification * obj_f\n",
    "\n"
   ]
  },
  {
   "cell_type": "code",
   "execution_count": 139,
   "metadata": {
    "collapsed": true,
    "scrolled": true
   },
   "outputs": [],
   "source": [
    "import anal_foc_diff_fields as afi"
   ]
  },
  {
   "cell_type": "code",
   "execution_count": 140,
   "metadata": {
    "collapsed": true,
    "scrolled": true
   },
   "outputs": [],
   "source": [
    "## calculate dipole magnitudes\n",
    "drive_hbar_omega = parameters['general']['drive_energy']\n",
    "omega_drive = osc.eV_to_Hz(drive_hbar_omega)  # driving frequency"
   ]
  },
  {
   "cell_type": "code",
   "execution_count": 141,
   "metadata": {
    "collapsed": true,
    "scrolled": true
   },
   "outputs": [],
   "source": [
    "def make_cartesien_angles_array(angle_vector):\n",
    "    x_comp = np.cos(angle_vector)\n",
    "    y_comp = np.sin(angle_vector)\n",
    "    z_comp = 0*angle_vector\n",
    "    unit_vec = np.vstack((x_comp, y_comp, z_comp))\n",
    "\n",
    "    row_vecs = unit_vec.T # each rwo gives the (x,y) components of the dipole unit vector\n",
    "\n",
    "    mol_dipole_unit_vec = row_vecs\n",
    "        \n",
    "    return mol_dipole_unit_vec"
   ]
  },
  {
   "cell_type": "code",
   "execution_count": 142,
   "metadata": {
    "collapsed": true,
    "scrolled": true
   },
   "outputs": [],
   "source": [
    "def define_p_test_array(mol_dipole_moment_unit):\n",
    "    p = np.vstack((\n",
    "    mol_dipole_moment_unit[:,0]*1, \n",
    "    mol_dipole_moment_unit[:,1]*1, \n",
    "    mol_dipole_moment_unit[:,2]*1\n",
    "    )).T \n",
    "    return p"
   ]
  },
  {
   "cell_type": "code",
   "execution_count": 143,
   "metadata": {
    "collapsed": true,
    "scrolled": true
   },
   "outputs": [],
   "source": [
    "def p_field(dipole_mag_array):\n",
    "    p = dipole_mag_array\n",
    "\n",
    "    px_fields = np.asarray(afi.E_field(0, eye[1], eye[2], omega_drive*n_b/c))\n",
    "    py_fields = np.asarray(afi.E_field(np.pi/2, eye[1], eye[2], omega_drive*n_b/c))\n",
    "    pz_fields = np.zeros(py_fields.shape)\n",
    "    ## returns [Ex, Ey, Ez] for dipoles oriented along cart units\n",
    "    \n",
    "    Ex = p[:,0,None]*px_fields[0].ravel() + p[:,1,None]*py_fields[0].ravel() + p[:,2,None]*pz_fields[0].ravel()\n",
    "    Ey = p[:,0,None]*px_fields[1].ravel() + p[:,1,None]*py_fields[1].ravel() + p[:,2,None]*pz_fields[1].ravel()\n",
    "    Ez = p[:,0,None]*px_fields[2].ravel() + p[:,1,None]*py_fields[2].ravel() + p[:,2,None]*pz_fields[2].ravel()\n",
    "\n",
    "    return [Ex, Ey, Ez]"
   ]
  },
  {
   "cell_type": "code",
   "execution_count": 146,
   "metadata": {
    "collapsed": false,
    "scrolled": true
   },
   "outputs": [
    {
     "data": {
      "text/plain": [
       "<matplotlib.legend.Legend at 0x1260f1fd0>"
      ]
     },
     "execution_count": 146,
     "metadata": {},
     "output_type": "execute_result"
    },
    {
     "data": {
      "image/png": "[encoded data removed]",
      "text/plain": [
       "<matplotlib.figure.Figure at 0x12559bed0>"
      ]
     },
     "metadata": {},
     "output_type": "display_data"
    }
   ],
   "source": [
    "# define angles\n",
    "ordered_angles = np.linspace(0,2*np.pi,4000)\n",
    "\n",
    "# define cartesien components of pipole unit vector\n",
    "ordered_dipole_unit_array = make_cartesien_angles_array(ordered_angles)\n",
    "\n",
    "# Calcualte p0 from coupled equations of motion\n",
    "ordered_p0_array = define_p_test_array(ordered_dipole_unit_array)\n",
    "\n",
    "# Calculate fields from dipole moment array\n",
    "ord_E = p_field(ordered_p0_array)\n",
    "\n",
    "# power for x and y components by integrating Ex^2 and Ey^2 across the detector\n",
    "Px, Py = np.sum(np.abs(ord_E[0])**2.,axis=-1), np.sum(np.abs(ord_E[1])**2.,axis=-1)\n",
    "ord_mag_Ex, ord_mag_Ey = np.sum(np.abs(ord_E[0]),axis=-1), np.sum(np.abs(ord_E[1]),axis=-1)\n",
    "\n",
    "\n",
    "# Observed angles = arctan( |Ey|/|Ex| )\n",
    "ord_observed_angles = np.arctan(ord_mag_Ey/ord_mag_Ex)\n",
    "\n",
    "plt.plot(ordered_angles, ord_mag_Ex, label='|Ex|')\n",
    "plt.plot(ordered_angles, ord_mag_Ey, label='|Ey|')\n",
    "# plt.plot(angles, mag_Ex**2., label='|Ex|^2')\n",
    "plt.ylabel('E')\n",
    "plt.xlabel('actual angle')\n",
    "ticks = [0,np.pi/4,np.pi/2,3*np.pi/4,np.pi, 2*np.pi]\n",
    "tick_labels = [0, r'$\\pi/4$',r'$\\pi/2$',r'$3\\pi/4$', r'$\\pi$',r'$2\\pi$']\n",
    "plt.xticks(ticks, tick_labels)\n",
    "# plt.yticks([0,np.pi/16,np.pi/8,np.pi/4], \n",
    "#           [r'$0$', r'$\\pi/16$',r'$\\pi/8$',r'$\\pi/4$'])\n",
    "plt.plot(ordered_angles, ord_mag_Ex+ord_mag_Ey, label='|Ex|+|Ey|')\n",
    "plt.legend()"
   ]
  },
  {
   "cell_type": "code",
   "execution_count": 147,
   "metadata": {
    "collapsed": false
   },
   "outputs": [
    {
     "data": {
      "text/plain": [
       "<matplotlib.legend.Legend at 0x10b5c2390>"
      ]
     },
     "execution_count": 147,
     "metadata": {},
     "output_type": "execute_result"
    },
    {
     "data": {
      "image/png": "[encoded data removed]",
      "text/plain": [
       "<matplotlib.figure.Figure at 0x16467e550>"
      ]
     },
     "metadata": {},
     "output_type": "display_data"
    }
   ],
   "source": [
    "plt.plot(ordered_angles, ord_mag_Ex**2., label='|Ex|^2')\n",
    "plt.plot(ordered_angles, ord_mag_Ey**2., label='|Ey|^2')\n",
    "# plt.plot(angles, mag_Ex**2., label='|Ex|^2')\n",
    "plt.ylabel('E')\n",
    "plt.xlabel('actual angle')\n",
    "ticks = [0,np.pi/4,np.pi/2,3*np.pi/4,np.pi, 2*np.pi]\n",
    "tick_labels = [0, r'$\\pi/4$',r'$\\pi/2$',r'$3\\pi/4$', r'$\\pi$',r'$2\\pi$']\n",
    "plt.xticks(ticks, tick_labels)\n",
    "# plt.yticks([0,np.pi/16,np.pi/8,np.pi/4], \n",
    "#           [r'$0$', r'$\\pi/16$',r'$\\pi/8$',r'$\\pi/4$'])\n",
    "plt.plot(ordered_angles, ord_mag_Ex**2.+ord_mag_Ey**2., label='|Ex|^2+|Ey|^2')\n",
    "plt.legend()"
   ]
  },
  {
   "cell_type": "code",
   "execution_count": 150,
   "metadata": {
    "collapsed": false
   },
   "outputs": [
    {
     "data": {
      "text/plain": [
       "<matplotlib.text.Text at 0x1635e2d10>"
      ]
     },
     "execution_count": 150,
     "metadata": {},
     "output_type": "execute_result"
    },
    {
     "data": {
      "image/png": "[encoded data removed]",
      "text/plain": [
       "<matplotlib.figure.Figure at 0x1269d8c50>"
      ]
     },
     "metadata": {},
     "output_type": "display_data"
    }
   ],
   "source": [
    "plt.plot(ordered_angles,ord_mag_Ey/ord_mag_Ex, label='|Ex|^2+|Ey|^2')\n",
    "ticks = [0,np.pi/4,np.pi/2,3*np.pi/4,np.pi, 2*np.pi]\n",
    "tick_labels = [0, r'$\\pi/4$',r'$\\pi/2$',r'$3\\pi/4$', r'$\\pi$',r'$2\\pi$']\n",
    "plt.xticks(ticks, tick_labels)\n",
    "plt.ylabel('|Ey|/|Ex|')"
   ]
  },
  {
   "cell_type": "code",
   "execution_count": 148,
   "metadata": {
    "collapsed": false
   },
   "outputs": [
    {
     "data": {
      "text/plain": [
       "([<matplotlib.axis.YTick at 0x1269c9590>,\n",
       "  <matplotlib.axis.YTick at 0x1269c92d0>,\n",
       "  <matplotlib.axis.YTick at 0x165950c90>,\n",
       "  <matplotlib.axis.YTick at 0x16ad8ed50>,\n",
       "  <matplotlib.axis.YTick at 0x16ad8ea10>,\n",
       "  <matplotlib.axis.YTick at 0x16ad9b290>],\n",
       " <a list of 6 Text yticklabel objects>)"
      ]
     },
     "execution_count": 148,
     "metadata": {},
     "output_type": "execute_result"
    },
    {
     "data": {
      "image/png": "[encoded data removed]",
      "text/plain": [
       "<matplotlib.figure.Figure at 0x16fb25750>"
      ]
     },
     "metadata": {},
     "output_type": "display_data"
    }
   ],
   "source": [
    "plt.plot(ordered_angles,ord_observed_angles)\n",
    "plt.ylabel('observed angle')\n",
    "plt.xlabel('actual angle')\n",
    "ticks = [0,np.pi/4,np.pi/2,3*np.pi/4,np.pi, 2*np.pi]\n",
    "tick_labels = [0, r'$\\pi/4$',r'$\\pi/2$',r'$3\\pi/4$', r'$\\pi$',r'$2\\pi$']\n",
    "plt.xticks(ticks, tick_labels)\n",
    "plt.yticks([0,np.pi/16,np.pi/8,np.pi/4,3*np.pi/8,np.pi/2], \n",
    "          [r'$0$', r'$\\pi/16$',r'$\\pi/8$',r'$\\pi/4$',r'$3\\pi/8$',r'$\\pi/2$'])"
   ]
  },
  {
   "cell_type": "code",
   "execution_count": 155,
   "metadata": {
    "collapsed": false,
    "scrolled": false
   },
   "outputs": [
    {
     "data": {
      "text/plain": [
       "<matplotlib.legend.Legend at 0x16c6b6f90>"
      ]
     },
     "execution_count": 155,
     "metadata": {},
     "output_type": "execute_result"
    },
    {
     "data": {
      "image/png": "[encoded data removed]",
      "text/plain": [
       "<matplotlib.figure.Figure at 0x162348790>"
      ]
     },
     "metadata": {},
     "output_type": "display_data"
    }
   ],
   "source": [
    "ord_normed_mag_Ey = ord_mag_Ey - ord_mag_Ey[0]\n",
    "ord_normed_mag_Ex = ord_mag_Ex - ord_mag_Ey[0]\n",
    "\n",
    "ord_fixed_observed_angles = np.arctan(ord_normed_mag_Ey**0.5/ord_normed_mag_Ex**0.5)\n",
    "\n",
    "plt.plot(ordered_angles, ord_normed_mag_Ex, label='|Ex|')\n",
    "plt.plot(ordered_angles, ord_normed_mag_Ey, label='|Ey|')\n",
    "# plt.plot(angles, mag_Ex**2., label='|Ex|^2')\n",
    "plt.ylabel('E')\n",
    "plt.xlabel('actual angle')\n",
    "ticks = [0,np.pi/4,np.pi/2,3*np.pi/4,np.pi, 2*np.pi]\n",
    "tick_labels = [0, r'$\\pi/4$',r'$\\pi/2$',r'$3\\pi/4$', r'$\\pi$',r'$2\\pi$']\n",
    "plt.xticks(ticks, tick_labels)\n",
    "# plt.yticks([0,np.pi/16,np.pi/8,np.pi/4], \n",
    "#           [r'$0$', r'$\\pi/16$',r'$\\pi/8$',r'$\\pi/4$'])\n",
    "plt.legend()"
   ]
  },
  {
   "cell_type": "code",
   "execution_count": 156,
   "metadata": {
    "collapsed": false
   },
   "outputs": [
    {
     "data": {
      "text/plain": [
       "([<matplotlib.axis.YTick at 0x162536a10>,\n",
       "  <matplotlib.axis.YTick at 0x1279bbf90>,\n",
       "  <matplotlib.axis.YTick at 0x16ae8bdd0>,\n",
       "  <matplotlib.axis.YTick at 0x165883c50>,\n",
       "  <matplotlib.axis.YTick at 0x165883950>,\n",
       "  <matplotlib.axis.YTick at 0x1258b6390>],\n",
       " <a list of 6 Text yticklabel objects>)"
      ]
     },
     "execution_count": 156,
     "metadata": {},
     "output_type": "execute_result"
    },
    {
     "data": {
      "image/png": "[encoded data removed]",
      "text/plain": [
       "<matplotlib.figure.Figure at 0x16253ed90>"
      ]
     },
     "metadata": {},
     "output_type": "display_data"
    }
   ],
   "source": [
    "plt.plot(ordered_angles,ord_fixed_observed_angles)\n",
    "plt.ylabel('observed angle')\n",
    "plt.xlabel('actual angle')\n",
    "ticks = [0,np.pi/4,np.pi/2,3*np.pi/4,np.pi, 2*np.pi]\n",
    "tick_labels = [0, r'$\\pi/4$',r'$\\pi/2$',r'$3\\pi/4$', r'$\\pi$',r'$2\\pi$']\n",
    "plt.xticks(ticks, tick_labels)\n",
    "plt.yticks([0,np.pi/16,np.pi/8,np.pi/4,3*np.pi/8,np.pi/2], \n",
    "          [r'$0$', r'$\\pi/16$',r'$\\pi/8$',r'$\\pi/4$',r'$3\\pi/8$',r'$\\pi/2$'])"
   ]
  },
  {
   "cell_type": "code",
   "execution_count": null,
   "metadata": {
    "collapsed": true
   },
   "outputs": [],
   "source": [
    "ord_normed_mag_Ey = ord_mag_Ey - ord_mag_Ey[0]\n",
    "ord_normed_mag_Ex = ord_mag_Ex - ord_mag_Ey[0]\n",
    "\n",
    "ord_fixed_observed_angles = np.arctan(ord_normed_mag_Ey**0.5/ord_normed_mag_Ex**0.5)\n",
    "\n",
    "plt.plot(ordered_angles, ord_normed_mag_Ex, label='|Ex|')\n",
    "plt.plot(ordered_angles, ord_normed_mag_Ey, label='|Ey|')\n",
    "# plt.plot(angles, mag_Ex**2., label='|Ex|^2')\n",
    "plt.ylabel('E')\n",
    "plt.xlabel('actual angle')\n",
    "ticks = [0,np.pi/4,np.pi/2,3*np.pi/4,np.pi, 2*np.pi]\n",
    "tick_labels = [0, r'$\\pi/4$',r'$\\pi/2$',r'$3\\pi/4$', r'$\\pi$',r'$2\\pi$']\n",
    "plt.xticks(ticks, tick_labels)\n",
    "# plt.yticks([0,np.pi/16,np.pi/8,np.pi/4], \n",
    "#           [r'$0$', r'$\\pi/16$',r'$\\pi/8$',r'$\\pi/4$'])\n",
    "plt.legend()"
   ]
  },
  {
   "cell_type": "code",
   "execution_count": 157,
   "metadata": {
    "collapsed": false,
    "scrolled": true
   },
   "outputs": [],
   "source": [
    "# define angles\n",
    "angles = np.random.random(10000)*2*np.pi\n",
    "\n",
    "# define cartesien components of pipole unit vector\n",
    "dipole_unit_array = make_cartesien_angles_array(angles)\n",
    "\n",
    "# Calcualte p0 from coupled equations of motion\n",
    "p0_array = define_p_test_array(dipole_unit_array)\n",
    "\n",
    "# Calculate fields from dipole moment array\n",
    "E = p_field(p0_array)\n",
    "\n",
    "# power for x and y components by integrating Ex^2 and Ey^2 across the detector\n",
    "Px, Py = np.sum(np.abs(E[0])**2.,axis=-1), np.sum(np.abs(E[1])**2.,axis=-1)\n",
    "mag_Ex, mag_Ey = np.sum(np.abs(E[0])**2,axis=-1)**0.5, np.sum(np.abs(E[1])**2.0,axis=-1)**0.5\n",
    "\n",
    "\n",
    "# Observed angles = arctan( |Ey|/|Ex| )\n",
    "observed_angles = np.arctan(mag_Ey/mag_Ex)"
   ]
  },
  {
   "cell_type": "code",
   "execution_count": 158,
   "metadata": {
    "collapsed": false,
    "scrolled": true
   },
   "outputs": [],
   "source": [
    "mini_field = np.min(mag_Ex)"
   ]
  },
  {
   "cell_type": "code",
   "execution_count": 159,
   "metadata": {
    "collapsed": false,
    "scrolled": true
   },
   "outputs": [
    {
     "data": {
      "text/plain": [
       "<matplotlib.text.Text at 0x162536090>"
      ]
     },
     "execution_count": 159,
     "metadata": {},
     "output_type": "execute_result"
    },
    {
     "data": {
      "image/png": "[encoded data removed]",
      "text/plain": [
       "<matplotlib.figure.Figure at 0x169f388d0>"
      ]
     },
     "metadata": {},
     "output_type": "display_data"
    }
   ],
   "source": [
    "histo_normed_mag_Ey = mag_Ey - mini_field\n",
    "histo_normed_mag_Ex = mag_Ex - mini_field\n",
    "\n",
    "histo_fixed_observed_angles = np.arctan(histo_normed_mag_Ey/histo_normed_mag_Ex)\n",
    "\n",
    "plt.hist(histo_fixed_observed_angles,50)\n",
    "plt.xticks([0,np.pi/16,np.pi/8,np.pi/4,3*np.pi/8,np.pi/2], \n",
    "          [r'$0$', r'$\\pi/16$',r'$\\pi/8$',r'$\\pi/4$',r'$3\\pi/8$',r'$\\pi/2$'])\n",
    "plt.ylabel('molecule images')\n",
    "plt.xlabel(r'observed angle ($\\arctan(P_y/P_x))$')"
   ]
  },
  {
   "cell_type": "code",
   "execution_count": 53,
   "metadata": {
    "collapsed": false,
    "scrolled": true
   },
   "outputs": [
    {
     "data": {
      "text/plain": [
       "<matplotlib.text.Text at 0x11920d710>"
      ]
     },
     "execution_count": 53,
     "metadata": {},
     "output_type": "execute_result"
    },
    {
     "data": {
      "image/png": "[encoded data removed]",
      "text/plain": [
       "<matplotlib.figure.Figure at 0x1194dcf10>"
      ]
     },
     "metadata": {},
     "output_type": "display_data"
    }
   ],
   "source": [
    "plt.hist(histo_fixed_observed_angles,10)\n",
    "plt.xticks([0,np.pi/8,np.pi/4,3*np.pi/8,np.pi/2], \n",
    "          [r'$0$',r'$\\pi/8$',r'$\\pi/4$',r'$3\\pi/8$',r'$\\pi/2$'])\n",
    "plt.ylabel('molecule emission events')\n",
    "plt.xlabel(r'observed angle ($\\arctan(P_y/P_x))$')"
   ]
  },
  {
   "cell_type": "code",
   "execution_count": 63,
   "metadata": {
    "collapsed": false,
    "scrolled": true
   },
   "outputs": [
    {
     "data": {
      "text/plain": [
       "(20000,)"
      ]
     },
     "execution_count": 63,
     "metadata": {},
     "output_type": "execute_result"
    }
   ],
   "source": [
    "histo_normed_mag_Ex.shape"
   ]
  },
  {
   "cell_type": "code",
   "execution_count": 64,
   "metadata": {
    "collapsed": false,
    "scrolled": true
   },
   "outputs": [
    {
     "data": {
      "text/plain": [
       "4000.0"
      ]
     },
     "execution_count": 64,
     "metadata": {},
     "output_type": "execute_result"
    }
   ],
   "source": [
    "20000/5"
   ]
  },
  {
   "cell_type": "code",
   "execution_count": 21,
   "metadata": {
    "collapsed": false,
    "scrolled": true
   },
   "outputs": [],
   "source": [
    "reshaped_for_5sum_Ex = histo_normed_mag_Ex.reshape((2000,5))\n",
    "reshaped_for_5sum_Ey = histo_normed_mag_Ey.reshape((2000,5))"
   ]
  },
  {
   "cell_type": "code",
   "execution_count": 22,
   "metadata": {
    "collapsed": false,
    "scrolled": true
   },
   "outputs": [],
   "source": [
    "averaged_5sum = np.sum(reshaped_for_5sum_Ey,axis=-1)"
   ]
  },
  {
   "cell_type": "code",
   "execution_count": 24,
   "metadata": {
    "collapsed": false,
    "scrolled": true
   },
   "outputs": [
    {
     "data": {
      "text/plain": [
       "(2000,)"
      ]
     },
     "execution_count": 24,
     "metadata": {},
     "output_type": "execute_result"
    }
   ],
   "source": [
    "averaged_5sum.shape"
   ]
  },
  {
   "cell_type": "markdown",
   "metadata": {},
   "source": [
    "08/01/18: time to get average working"
   ]
  },
  {
   "cell_type": "code",
   "execution_count": 46,
   "metadata": {
    "collapsed": true,
    "scrolled": true
   },
   "outputs": [],
   "source": [
    "def von_Mises(x, mu, kappa):\n",
    "    f = np.exp(kappa * np.cos(x - mu)) / (2 * np.pi * spf.iv(0,kappa))\n",
    "    return f"
   ]
  },
  {
   "cell_type": "code",
   "execution_count": 27,
   "metadata": {
    "collapsed": false,
    "scrolled": true
   },
   "outputs": [
    {
     "data": {
      "text/plain": [
       "2.7182818284590451"
      ]
     },
     "execution_count": 27,
     "metadata": {},
     "output_type": "execute_result"
    }
   ],
   "source": [
    "np.exp(1)"
   ]
  },
  {
   "cell_type": "code",
   "execution_count": null,
   "metadata": {
    "collapsed": true,
    "scrolled": true
   },
   "outputs": [],
   "source": [
    "np.random.vonmises(mu, kappa, size=None)"
   ]
  },
  {
   "cell_type": "code",
   "execution_count": 30,
   "metadata": {
    "collapsed": false,
    "scrolled": true
   },
   "outputs": [
    {
     "data": {
      "text/plain": [
       "(2, 2)"
      ]
     },
     "execution_count": 30,
     "metadata": {},
     "output_type": "execute_result"
    }
   ],
   "source": [
    "np.broadcast(np.array([1,2]),np.array([[1,2],[3,4]])).shape"
   ]
  },
  {
   "cell_type": "markdown",
   "metadata": {},
   "source": [
    "testing sampling from multiple vonMises distributions"
   ]
  },
  {
   "cell_type": "code",
   "execution_count": 84,
   "metadata": {
    "collapsed": false,
    "scrolled": true
   },
   "outputs": [],
   "source": [
    "# some_rand_angles = np.random.random(10)*2*np.pi\n",
    "mean_angles = np.linspace(0,2*np.pi,10)\n",
    "\n",
    "inverse_VM_width = 100\n",
    "samples_per_avrg = 100\n",
    "\n",
    "VM_samples = np.random.vonmises(mu=mean_angles[:,None], kappa=inverse_VM_width*np.ones((samples_per_avrg)), size=None)\n"
   ]
  },
  {
   "cell_type": "code",
   "execution_count": 82,
   "metadata": {
    "collapsed": false,
    "scrolled": true
   },
   "outputs": [
    {
     "data": {
      "image/png": "[encoded data removed]",
      "text/plain": [
       "<matplotlib.figure.Figure at 0x126a19e10>"
      ]
     },
     "metadata": {},
     "output_type": "display_data"
    }
   ],
   "source": [
    "for mean in range(VM_samples.shape[0]):\n",
    "    hist_data = VM_samples[mean]\n",
    "    bins = 50\n",
    "\n",
    "    histo_plot = plt.hist(hist_data,bins)\n",
    "\n",
    "# sample_dist_vec = np.linspace(np.min(VM_samples[0],50),np.max(VM_samples[0],50),100)\n",
    "# plt.plot(sample_dist_vec, von_Mises(sample_dist_vec, mu, kappa))"
   ]
  },
  {
   "cell_type": "markdown",
   "metadata": {},
   "source": [
    "looks good."
   ]
  },
  {
   "cell_type": "code",
   "execution_count": 165,
   "metadata": {
    "collapsed": true,
    "scrolled": true
   },
   "outputs": [],
   "source": [
    "number_of_molecules = 2\n",
    "mean_angles = np.random.random(number_of_molecules)*np.pi*2 - np.pi\n",
    "# mean_angles = np.linspace(0,2*np.pi,10)\n",
    "\n",
    "inverse_VM_width = 10\n",
    "samples_per_avrg = 100\n",
    "\n",
    "rand_VM_samples = np.random.vonmises(mu=mean_angles[:,None], kappa=inverse_VM_width*np.ones((samples_per_avrg)), size=None)"
   ]
  },
  {
   "cell_type": "code",
   "execution_count": 166,
   "metadata": {
    "collapsed": false,
    "scrolled": true
   },
   "outputs": [
    {
     "data": {
      "image/png": "[encoded data removed]",
      "text/plain": [
       "<matplotlib.figure.Figure at 0x128076550>"
      ]
     },
     "metadata": {},
     "output_type": "display_data"
    }
   ],
   "source": [
    "bins = 50\n",
    "for mean in range(rand_VM_samples.shape[0]):\n",
    "    hist_data = rand_VM_samples[mean]\n",
    "    histo_plot = plt.hist(hist_data,bins,range=(-np.pi,np.pi))"
   ]
  },
  {
   "cell_type": "code",
   "execution_count": 220,
   "metadata": {
    "collapsed": true
   },
   "outputs": [],
   "source": [
    "number_of_molecules = 1000\n",
    "samples_per_avrg = 10\n",
    "\n",
    "mean_angles = np.random.random(number_of_molecules)*np.pi*2 - np.pi\n",
    "# mean_angles = np.linspace(0,2*np.pi,10)\n",
    "\n",
    "inverse_VM_width = 10\n",
    "\n",
    "\n",
    "rand_VM_samples = np.random.vonmises(mu=mean_angles[:,None], kappa=inverse_VM_width*np.ones((samples_per_avrg)), size=None)"
   ]
  },
  {
   "cell_type": "code",
   "execution_count": 221,
   "metadata": {
    "collapsed": false
   },
   "outputs": [],
   "source": [
    "angles = rand_VM_samples.ravel()\n",
    "\n",
    "# define cartesien components of pipole unit vector\n",
    "dipole_unit_array = make_cartesien_angles_array(angles)\n",
    "\n",
    "# Calcualte p0 from coupled equations of motion\n",
    "p0_array = define_p_test_array(dipole_unit_array)\n",
    "\n",
    "# Calculate fields from dipole moment array\n",
    "E = p_field(p0_array)\n",
    "\n",
    "# power for x and y components by integrating Ex^2 and Ey^2 across the detector\n",
    "Px, Py = np.sum(np.abs(E[0])**2.,axis=-1), np.sum(np.abs(E[1])**2.,axis=-1)\n",
    "mag_Ex, mag_Ey = np.sum(np.abs(E[0])**2,axis=-1)**0.5, np.sum(np.abs(E[1])**2.0,axis=-1)**0.5\n",
    "\n",
    "\n",
    "# Observed angles = arctan( |Ey|/|Ex| )\n",
    "observed_angles = np.arctan(mag_Ey/mag_Ex)"
   ]
  },
  {
   "cell_type": "code",
   "execution_count": 222,
   "metadata": {
    "collapsed": true
   },
   "outputs": [],
   "source": [
    "Ix = np.abs(E[0])**2\n",
    "ori_avrg_Ix = np.sum(\n",
    "    Ix.reshape((number_of_molecules,samples_per_avrg,10000)),\n",
    "    axis=1\n",
    "    )\n",
    "ori_avrg_Px = np.sum(ori_avrg_Ix,axis=-1)\n",
    "\n",
    "Iy = np.abs(E[1])**2\n",
    "ori_avrg_Iy = np.sum(\n",
    "    Iy.reshape((number_of_molecules,samples_per_avrg,10000)),\n",
    "    axis=1\n",
    "    )\n",
    "ori_avrg_Py = np.sum(ori_avrg_Iy,axis=-1)"
   ]
  },
  {
   "cell_type": "code",
   "execution_count": 223,
   "metadata": {
    "collapsed": false
   },
   "outputs": [
    {
     "data": {
      "text/plain": [
       "<matplotlib.text.Text at 0x1666ccfd0>"
      ]
     },
     "execution_count": 223,
     "metadata": {},
     "output_type": "execute_result"
    },
    {
     "data": {
      "image/png": "[encoded data removed]",
      "text/plain": [
       "<matplotlib.figure.Figure at 0x127a10bd0>"
      ]
     },
     "metadata": {},
     "output_type": "display_data"
    }
   ],
   "source": [
    "# histo_normed_mag_Ey = mag_Ey - mini_field\n",
    "# histo_normed_mag_Ex = mag_Ex - mini_field\n",
    "\n",
    "histo_avrged_angles = np.arctan(ori_avrg_Py/ori_avrg_Px)\n",
    "\n",
    "plt.hist(histo_avrged_angles,50)\n",
    "plt.xticks([0,np.pi/16,np.pi/8,np.pi/4,3*np.pi/8,np.pi/2], \n",
    "          [r'$0$', r'$\\pi/16$',r'$\\pi/8$',r'$\\pi/4$',r'$3\\pi/8$',r'$\\pi/2$'])\n",
    "plt.ylabel('molecule images')\n",
    "plt.xlabel(r'observed angle ($\\arctan(P_y/P_x))$')"
   ]
  },
  {
   "cell_type": "code",
   "execution_count": null,
   "metadata": {
    "collapsed": true
   },
   "outputs": [],
   "source": []
  }
 ],
 "metadata": {
  "anaconda-cloud": {},
  "kernelspec": {
   "display_name": "Python [conda env:py27]",
   "language": "python",
   "name": "conda-env-py27-py"
  },
  "language_info": {
   "codemirror_mode": {
    "name": "ipython",
    "version": 2
   },
   "file_extension": ".py",
   "mimetype": "text/x-python",
   "name": "python",
   "nbconvert_exporter": "python",
   "pygments_lexer": "ipython2",
   "version": "2.7.12"
  }
 },
 "nbformat": 4,
 "nbformat_minor": 1
}
