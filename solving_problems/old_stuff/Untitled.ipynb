{
 "cells": [
  {
   "cell_type": "code",
   "execution_count": 1,
   "metadata": {
    "collapsed": true
   },
   "outputs": [],
   "source": [
    "def a_function(a1,a2):\n",
    "    return a1+a2"
   ]
  },
  {
   "cell_type": "code",
   "execution_count": 2,
   "metadata": {
    "collapsed": false
   },
   "outputs": [
    {
     "data": {
      "text/plain": [
       "2"
      ]
     },
     "execution_count": 2,
     "metadata": {},
     "output_type": "execute_result"
    }
   ],
   "source": [
    "a_function(1,1,)"
   ]
  },
  {
   "cell_type": "code",
   "execution_count": 13,
   "metadata": {
    "collapsed": false
   },
   "outputs": [],
   "source": [
    "class TestClassWithMethodsAsFunctions(object):\n",
    "    \n",
    "#     def __init__(self):\n",
    "#         pass\n",
    "    \n",
    "    def independent_function(self, a):\n",
    "        return a+1\n",
    "    \n",
    "class AMoreSophisticatedClass(TestClassWithMethodsAsFunctions):\n",
    "    \n",
    "    def __init__(self):\n",
    "        self.b = 69\n",
    "        \n",
    "    def real_method(self, c):\n",
    "        return self.b + self.independent_function(c)"
   ]
  },
  {
   "cell_type": "code",
   "execution_count": 14,
   "metadata": {
    "collapsed": true
   },
   "outputs": [],
   "source": [
    "instance = AMoreSophisticatedClass()"
   ]
  },
  {
   "cell_type": "code",
   "execution_count": 15,
   "metadata": {
    "collapsed": false
   },
   "outputs": [
    {
     "data": {
      "text/plain": [
       "93"
      ]
     },
     "execution_count": 15,
     "metadata": {},
     "output_type": "execute_result"
    }
   ],
   "source": [
    "instance.real_method(23)"
   ]
  },
  {
   "cell_type": "code",
   "execution_count": 7,
   "metadata": {
    "collapsed": false
   },
   "outputs": [
    {
     "ename": "TypeError",
     "evalue": "independent_function() missing 1 required positional argument: 'a'",
     "output_type": "error",
     "traceback": [
      "\u001b[0;31m---------------------------------------------------------------------------\u001b[0m",
      "\u001b[0;31mTypeError\u001b[0m                                 Traceback (most recent call last)",
      "\u001b[0;32m<ipython-input-7-958d3aa4e2e7>\u001b[0m in \u001b[0;36m<module>\u001b[0;34m\u001b[0m\n\u001b[0;32m----> 1\u001b[0;31m \u001b[0mTestClassWithMethodsAsFunctions\u001b[0m\u001b[0;34m.\u001b[0m\u001b[0mindependent_function\u001b[0m\u001b[0;34m(\u001b[0m\u001b[0;36m1\u001b[0m\u001b[0;34m)\u001b[0m\u001b[0;34m\u001b[0m\u001b[0;34m\u001b[0m\u001b[0m\n\u001b[0m",
      "\u001b[0;31mTypeError\u001b[0m: independent_function() missing 1 required positional argument: 'a'"
     ]
    }
   ],
   "source": [
    "TestClassWithMethodsAsFunctions.independent_function(1)"
   ]
  },
  {
   "cell_type": "markdown",
   "metadata": {},
   "source": [
    "## Q: do I need to manually call 'PlottingStuff.__init__'?"
   ]
  },
  {
   "cell_type": "code",
   "execution_count": 24,
   "metadata": {
    "collapsed": false
   },
   "outputs": [],
   "source": [
    "class Parent(object):\n",
    "    \n",
    "    def __init__(self): \n",
    "        ##define an attribute\n",
    "        self.attr = 1\n",
    "\n",
    "class Child(Parent):\n",
    "    \n",
    "#     def __init__(self):\n",
    "#         super().__init__(self)\n",
    "            \n",
    "    def a_method(self):\n",
    "        print(self.attr)"
   ]
  },
  {
   "cell_type": "code",
   "execution_count": 26,
   "metadata": {
    "collapsed": false
   },
   "outputs": [
    {
     "name": "stdout",
     "output_type": "stream",
     "text": [
      "1\n"
     ]
    }
   ],
   "source": [
    "child_instance = Child()\n",
    "child_instance.a_method()"
   ]
  },
  {
   "cell_type": "markdown",
   "metadata": {},
   "source": [
    "## Playing with markdown\n",
    "Here is a list of things\n",
    "* one thing\n",
    "    * two things\n",
    "    * another thing\n",
    "    * this is what I am talking about\n",
    "    * and another\n",
    "    "
   ]
  },
  {
   "cell_type": "code",
   "execution_count": 39,
   "metadata": {
    "collapsed": true
   },
   "outputs": [],
   "source": [
    "class Parent1(object):\n",
    "    \n",
    "    def __init__(self):\n",
    "        print('thing done')\n",
    "\n",
    "class Parent2(object):\n",
    "    \n",
    "    def __init__(self, arg1):\n",
    "        self.attr = arg1\n",
    "        \n",
    "class Child(Parent1, Parent2):\n",
    "    \n",
    "    def __init__(self, arg1):\n",
    "        Parent1.__init__(self)\n",
    "        Parent2.__init__(self, arg1)\n",
    "\n",
    "    def report(self): \n",
    "        print(self.attr)"
   ]
  },
  {
   "cell_type": "code",
   "execution_count": 40,
   "metadata": {
    "collapsed": false
   },
   "outputs": [
    {
     "name": "stdout",
     "output_type": "stream",
     "text": [
      "thing done\n",
      "1\n"
     ]
    }
   ],
   "source": [
    "child_instance = Child(1)\n",
    "child_instance.report()"
   ]
  },
  {
   "cell_type": "code",
   "execution_count": null,
   "metadata": {
    "collapsed": true
   },
   "outputs": [],
   "source": []
  }
 ],
 "metadata": {
  "anaconda-cloud": {},
  "kernelspec": {
   "display_name": "Python [conda env:py36]",
   "language": "python",
   "name": "conda-env-py36-py"
  },
  "language_info": {
   "codemirror_mode": {
    "name": "ipython",
    "version": 3
   },
   "file_extension": ".py",
   "mimetype": "text/x-python",
   "name": "python",
   "nbconvert_exporter": "python",
   "pygments_lexer": "ipython3",
   "version": "3.6.7"
  }
 },
 "nbformat": 4,
 "nbformat_minor": 1
}
