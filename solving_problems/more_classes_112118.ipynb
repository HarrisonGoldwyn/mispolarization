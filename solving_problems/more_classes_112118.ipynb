{
 "cells": [
  {
   "cell_type": "code",
   "execution_count": 7,
   "metadata": {
    "collapsed": false
   },
   "outputs": [
    {
     "ename": "SyntaxError",
     "evalue": "invalid syntax (<ipython-input-7-450e8a2c248a>, line 8)",
     "output_type": "error",
     "traceback": [
      "\u001b[0;36m  File \u001b[0;32m\"<ipython-input-7-450e8a2c248a>\"\u001b[0;36m, line \u001b[0;32m8\u001b[0m\n\u001b[0;31m    class NanoRod()\u001b[0m\n\u001b[0m                   ^\u001b[0m\n\u001b[0;31mSyntaxError\u001b[0m\u001b[0;31m:\u001b[0m invalid syntax\n"
     ]
    }
   ],
   "source": [
    "\n",
    "\n",
    "# alpha1_diag_dyad_no_trans = alpha1_diag_dyad\n",
    "# alpha1_diag_dyad_no_trans[1,1] = 0\n",
    "# alpha1_diag_dyad_no_trans[2,2] = 0\n",
    "\n",
    "\n",
    "class NanoRod()\n",
    "    fit_result_params = (\n",
    "        ## eps_inf, hbar*omega_p, hbar*gamma_nr, eps_b (not used as fit param), a_x, a_yz\n",
    "        15.100176  , 10.15232758/hbar,  0.10316881/hbar, 1.0, 67.24906658*nm, 19.20816015*nm\n",
    "        )\n",
    "    \n",
    "    def __init__(self, fit_param=fit_result_params, angle=np.pi/2)\n",
    "        self.fit_param = fit_param\n",
    "        self.a_long = fit_param[3]\n",
    "        self.a_short = fit_param[4]\n",
    "        self.angle = angle\n",
    "    \n",
    "    def diagonal_polarizability(self):\n",
    "        alpha1_diag_dyad = cp.sparse_ret_prolate_spheroid_polarizability_Drude(\n",
    "            omega_drive, *fit_result_params)\n",
    "\n",
    "    def mol_too_close(mol_x,mol_y):\n",
    "        rotated_x = np.cos(self.angle)*mol_x - np.sin(self.angle)*mol_y\n",
    "        rotated_y = np.sin(self.angle)*mol_x + np.cos(self.angle)*mol_y\n",
    "        long_quench_radius = self.a_long + 10\n",
    "        short_quench_radius = self.a_short + 10\n",
    "        rotated_ellip_eq = rotated_x**2./long_quench_radius**2 + rotated_y**2./short_quench_radius**2\n",
    "        if rotated_ellip_eq < 1: \n",
    "            return True\n",
    "        else: \n",
    "            return False\n",
    "\n",
    "\n",
    "class Molecule()\n",
    "    alpha0_diag_dyad = cp.sparse_polarizability_tensor(\n",
    "        mass=cp.fluorophore_mass(\n",
    "            ext_coef=parameters['fluorophore']['extinction_coeff'], \n",
    "            gamma=parameters['fluorophore']['mass_gamma']/hbar\n",
    "            ), \n",
    "        w_res=drive_hbar_omega/hbar, \n",
    "        w=drive_hbar_omega/hbar, \n",
    "        gamma_nr=parameters['fluorophore']['test_gamma']/hbar,\n",
    "        a=0, \n",
    "        eps_inf=1, \n",
    "        ebs_b=1\n",
    "        )\n",
    "\n"
   ]
  },
  {
   "cell_type": "code",
   "execution_count": 1,
   "metadata": {
    "collapsed": true
   },
   "outputs": [],
   "source": [
    "class TestClass:\n",
    "    \n",
    "    def __init__(self, test_arg):\n",
    "        pass\n"
   ]
  },
  {
   "cell_type": "code",
   "execution_count": 5,
   "metadata": {
    "collapsed": false
   },
   "outputs": [],
   "source": [
    "test_instance = TestClass('hello')"
   ]
  },
  {
   "cell_type": "code",
   "execution_count": 6,
   "metadata": {
    "collapsed": false
   },
   "outputs": [
    {
     "data": {
      "text/plain": [
       "<__main__.TestClass at 0x10c929b70>"
      ]
     },
     "execution_count": 6,
     "metadata": {},
     "output_type": "execute_result"
    }
   ],
   "source": [
    "test_instance"
   ]
  },
  {
   "cell_type": "code",
   "execution_count": null,
   "metadata": {
    "collapsed": true
   },
   "outputs": [],
   "source": [
    "class MolCoupNanoRodExp:\n",
    "    ''' Collect focused+diffracted far-field information from molecules nearby a nanorod '''\n",
    "    \n",
    "    ## set up inverse mapping from observed -> true angle for signle molecule in the plane. \n",
    "    saved_mapping = np.loadtxt('obs_pol_vs_true_angle.txt')\n",
    "    true_ord_angles, obs_ord_angles =  saved_mapping.T\n",
    "    #from scipy import interpolate\n",
    "    f = interpolate.interp1d(true_ord_angles,obs_ord_angles)\n",
    "    f_inv = interpolate.interp1d(\n",
    "        obs_ord_angles[:251],\n",
    "        true_ord_angles[:251],\n",
    "        bounds_error=False,\n",
    "        fill_value=(0,np.pi/2)\n",
    "        )\n",
    "\n",
    "        \n",
    "    def __init__(self, molecules_instance, mol_angle=0, plas_angle=np.pi/2):\n",
    "        self.mol_locations = locations\n",
    "        self.mol_angles = mol_angle\n",
    "        self.rod_angle = plas_angle\n",
    "        \n",
    "        #### Filtering out molecules in region of fluorescence quenching \n",
    "        self.el_a = 19 ## ranorod degenerate radius\n",
    "        self.el_c = 67\n",
    "        self.quel_a = self.el_a + 10 ## define quenching region\n",
    "        self.quel_c = self.el_c + 10\n",
    "        self.input_x_mol = locations[:,0]\n",
    "        self.input_y_mol = locations[:,1]\n",
    "        self.pt_is_in_ellip = np.ones(self.input_x_mol.shape, dtype=bool) ## initialize index array\n",
    "        for i in np.arange(locations[:,0].shape[0]):  \n",
    "            ## currently works only if nanorod is vertically oriented\n",
    "            if (self.input_x_mol[i]**2./self.quel_a**2. +  self.input_y_mol[i]**2./self.quel_c**2.) < 1:\n",
    "                self.pt_is_in_ellip[i] = False\n",
    "        ## select molecules outside region,\n",
    "        self.mol_locations = locations[self.pt_is_in_ellip]\n",
    "        ## select molecule angles if listed per molecule, \n",
    "        if type(mol_angle)==np.ndarray and mol_angle.shape[0]>1:\n",
    "            self.mol_angles = mol_angle[self.pt_is_in_ellip]\n",
    "        else: self.mol_angles = mol_angle\n",
    "        \n",
    "        (self.mol_E, \n",
    "         self.plas_E, \n",
    "         self.p0_unc_E, \n",
    "         self.p0, \n",
    "         self.p1) = dipole_fields(self.mol_locations, self.mol_angles, self.rod_angle)\n",
    "        \n",
    "        self.trial_images = image_from_E(self.mol_E + self.plas_E )\n",
    "\n",
    "        self.appar_cents = calculate_apparent_centroids(self.trial_images)\n",
    "        self.x_cen, self.y_cen = self.appar_cents\n",
    "        \n",
    "        ## Calculate polarization with beam splitter\n",
    "        self.angles, self.Px_per_drive_I, self.Py_per_drive_I = powers_and_angels(\n",
    "            self.mol_E + self.plas_E\n",
    "            )\n",
    "        self.mispol_angle= MolCoupNanoRodExp.f_inv(self.angles)\n",
    "\n",
    "        self.default_plot_limits = [\n",
    "            np.min(self.mol_locations)-((np.max(self.mol_locations)-np.min(self.mol_locations))*.1),\n",
    "            np.max(self.mol_locations)+((np.max(self.mol_locations)-np.min(self.mol_locations))*.1)]\n",
    "    def plot_mispol_map(self, plot_limits=None):\n",
    "        if plot_limits == None: plot_limits = self.default_plot_limits\n",
    "        quiv_ax, = quiver_plot(self.mol_locations[:,0], self.mol_locations[:,1], self.mispol_angle, plot_limits,\n",
    "                              true_mol_angle=self.mol_angles)\n",
    "        return quiv_ax\n",
    "    \n",
    "    def plot_mispol_map_wMisloc(self, plot_limits=None):\n",
    "        if plot_limits == None: plot_limits = self.default_plot_limits\n",
    "        quiv_ax = self.plot_mispol_map(plot_limits)\n",
    "        scatter_centroids_wLine(self.mol_locations[:,0], self.mol_locations[:,1],\n",
    "                                self.plas_E+self.mol_E, quiv_ax)\n",
    "        \n",
    "    def plot_mislocalization_magnitude_correlation(self):\n",
    "        self.misloc_mag = calculate_mislocalization_magnitude(\n",
    "            self.x_cen, self.y_cen, self.mol_locations[:,0], self.mol_locations[:,1]\n",
    "            )\n",
    "    \n",
    "        plt.figure(dpi=300)\n",
    "        plt.scatter(misloc_mag, mispol_angle, s=10, c='Black', zorder=3)\n",
    "        plt.tight_layout()\n",
    "        plt.xlabel('Magnitude of mislocalization [nm]')\n",
    "        plt.ylabel('Apparent angle [deg]')\n",
    "        plt.yticks([0,  np.pi/8,  np.pi/4, np.pi/8 *3, np.pi/2],\n",
    "                   ['0','22.5','45','57.5','90'])\n",
    "\n",
    "    "
   ]
  }
 ],
 "metadata": {
  "anaconda-cloud": {},
  "kernelspec": {
   "display_name": "Python [conda env:py37]",
   "language": "python",
   "name": "conda-env-py37-py"
  },
  "language_info": {
   "codemirror_mode": {
    "name": "ipython",
    "version": 3
   },
   "file_extension": ".py",
   "mimetype": "text/x-python",
   "name": "python",
   "nbconvert_exporter": "python",
   "pygments_lexer": "ipython3",
   "version": "3.7.0"
  }
 },
 "nbformat": 4,
 "nbformat_minor": 1
}
