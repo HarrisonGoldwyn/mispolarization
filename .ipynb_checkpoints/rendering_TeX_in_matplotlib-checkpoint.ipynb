{
 "cells": [
  {
   "cell_type": "code",
   "execution_count": 11,
   "metadata": {
    "collapsed": true
   },
   "outputs": [],
   "source": [
    "matplotlib.font_manager._rebuild()"
   ]
  },
  {
   "cell_type": "code",
   "execution_count": 1,
   "metadata": {
    "collapsed": false
   },
   "outputs": [],
   "source": [
    "\n",
    "import matplotlib\n",
    "matplotlib.use('macosx')\n",
    "%matplotlib inline"
   ]
  },
  {
   "cell_type": "code",
   "execution_count": 3,
   "metadata": {
    "collapsed": false
   },
   "outputs": [
    {
     "data": {
      "text/plain": [
       "['/System/Library/Fonts/SFCompactDisplay-Black.otf',\n",
       " '/Library/Fonts/STIXGeneral.otf',\n",
       " '/opt/X11/share/fonts/OTF/SyrCOMUrhoy.otf',\n",
       " '/Library/Fonts/STIXIntUpDBol.otf',\n",
       " '/System/Library/Fonts/SFCompactDisplay-Semibold.otf',\n",
       " '/opt/X11/share/fonts/OTF/SyrCOMCtesiphon.otf',\n",
       " '/Library/Fonts/Andale Mono.ttf',\n",
       " '/opt/X11/share/fonts/TTF/Vera.ttf',\n",
       " '/opt/X11/share/fonts/OTF/SyrCOMEdessa.otf',\n",
       " '/Library/Fonts/Bodoni 72 Smallcaps Book.ttf',\n",
       " '/System/Library/Fonts/SFNSTextCondensed-Regular.otf',\n",
       " '/Library/Fonts/Wingdings 2.ttf',\n",
       " '/usr/X11/lib/X11/fonts/OTF/SyrCOMMidyat.otf',\n",
       " '/Library/Fonts/Trebuchet MS Bold.ttf',\n",
       " '/usr/X11/lib/X11/fonts/OTF/GohaTibebZemen.otf',\n",
       " '/Library/Fonts/STIXGeneralBol.otf',\n",
       " '/Library/Fonts/Arial Rounded Bold.ttf',\n",
       " '/System/Library/Fonts/SFCompactText-Semibold.otf',\n",
       " '/Library/Fonts/Georgia.ttf',\n",
       " '/Library/Fonts/STIXSizOneSymBol.otf',\n",
       " '/Library/Fonts/Verdana.ttf',\n",
       " '/usr/X11/lib/X11/fonts/OTF/SyrCOMBatnanBold.otf',\n",
       " '/Library/Fonts/Kokonor.ttf',\n",
       " '/System/Library/Fonts/SFNSDisplayCondensed-Bold.otf',\n",
       " '/opt/X11/share/fonts/TTF/VeraSeBd.ttf',\n",
       " '/opt/X11/share/fonts/OTF/SyrCOMBatnan.otf',\n",
       " '/Library/Fonts/Khmer Sangam MN.ttf',\n",
       " '/Library/Fonts/Verdana Italic.ttf',\n",
       " '/usr/X11/lib/X11/fonts/TTF/VeraMoIt.ttf',\n",
       " '/Library/Fonts/STIXVarBol.otf',\n",
       " '/Library/Fonts/STIXNonUni.otf',\n",
       " '/System/Library/Fonts/SFCompactDisplay-Regular.otf',\n",
       " '/usr/X11/lib/X11/fonts/OTF/SyrCOMTurAbdin.otf',\n",
       " '/System/Library/Fonts/SFCompactRounded-Black.otf',\n",
       " '/Library/Fonts/PlantagenetCherokee.ttf',\n",
       " '/System/Library/Fonts/SFCompactRounded-Thin.otf',\n",
       " '/System/Library/Fonts/Keyboard.ttf',\n",
       " '/usr/X11/lib/X11/fonts/OTF/SyrCOMQenNeshrin.otf',\n",
       " '/usr/X11/lib/X11/fonts/TTF/VeraMoBd.ttf',\n",
       " '/Library/Fonts/Arial Narrow Italic.ttf',\n",
       " '/System/Library/Fonts/SFNSDisplayCondensed-Medium.otf',\n",
       " '/opt/X11/share/fonts/OTF/SyrCOMAdiabene.otf',\n",
       " '/System/Library/Fonts/Apple Braille Outline 6 Dot.ttf',\n",
       " '/System/Library/Fonts/LastResort.otf',\n",
       " '/System/Library/Fonts/SFNSTextCondensed-Heavy.otf',\n",
       " '/System/Library/Fonts/SFNSDisplayCondensed-Regular.otf',\n",
       " '/opt/X11/share/fonts/OTF/SyrCOMKharput.otf',\n",
       " '/usr/X11/lib/X11/fonts/OTF/SyrCOMAdiabene.otf',\n",
       " '/usr/X11/lib/X11/fonts/OTF/SyrCOMJerusalemBold.otf',\n",
       " '/System/Library/Fonts/SFNSDisplayCondensed-Black.otf',\n",
       " '/Library/Fonts/STIXSizTwoSymReg.otf',\n",
       " '/System/Library/Fonts/Apple Symbols.ttf',\n",
       " '/Library/Fonts/Trebuchet MS.ttf',\n",
       " '/System/Library/Fonts/SFNSDisplayCondensed-Ultralight.otf',\n",
       " '/System/Library/Fonts/SFNSDisplay-RegularItalic.otf',\n",
       " '/usr/X11/lib/X11/fonts/TTF/luxirri.ttf',\n",
       " '/System/Library/Fonts/SFCompactText-HeavyItalic.otf',\n",
       " '/Library/Fonts/STIXSizTwoSymBol.otf',\n",
       " '/Library/Fonts/STIXIntUpSmBol.otf',\n",
       " '/opt/X11/share/fonts/OTF/SyrCOMJerusalemBold.otf',\n",
       " '/System/Library/Fonts/SFCompactRounded-Light.otf',\n",
       " '/opt/X11/share/fonts/OTF/SyrCOMMalankara.otf',\n",
       " '/opt/X11/share/fonts/TTF/luximbi.ttf',\n",
       " '/System/Library/Fonts/SFNSDisplay-BlackItalic.otf',\n",
       " '/Library/Fonts/Krungthep.ttf',\n",
       " '/opt/X11/share/fonts/OTF/SyrCOMBatnanBold.otf',\n",
       " '/Library/Fonts/DIN Condensed Bold.ttf',\n",
       " '/Library/Fonts/BigCaslon.ttf',\n",
       " '/System/Library/Fonts/Symbol.ttf',\n",
       " '/opt/X11/share/fonts/TTF/luxisb.ttf',\n",
       " '/Library/Fonts/STIXIntSmBol.otf',\n",
       " '/Library/Fonts/STIXVar.otf',\n",
       " '/opt/X11/share/fonts/TTF/GohaTibebZemen.ttf',\n",
       " '/System/Library/Fonts/SFCompactText-RegularItalic.otf',\n",
       " '/usr/X11/lib/X11/fonts/TTF/VeraBI.ttf',\n",
       " '/Library/Fonts/STIXSizThreeSymReg.otf',\n",
       " '/System/Library/Fonts/ZapfDingbats.ttf',\n",
       " '/System/Library/Fonts/SFNSSymbols-Regular.otf',\n",
       " '/System/Library/Fonts/SFCompactText-SemiboldItalic.otf',\n",
       " '/System/Library/Fonts/Apple Braille.ttf',\n",
       " '/System/Library/Fonts/SFCompactText-BoldItalic.otf',\n",
       " '/usr/X11/lib/X11/fonts/OTF/SyrCOMEdessa.otf',\n",
       " '/usr/X11/lib/X11/fonts/OTF/SyrCOMTalada.otf',\n",
       " '/Library/Fonts/STIXNonUniBolIta.otf',\n",
       " '/usr/X11/lib/X11/fonts/TTF/luxisbi.ttf',\n",
       " '/Library/Fonts/Brush Script.ttf',\n",
       " '/System/Library/Fonts/SFNSDisplayCondensed-Semibold.otf',\n",
       " '/Library/Fonts/Ayuthaya.ttf',\n",
       " '/Library/Fonts/STIXSizThreeSymBol.otf',\n",
       " '/System/Library/Fonts/SFNSText.ttf',\n",
       " '/Library/Fonts/Microsoft Sans Serif.ttf',\n",
       " '/opt/X11/share/fonts/TTF/luxisbi.ttf',\n",
       " '/opt/X11/share/fonts/OTF/SyrCOMUrhoyBold.otf',\n",
       " '/Library/Fonts/Courier New Italic.ttf',\n",
       " '/Library/Fonts/Skia.ttf',\n",
       " '/Library/Fonts/NISC18030.ttf',\n",
       " '/opt/X11/share/fonts/TTF/luximr.ttf',\n",
       " '/Library/Fonts/Hoefler Text Ornaments.ttf',\n",
       " '/Library/Fonts/AppleMyungjo.ttf',\n",
       " '/Library/Fonts/STIXIntUpBol.otf',\n",
       " '/usr/X11/lib/X11/fonts/OTF/SyrCOMJerusalemItalic.otf',\n",
       " '/System/Library/Fonts/SFNSDisplay-HeavyItalic.otf',\n",
       " '/System/Library/Fonts/SFCompactRounded-Regular.otf',\n",
       " '/Library/Fonts/Lao Sangam MN.ttf',\n",
       " '/opt/X11/share/fonts/OTF/SyrCOMNisibin.otf',\n",
       " '/opt/X11/share/fonts/TTF/luxisri.ttf',\n",
       " '/Library/Fonts/Impact.ttf',\n",
       " '/System/Library/Fonts/SFNSDisplay-BoldItalic.otf',\n",
       " '/Library/Fonts/STIXGeneralItalic.otf',\n",
       " '/usr/X11/lib/X11/fonts/TTF/luxirr.ttf',\n",
       " '/usr/X11/lib/X11/fonts/TTF/VeraBd.ttf',\n",
       " '/usr/X11/lib/X11/fonts/TTF/GohaTibebZemen.ttf',\n",
       " '/Library/Fonts/STIXIntUpDReg.otf',\n",
       " '/Library/Fonts/Webdings.ttf',\n",
       " '/Library/Fonts/STIXNonUniBol.otf',\n",
       " '/Library/Fonts/STIXSizFourSymReg.otf',\n",
       " '/opt/X11/share/fonts/TTF/luxirr.ttf',\n",
       " '/opt/X11/share/fonts/OTF/GohaTibebZemen.otf',\n",
       " '/usr/X11/lib/X11/fonts/OTF/SyrCOMBatnan.otf',\n",
       " '/Library/Fonts/Times New Roman Bold.ttf',\n",
       " '/opt/X11/share/fonts/TTF/luxisr.ttf',\n",
       " '/Library/Fonts/Comic Sans MS.ttf',\n",
       " '/usr/X11/lib/X11/fonts/OTF/SyrCOMAntioch.otf',\n",
       " '/System/Library/Fonts/SFCompactDisplay-Heavy.otf',\n",
       " '/Library/Fonts/Arial.ttf',\n",
       " '/opt/X11/share/fonts/OTF/SyrCOMNisibinOutline.otf',\n",
       " '/Library/Fonts/STIXIntUpSmReg.otf',\n",
       " '/usr/X11/lib/X11/fonts/OTF/SyrCOMCtesiphon.otf',\n",
       " '/Library/Fonts/Mishafi.ttf',\n",
       " '/Library/Fonts/Luminari.ttf',\n",
       " '/usr/X11/lib/X11/fonts/OTF/SyrCOMNisibin.otf',\n",
       " '/usr/X11/lib/X11/fonts/TTF/luxisri.ttf',\n",
       " '/Library/Fonts/Courier New Bold Italic.ttf',\n",
       " '/usr/X11/lib/X11/fonts/TTF/VeraMoBI.ttf',\n",
       " '/System/Library/Fonts/Apple Braille Pinpoint 6 Dot.ttf',\n",
       " '/opt/X11/share/fonts/TTF/luximri.ttf',\n",
       " '/Library/Fonts/Georgia Bold Italic.ttf',\n",
       " '/opt/X11/share/fonts/TTF/VeraMoBd.ttf',\n",
       " '/opt/X11/share/fonts/OTF/SyrCOMMidyat.otf',\n",
       " '/System/Library/Fonts/SFNSTextItalic.ttf',\n",
       " '/System/Library/Fonts/SFCompactRounded-Medium.otf',\n",
       " '/System/Library/Fonts/SFCompactText-Light.otf',\n",
       " '/opt/X11/share/fonts/TTF/VeraBd.ttf',\n",
       " '/usr/X11/lib/X11/fonts/TTF/VeraSe.ttf',\n",
       " '/usr/X11/lib/X11/fonts/TTF/luximr.ttf',\n",
       " '/Library/Fonts/Herculanum.ttf',\n",
       " '/Library/Fonts/Arial Italic.ttf',\n",
       " '/opt/X11/share/fonts/TTF/VeraSe.ttf',\n",
       " '/Library/Fonts/Courier New.ttf',\n",
       " '/opt/X11/share/fonts/OTF/SyrCOMJerusalemOutline.otf',\n",
       " '/System/Library/Fonts/SFCompactRounded-Semibold.otf',\n",
       " '/Library/Fonts/Arial Bold.ttf',\n",
       " '/Library/Fonts/Tahoma Bold.ttf',\n",
       " '/System/Library/Fonts/SFNSDisplayCondensed-Light.otf',\n",
       " '/Library/Fonts/Times New Roman.ttf',\n",
       " '/System/Library/Fonts/Apple Braille Pinpoint 8 Dot.ttf',\n",
       " '/System/Library/Fonts/SFCompactDisplay-Medium.otf',\n",
       " '/opt/X11/share/fonts/TTF/VeraMoBI.ttf',\n",
       " '/Library/Fonts/AppleGothic.ttf',\n",
       " '/Library/Fonts/Diwan Thuluth.ttf',\n",
       " '/Library/Fonts/STIXIntDBol.otf',\n",
       " '/Library/Fonts/Sathu.ttf',\n",
       " '/System/Library/Fonts/SFCompactRounded-Ultralight.otf',\n",
       " '/opt/X11/share/fonts/TTF/luxirbi.ttf',\n",
       " '/Library/Fonts/Verdana Bold.ttf',\n",
       " '/usr/X11/lib/X11/fonts/TTF/luximri.ttf',\n",
       " '/System/Library/Fonts/SFCompactDisplay-Light.otf',\n",
       " '/usr/X11/lib/X11/fonts/TTF/luxirbi.ttf',\n",
       " '/usr/X11/lib/X11/fonts/OTF/SyrCOMJerusalemOutline.otf',\n",
       " '/Library/Fonts/Chalkduster.ttf',\n",
       " '/opt/X11/share/fonts/TTF/VeraBI.ttf',\n",
       " '/Library/Fonts/STIXSizFourSymBol.otf',\n",
       " '/usr/X11/lib/X11/fonts/TTF/luximbi.ttf',\n",
       " '/System/Library/Fonts/SFNSTextCondensed-Semibold.otf',\n",
       " '/Library/Fonts/Trattatello.ttf',\n",
       " '/System/Library/Fonts/SFCompactDisplay-Thin.otf',\n",
       " '/usr/X11/lib/X11/fonts/OTF/SyrCOMKharput.otf',\n",
       " '/System/Library/Fonts/SFNSDisplay-MediumItalic.otf',\n",
       " '/System/Library/Fonts/SFNSTextCondensed-Medium.otf',\n",
       " '/System/Library/Fonts/SFCompactText-Medium.otf',\n",
       " '/System/Library/Fonts/SFCompactDisplay-Bold.otf',\n",
       " '/opt/X11/share/fonts/OTF/SyrCOMJerusalem.otf',\n",
       " '/System/Library/Fonts/SFCompactDisplay-Ultralight.otf',\n",
       " '/Library/Fonts/Tahoma.ttf',\n",
       " '/System/Library/Fonts/SFCompactRounded-Heavy.otf',\n",
       " '/System/Library/Fonts/SFNSTextCondensed-Light.otf',\n",
       " '/System/Library/Fonts/Apple Braille Outline 8 Dot.ttf',\n",
       " '/usr/X11/lib/X11/fonts/TTF/VeraSeBd.ttf',\n",
       " '/usr/X11/lib/X11/fonts/TTF/luximb.ttf',\n",
       " '/usr/X11/lib/X11/fonts/OTF/SyrCOMUrhoyBold.otf',\n",
       " '/System/Library/Fonts/SFNSDisplay-SemiboldItalic.otf',\n",
       " '/Library/Fonts/Bodoni Ornaments.ttf',\n",
       " '/Library/Fonts/Trebuchet MS Italic.ttf',\n",
       " '/opt/X11/share/fonts/OTF/SyrCOMQenNeshrin.otf',\n",
       " '/Library/Fonts/Verdana Bold Italic.ttf',\n",
       " '/System/Library/Fonts/SFNSDisplay-UltralightItalic.otf',\n",
       " '/usr/X11/lib/X11/fonts/TTF/Vera.ttf',\n",
       " '/Library/Fonts/Arial Narrow.ttf',\n",
       " '/System/Library/Fonts/SFCompactText-LightItalic.otf',\n",
       " '/Library/Fonts/Arial Narrow Bold Italic.ttf',\n",
       " '/Library/Fonts/STIXGeneralBolIta.otf',\n",
       " '/Library/Fonts/STIXSizFiveSymReg.otf',\n",
       " '/Library/Fonts/Arial Black.ttf',\n",
       " '/usr/X11/lib/X11/fonts/TTF/luxisb.ttf',\n",
       " '/usr/X11/lib/X11/fonts/TTF/VeraIt.ttf',\n",
       " '/Library/Fonts/STIXNonUniIta.otf',\n",
       " '/System/Library/Fonts/SFNSTextCondensed-Bold.otf',\n",
       " '/usr/X11/lib/X11/fonts/TTF/VeraMono.ttf',\n",
       " '/opt/X11/share/fonts/TTF/luxirri.ttf',\n",
       " '/opt/X11/share/fonts/OTF/SyrCOMTalada.otf',\n",
       " '/Library/Fonts/Zapfino.ttf',\n",
       " '/Library/Fonts/Farisi.ttf',\n",
       " '/usr/X11/lib/X11/fonts/OTF/SyrCOMMardin.otf',\n",
       " '/System/Library/Fonts/SFCompactText-Regular.otf',\n",
       " '/usr/X11/lib/X11/fonts/TTF/luxirb.ttf',\n",
       " '/Library/Fonts/Trebuchet MS Bold Italic.ttf',\n",
       " '/usr/X11/lib/X11/fonts/OTF/SyrCOMMardinBold.otf',\n",
       " '/System/Library/Fonts/SFNSDisplayCondensed-Thin.otf',\n",
       " '/opt/X11/share/fonts/TTF/VeraMoIt.ttf',\n",
       " '/usr/X11/lib/X11/fonts/OTF/SyrCOMUrhoy.otf',\n",
       " '/usr/X11/lib/X11/fonts/OTF/SyrCOMJerusalem.otf',\n",
       " '/Library/Fonts/DIN Alternate Bold.ttf',\n",
       " '/Library/Fonts/Apple Chancery.ttf',\n",
       " '/Library/Fonts/STIXSizOneSymReg.otf',\n",
       " '/opt/X11/share/fonts/OTF/SyrCOMJerusalemItalic.otf',\n",
       " '/Library/Fonts/Arial Narrow Bold.ttf',\n",
       " '/opt/X11/share/fonts/OTF/SyrCOMTurAbdin.otf',\n",
       " '/Library/Fonts/Mishafi Gold.ttf',\n",
       " '/Library/Fonts/STIXIntDReg.otf',\n",
       " '/usr/X11/lib/X11/fonts/OTF/SyrCOMNisibinOutline.otf',\n",
       " '/Library/Fonts/Wingdings 3.ttf',\n",
       " '/Library/Fonts/STIXIntSmReg.otf',\n",
       " '/opt/X11/share/fonts/OTF/SyrCOMAntioch.otf',\n",
       " '/opt/X11/share/fonts/OTF/SyrCOMMardin.otf',\n",
       " '/opt/X11/share/fonts/TTF/VeraIt.ttf',\n",
       " '/Library/Fonts/Arial Bold Italic.ttf',\n",
       " '/System/Library/Fonts/SFCompactText-Bold.otf',\n",
       " '/opt/X11/share/fonts/OTF/SyrCOMMardinBold.otf',\n",
       " '/opt/X11/share/fonts/TTF/VeraMono.ttf',\n",
       " '/System/Library/Fonts/SFNSDisplay.ttf',\n",
       " '/System/Library/Fonts/SFCompactText-MediumItalic.otf',\n",
       " '/opt/X11/share/fonts/TTF/luxirb.ttf',\n",
       " '/System/Library/Fonts/SFNSDisplay-ThinItalic.otf',\n",
       " '/Library/Fonts/Wingdings.ttf',\n",
       " '/Library/Fonts/Times New Roman Italic.ttf',\n",
       " '/System/Library/Fonts/SFNSDisplay-LightItalic.otf',\n",
       " '/usr/X11/lib/X11/fonts/TTF/luxisr.ttf',\n",
       " '/usr/X11/lib/X11/fonts/OTF/SyrCOMMalankara.otf',\n",
       " '/Library/Fonts/STIXIntUpReg.otf',\n",
       " '/Library/Fonts/Georgia Italic.ttf',\n",
       " '/Library/Fonts/Times New Roman Bold Italic.ttf',\n",
       " '/Library/Fonts/Arial Unicode.ttf',\n",
       " '/opt/X11/share/fonts/TTF/luximb.ttf',\n",
       " '/Library/Fonts/Bradley Hand Bold.ttf',\n",
       " '/System/Library/Fonts/SFCompactText-Heavy.otf',\n",
       " '/Library/Fonts/Silom.ttf',\n",
       " '/Library/Fonts/Gurmukhi.ttf',\n",
       " '/Library/Fonts/Comic Sans MS Bold.ttf',\n",
       " '/Library/Fonts/Courier New Bold.ttf',\n",
       " '/System/Library/Fonts/SFNSDisplayCondensed-Heavy.otf',\n",
       " '/System/Library/Fonts/SFCompactRounded-Bold.otf',\n",
       " '/Library/Fonts/Georgia Bold.ttf']"
      ]
     },
     "execution_count": 3,
     "metadata": {},
     "output_type": "execute_result"
    }
   ],
   "source": [
    "import matplotlib.font_manager\n",
    "matplotlib.font_manager.findSystemFonts(fontpaths=None, fontext='ttf')"
   ]
  },
  {
   "cell_type": "code",
   "execution_count": 4,
   "metadata": {
    "collapsed": false
   },
   "outputs": [
    {
     "data": {
      "text/plain": [
       "['sans-serif']"
      ]
     },
     "execution_count": 4,
     "metadata": {},
     "output_type": "execute_result"
    }
   ],
   "source": [
    "matplotlib.rcParams['font.family']"
   ]
  },
  {
   "cell_type": "markdown",
   "metadata": {},
   "source": [
    "\n",
    "# Rendering math equation using TeX\n",
    "\n",
    "\n",
    "You can use TeX to render all of your matplotlib text if the rc\n",
    "parameter ``text.usetex`` is set.  This works currently on the agg and ps\n",
    "backends, and requires that you have tex and the other dependencies\n",
    "described in the :doc:`/tutorials/text/usetex` tutorial\n",
    "properly installed on your system.  The first time you run a script\n",
    "you will see a lot of output from tex and associated tools.  The next\n",
    "time, the run may be silent, as a lot of the information is cached.\n",
    "\n",
    "Notice how the label for the y axis is provided using unicode!\n",
    "\n",
    "\n"
   ]
  },
  {
   "cell_type": "code",
   "execution_count": 5,
   "metadata": {
    "collapsed": false,
    "scrolled": false
   },
   "outputs": [
    {
     "data": {
      "image/png": "[encoded data removed]",
      "text/plain": [
       "<Figure size 432x288 with 1 Axes>"
      ]
     },
     "metadata": {
      "needs_background": "light"
     },
     "output_type": "display_data"
    }
   ],
   "source": [
    "import numpy as np\n",
    "import matplotlib\n",
    "matplotlib.rcParams['text.usetex'] = True\n",
    "import matplotlib.pyplot as plt\n",
    "\n",
    "\n",
    "t = np.linspace(0.0, 1.0, 100)\n",
    "s = np.cos(4 * np.pi * t) + 2\n",
    "\n",
    "fig, ax = plt.subplots(figsize=(6, 4))\n",
    "ax.plot(t, s)\n",
    "\n",
    "ax.set_xlabel(r'\\textbf{time (s)}')\n",
    "# ax.set_ylabel('\\\\textit{Velocity (\\N{DEGREE SIGN}/sec)}', fontsize=16)\n",
    "ax.set_title(r'\\TeX\\ is Number $\\displaystyle\\sum_{n=1}^\\infty'\n",
    "             r'\\frac{-e^{i\\pi}}{2^n}$!', fontsize=16, color='r')\n",
    "plt.show()"
   ]
  },
  {
   "cell_type": "code",
   "execution_count": 6,
   "metadata": {
    "collapsed": false
   },
   "outputs": [
    {
     "data": {
      "text/plain": [
       "'/Users/chair/anaconda/envs/py37/lib/python3.7/site-packages/matplotlib/mpl-data/matplotlibrc'"
      ]
     },
     "execution_count": 6,
     "metadata": {},
     "output_type": "execute_result"
    }
   ],
   "source": [
    "matplotlib.matplotlib_fname()"
   ]
  },
  {
   "cell_type": "code",
   "execution_count": 7,
   "metadata": {
    "collapsed": false
   },
   "outputs": [],
   "source": [
    "file = open('/Users/chair/anaconda/envs/py37/lib/python3.7/site-packages/matplotlib/mpl-data/matplotlibrc')"
   ]
  },
  {
   "cell_type": "code",
   "execution_count": 7,
   "metadata": {
    "collapsed": false
   },
   "outputs": [
    {
     "data": {
      "text/plain": [
       "'#### MATPLOTLIBRC FORMAT\\n\\n## This is a sample matplotlib configuration file - you can find a copy\\n## of it on your system in\\n## site-packages/matplotlib/mpl-data/matplotlibrc.  If you edit it\\n## there, please note that it will be overwritten in your next install.\\n## If you want to keep a permanent local copy that will not be\\n## overwritten, place it in the following location:\\n## unix/linux:\\n##      $HOME/.config/matplotlib/matplotlibrc or\\n##      $XDG_CONFIG_HOME/matplotlib/matplotlibrc (if $XDG_CONFIG_HOME is set)\\n## other platforms:\\n##      $HOME/.matplotlib/matplotlibrc\\n##\\n## See http://matplotlib.org/users/customizing.html#the-matplotlibrc-file for\\n## more details on the paths which are checked for the configuration file.\\n##\\n## This file is best viewed in a editor which supports python mode\\n## syntax highlighting. Blank lines, or lines starting with a comment\\n## symbol, are ignored, as are trailing comments.  Other lines must\\n## have the format\\n##     key : val ## optional comment\\n##\\n## Colors: for the color values below, you can either use - a\\n## matplotlib color string, such as r, k, or b - an rgb tuple, such as\\n## (1.0, 0.5, 0.0) - a hex string, such as ff00ff - a scalar\\n## grayscale intensity such as 0.75 - a legal html color name, e.g., red,\\n## blue, darkslategray\\n\\n##### CONFIGURATION BEGINS HERE\\n\\n## The default backend; one of GTK GTKAgg GTKCairo GTK3Agg GTK3Cairo\\n## MacOSX Qt4Agg Qt5Agg TkAgg WX WXAgg Agg Cairo GDK PS PDF SVG\\n## Template.\\n## You can also deploy your own backend outside of matplotlib by\\n## referring to the module name (which must be in the PYTHONPATH) as\\n## \\'module://my_backend\\'.\\n##\\n## If you omit this parameter, it will always default to \"Agg\", which is a\\n## non-interactive backend.\\nbackend      : macosx\\n\\n## Note that this can be overridden by the environment variable\\n## QT_API used by Enthought Tool Suite (ETS); valid values are\\n## \"pyqt\" and \"pyside\".  The \"pyqt\" setting has the side effect of\\n## forcing the use of Version 2 API for QString and QVariant.\\n\\n## The port to use for the web server in the WebAgg backend.\\n#webagg.port : 8988\\n\\n## The address on which the WebAgg web server should be reachable\\n#webagg.address : 127.0.0.1\\n\\n## If webagg.port is unavailable, a number of other random ports will\\n## be tried until one that is available is found.\\n#webagg.port_retries : 50\\n\\n## When True, open the webbrowser to the plot that is shown\\n#webagg.open_in_browser : True\\n\\n## if you are running pyplot inside a GUI and your backend choice\\n## conflicts, we will automatically try to find a compatible one for\\n## you if backend_fallback is True\\n#backend_fallback: True\\n\\n#interactive  : False\\n#toolbar      : toolbar2   ## None | toolbar2  (\"classic\" is deprecated)\\n#timezone     : UTC        ## a pytz timezone string, e.g., US/Central or Europe/Paris\\n\\n## Where your matplotlib data lives if you installed to a non-default\\n## location.  This is where the matplotlib fonts, bitmaps, etc reside\\n#datapath : /home/jdhunter/mpldata\\n\\n\\n#### LINES\\n## See http://matplotlib.org/api/artist_api.html#module-matplotlib.lines for more\\n## information on line properties.\\n#lines.linewidth   : 1.5     ## line width in points\\n#lines.linestyle   : -       ## solid line\\n#lines.color       : C0      ## has no affect on plot(); see axes.prop_cycle\\n#lines.marker      : None    ## the default marker\\n#lines.markeredgewidth  : 1.0     ## the line width around the marker symbol\\n#lines.markersize  : 6            ## markersize, in points\\n#lines.dash_joinstyle : round        ## miter|round|bevel\\n#lines.dash_capstyle : butt          ## butt|round|projecting\\n#lines.solid_joinstyle : round       ## miter|round|bevel\\n#lines.solid_capstyle : projecting   ## butt|round|projecting\\n#lines.antialiased : True         ## render lines in antialiased (no jaggies)\\n\\n## The three standard dash patterns.  These are scaled by the linewidth.\\n#lines.dashed_pattern : 3.7, 1.6\\n#lines.dashdot_pattern : 6.4, 1.6, 1, 1.6\\n#lines.dotted_pattern : 1, 1.65\\n#lines.scale_dashes : True\\n\\n#markers.fillstyle: full ## full|left|right|bottom|top|none\\n\\n#### PATCHES\\n## Patches are graphical objects that fill 2D space, like polygons or\\n## circles.  See\\n## http://matplotlib.org/api/artist_api.html#module-matplotlib.patches\\n## information on patch properties\\n#patch.linewidth        : 1        ## edge width in points.\\n#patch.facecolor        : C0\\n#patch.edgecolor        : k       ## if forced, or patch is not filled\\n#patch.force_edgecolor  : False   ## True to always use edgecolor\\n#patch.antialiased      : True    ## render patches in antialiased (no jaggies)\\n\\n#### HATCHES\\n#hatch.color     : k\\n#hatch.linewidth : 1.0\\n\\n#### Boxplot\\n#boxplot.notch       : False\\n#boxplot.vertical    : True\\n#boxplot.whiskers    : 1.5\\n#boxplot.bootstrap   : None\\n#boxplot.patchartist : False\\n#boxplot.showmeans   : False\\n#boxplot.showcaps    : True\\n#boxplot.showbox     : True\\n#boxplot.showfliers  : True\\n#boxplot.meanline    : False\\n\\n#boxplot.flierprops.color           : k\\n#boxplot.flierprops.marker          : o\\n#boxplot.flierprops.markerfacecolor : none\\n#boxplot.flierprops.markeredgecolor : k\\n#boxplot.flierprops.markersize      : 6\\n#boxplot.flierprops.linestyle       : none\\n#boxplot.flierprops.linewidth       : 1.0\\n\\n#boxplot.boxprops.color     : k\\n#boxplot.boxprops.linewidth : 1.0\\n#boxplot.boxprops.linestyle : -\\n\\n#boxplot.whiskerprops.color     : k\\n#boxplot.whiskerprops.linewidth : 1.0\\n#boxplot.whiskerprops.linestyle : -\\n\\n#boxplot.capprops.color     : k\\n#boxplot.capprops.linewidth : 1.0\\n#boxplot.capprops.linestyle : -\\n\\n#boxplot.medianprops.color     : C1\\n#boxplot.medianprops.linewidth : 1.0\\n#boxplot.medianprops.linestyle : -\\n\\n#boxplot.meanprops.color           : C2\\n#boxplot.meanprops.marker          : ^\\n#boxplot.meanprops.markerfacecolor : C2\\n#boxplot.meanprops.markeredgecolor : C2\\n#boxplot.meanprops.markersize      :  6\\n#boxplot.meanprops.linestyle       : --\\n#boxplot.meanprops.linewidth       : 1.0\\n\\n\\n#### FONT\\n\\n## font properties used by text.Text.  See\\n## http://matplotlib.org/api/font_manager_api.html for more\\n## information on font properties.  The 6 font properties used for font\\n## matching are given below with their default values.\\n##\\n## The font.family property has five values: \\'serif\\' (e.g., Times),\\n## \\'sans-serif\\' (e.g., Helvetica), \\'cursive\\' (e.g., Zapf-Chancery),\\n## \\'fantasy\\' (e.g., Western), and \\'monospace\\' (e.g., Courier).  Each of\\n## these font families has a default list of font names in decreasing\\n## order of priority associated with them.  When text.usetex is False,\\n## font.family may also be one or more concrete font names.\\n##\\n## The font.style property has three values: normal (or roman), italic\\n## or oblique.  The oblique style will be used for italic, if it is not\\n## present.\\n##\\n## The font.variant property has two values: normal or small-caps.  For\\n## TrueType fonts, which are scalable fonts, small-caps is equivalent\\n## to using a font size of \\'smaller\\', or about 83%% of the current font\\n## size.\\n##\\n## The font.weight property has effectively 13 values: normal, bold,\\n## bolder, lighter, 100, 200, 300, ..., 900.  Normal is the same as\\n## 400, and bold is 700.  bolder and lighter are relative values with\\n## respect to the current weight.\\n##\\n## The font.stretch property has 11 values: ultra-condensed,\\n## extra-condensed, condensed, semi-condensed, normal, semi-expanded,\\n## expanded, extra-expanded, ultra-expanded, wider, and narrower.  This\\n## property is not currently implemented.\\n##\\n## The font.size property is the default font size for text, given in pts.\\n## 10 pt is the standard value.\\n\\nfont.family         : sans-serif\\n# font.family         : cursive\\nfont.style          : normal\\nfont.variant        : normal\\nfont.weight         : normal\\nfont.stretch        : normal\\n## note that font.size controls default text sizes.  To configure\\n## special text sizes tick labels, axes, labels, title, etc, see the rc\\n## settings for axes and ticks. Special text sizes can be defined\\n## relative to font.size, using the following values: xx-small, x-small,\\n## small, medium, large, x-large, xx-large, larger, or smaller\\nfont.size           : 10.0\\nfont.serif          : DejaVu Serif, Bitstream Vera Serif, Computer Modern Roman, New Century Schoolbook, Century Schoolbook L, Utopia, ITC Bookman, Bookman, Nimbus Roman No9 L, Times New Roman, Times, Palatino, Charter, serif\\n# font.sans-serif     : DejaVu Sans, Bitstream Vera Sans, Computer Modern Sans Serif, Lucida Grande, Verdana, Geneva, Lucid, Arial, Helvetica, Avant Garde, sans-serif\\nfont.sans-serif     : Helvetica, DejaVu Sans, Bitstream Vera Sans, Computer Modern Sans Serif, Lucida Grande, Verdana, Geneva, Lucid, Arial, Avant Garde, sans-serif\\nfont.cursive        : Apple Chancery, Textile, Zapf Chancery, Sand, Script MT, Felipa, cursive\\nfont.fantasy        : Comic Sans MS, Chicago, Charcoal, ImpactWestern, Humor Sans, xkcd, fantasy\\nfont.monospace      : DejaVu Sans Mono, Bitstream Vera Sans Mono, Computer Modern Typewriter, Andale Mono, Nimbus Mono L, Courier New, Courier, Fixed, Terminal, monospace\\n\\n#### TEXT\\n## text properties used by text.Text.  See\\n## http://matplotlib.org/api/artist_api.html#module-matplotlib.text for more\\n## information on text properties\\n#text.color          : k\\n\\n#### LaTeX customizations. See http://wiki.scipy.org/Cookbook/Matplotlib/UsingTex\\n# text.usetex         : False  ## use latex for all text handling. The following fonts\\n                              ## are supported through the usual rc parameter settings:\\n                              ## new century schoolbook, bookman, times, palatino,\\n                              ## zapf chancery, charter, serif, sans-serif, helvetica,\\n                              ## avant garde, courier, monospace, computer modern roman,\\n                              ## computer modern sans serif, computer modern typewriter\\n                              ## If another font is desired which can loaded using the\\n                              ## LaTeX \\\\usepackage command, please inquire at the\\n                              ## matplotlib mailing list\\n#text.latex.unicode : False ## use \"ucs\" and \"inputenc\" LaTeX packages for handling\\n                            ## unicode strings.\\n#text.latex.preamble :      ## IMPROPER USE OF THIS FEATURE WILL LEAD TO LATEX FAILURES\\n                            ## AND IS THEREFORE UNSUPPORTED. PLEASE DO NOT ASK FOR HELP\\n                            ## IF THIS FEATURE DOES NOT DO WHAT YOU EXPECT IT TO.\\n                            ## preamble is a comma separated list of LaTeX statements\\n                            ## that are included in the LaTeX document preamble.\\n                            ## An example:\\n                            ## text.latex.preamble : \\\\usepackage{bm},\\\\usepackage{euler}\\n                            ## The following packages are always loaded with usetex, so\\n                            ## beware of package collisions: color, geometry, graphicx,\\n                            ## type1cm, textcomp. Adobe Postscript (PSSNFS) font packages\\n                            ## may also be loaded, depending on your font settings\\n#text.latex.preview : False\\n\\n#text.hinting : auto   ## May be one of the following:\\n                       ##   none: Perform no hinting\\n                       ##   auto: Use FreeType\\'s autohinter\\n                       ##   native: Use the hinting information in the\\n                       #              font file, if available, and if your\\n                       #              FreeType library supports it\\n                       ##   either: Use the native hinting information,\\n                       #              or the autohinter if none is available.\\n                       ## For backward compatibility, this value may also be\\n                       ## True === \\'auto\\' or False === \\'none\\'.\\n#text.hinting_factor : 8 ## Specifies the amount of softness for hinting in the\\n                         ## horizontal direction.  A value of 1 will hint to full\\n                         ## pixels.  A value of 2 will hint to half pixels etc.\\n#text.antialiased : True ## If True (default), the text will be antialiased.\\n                         ## This only affects the Agg backend.\\n\\n## The following settings allow you to select the fonts in math mode.\\n## They map from a TeX font name to a fontconfig font pattern.\\n## These settings are only used if mathtext.fontset is \\'custom\\'.\\n## Note that this \"custom\" mode is unsupported and may go away in the\\n## future.\\n#mathtext.cal : cursive\\n#mathtext.rm  : sans\\n#mathtext.tt  : monospace\\n#mathtext.it  : sans:italic\\n#mathtext.bf  : sans:bold\\n#mathtext.sf  : sans\\n#mathtext.fontset : dejavusans ## Should be \\'dejavusans\\' (default),\\n                               ## \\'dejavuserif\\', \\'cm\\' (Computer Modern), \\'stix\\',\\n                               ## \\'stixsans\\' or \\'custom\\'\\n#mathtext.fallback_to_cm : True  ## When True, use symbols from the Computer Modern\\n                                 ## fonts when a symbol can not be found in one of\\n                                 ## the custom math fonts.\\n#mathtext.default : it ## The default font to use for math.\\n                       ## Can be any of the LaTeX font names, including\\n                       ## the special name \"regular\" for the same font\\n                       ## used in regular text.\\n\\n#### AXES\\n## default face and edge color, default tick sizes,\\n## default fontsizes for ticklabels, and so on.  See\\n## http://matplotlib.org/api/axes_api.html#module-matplotlib.axes\\n#axes.facecolor      : w       ## axes background color\\n#axes.edgecolor      : k       ## axes edge color\\n#axes.linewidth      : 0.8     ## edge linewidth\\n#axes.grid           : False   ## display grid or not\\n#axes.grid.axis      : both    ## which axis the grid should apply to\\n#axes.grid.which     : major   ## gridlines at major, minor or both ticks\\n#axes.titlesize      : large   ## fontsize of the axes title\\n#axes.titleweight    : normal  ## font weight of title\\n#axes.titlepad       : 6.0     ## pad between axes and title in points\\n#axes.labelsize      : medium  ## fontsize of the x any y labels\\n#axes.labelpad       : 4.0     ## space between label and axis\\n#axes.labelweight    : normal  ## weight of the x and y labels\\n#axes.labelcolor     : k\\n#axes.axisbelow      : line    ## draw axis gridlines and ticks below\\n                               ## patches (True); above patches but below\\n                               ## lines (\\'line\\'); or above all (False)\\n#axes.formatter.limits : -7, 7 ## use scientific notation if log10\\n                               ## of the axis range is smaller than the\\n                               ## first or larger than the second\\n#axes.formatter.use_locale : False ## When True, format tick labels\\n                                   ## according to the user\\'s locale.\\n                                   ## For example, use \\',\\' as a decimal\\n                                   ## separator in the fr_FR locale.\\n#axes.formatter.use_mathtext : False ## When True, use mathtext for scientific\\n                                     ## notation.\\n#axes.formatter.min_exponent: 0 ## minimum exponent to format in scientific notation\\n#axes.formatter.useoffset      : True    ## If True, the tick label formatter\\n                                         ## will default to labeling ticks relative\\n                                         ## to an offset when the data range is\\n                                         ## small compared to the minimum absolute\\n                                         ## value of the data.\\n#axes.formatter.offset_threshold : 4     ## When useoffset is True, the offset\\n                                         ## will be used when it can remove\\n                                         ## at least this number of significant\\n                                         ## digits from tick labels.\\n#axes.spines.left   : True   ## display axis spines\\n#axes.spines.bottom : True\\n#axes.spines.top    : True\\n#axes.spines.right  : True\\n#axes.unicode_minus  : True    ## use unicode for the minus symbol\\n                               ## rather than hyphen.  See\\n                               ## http://en.wikipedia.org/wiki/Plus_and_minus_signs#Character_codes\\n#axes.prop_cycle    : cycler(\\'color\\', [\\'1f77b4\\', \\'ff7f0e\\', \\'2ca02c\\', \\'d62728\\', \\'9467bd\\', \\'8c564b\\', \\'e377c2\\', \\'7f7f7f\\', \\'bcbd22\\', \\'17becf\\'])\\n                      ## color cycle for plot lines  as list of string\\n                      ## colorspecs: single letter, long name, or web-style hex\\n\\t\\t\\t\\t\\t  ## Note the use of string escapes here (\\'1f77b4\\', instead of 1f77b4)\\n                      ## as opposed to the rest of this file.\\t\\t\\t\\t\\t  \\n#axes.autolimit_mode : data ## How to scale axes limits to the data.\\n                            ## Use \"data\" to use data limits, plus some margin\\n                            ## Use \"round_number\" move to the nearest \"round\" number\\n#axes.xmargin        : .05  ## x margin.  See `axes.Axes.margins`\\n#axes.ymargin        : .05  ## y margin See `axes.Axes.margins`\\n#polaraxes.grid      : True    ## display grid on polar axes\\n#axes3d.grid         : True    ## display grid on 3d axes\\n\\n#### DATES\\n## These control the default format strings used in AutoDateFormatter.\\n## Any valid format datetime format string can be used (see the python\\n## `datetime` for details).  For example using \\'%%x\\' will use the locale date representation\\n## \\'%%X\\' will use the locale time representation and \\'%%c\\' will use the full locale datetime\\n## representation.\\n## These values map to the scales:\\n##     {\\'year\\': 365, \\'month\\': 30, \\'day\\': 1, \\'hour\\': 1/24, \\'minute\\': 1 / (24 * 60)}\\n\\n#date.autoformatter.year     : %Y\\n#date.autoformatter.month    : %Y-%m\\n#date.autoformatter.day      : %Y-%m-%d\\n#date.autoformatter.hour     : %m-%d %H\\n#date.autoformatter.minute   : %d %H:%M\\n#date.autoformatter.second   : %H:%M:%S\\n#date.autoformatter.microsecond   : %M:%S.%f\\n\\n#### TICKS\\n## see http://matplotlib.org/api/axis_api.html#matplotlib.axis.Tick\\n#xtick.top            : False  ## draw ticks on the top side\\n#xtick.bottom         : True   ## draw ticks on the bottom side\\n#xtick.labeltop       : False  ## draw label on the top\\n#xtick.labelbottom    : True   ## draw label on the bottom\\n#xtick.major.size     : 3.5    ## major tick size in points\\n#xtick.minor.size     : 2      ## minor tick size in points\\n#xtick.major.width    : 0.8    ## major tick width in points\\n#xtick.minor.width    : 0.6    ## minor tick width in points\\n#xtick.major.pad      : 3.5    ## distance to major tick label in points\\n#xtick.minor.pad      : 3.4    ## distance to the minor tick label in points\\n#xtick.color          : k      ## color of the tick labels\\n#xtick.labelsize      : medium ## fontsize of the tick labels\\n#xtick.direction      : out    ## direction: in, out, or inout\\n#xtick.minor.visible  : False  ## visibility of minor ticks on x-axis\\n#xtick.major.top      : True   ## draw x axis top major ticks\\n#xtick.major.bottom   : True   ## draw x axis bottom major ticks\\n#xtick.minor.top      : True   ## draw x axis top minor ticks\\n#xtick.minor.bottom   : True   ## draw x axis bottom minor ticks\\n#xtick.alignment      : center ## alignment of xticks\\n\\n#ytick.left           : True   ## draw ticks on the left side\\n#ytick.right          : False  ## draw ticks on the right side\\n#ytick.labelleft      : True   ## draw tick labels on the left side\\n#ytick.labelright     : False  ## draw tick labels on the right side\\n#ytick.major.size     : 3.5    ## major tick size in points\\n#ytick.minor.size     : 2      ## minor tick size in points\\n#ytick.major.width    : 0.8    ## major tick width in points\\n#ytick.minor.width    : 0.6    ## minor tick width in points\\n#ytick.major.pad      : 3.5    ## distance to major tick label in points\\n#ytick.minor.pad      : 3.4    ## distance to the minor tick label in points\\n#ytick.color          : k      ## color of the tick labels\\n#ytick.labelsize      : medium ## fontsize of the tick labels\\n#ytick.direction      : out    ## direction: in, out, or inout\\n#ytick.minor.visible  : False  ## visibility of minor ticks on y-axis\\n#ytick.major.left     : True   ## draw y axis left major ticks\\n#ytick.major.right    : True   ## draw y axis right major ticks\\n#ytick.minor.left     : True   ## draw y axis left minor ticks\\n#ytick.minor.right    : True   ## draw y axis right minor ticks\\n#ytick.alignment      : center_baseline ## alignment of yticks\\n\\n#### GRIDS\\n#grid.color       :   b0b0b0    ## grid color\\n#grid.linestyle   :   -         ## solid\\n#grid.linewidth   :   0.8       ## in points\\n#grid.alpha       :   1.0       ## transparency, between 0.0 and 1.0\\n\\n#### Legend\\n#legend.loc           : best\\n#legend.frameon       : True     ## if True, draw the legend on a background patch\\n#legend.framealpha    : 0.8      ## legend patch transparency\\n#legend.facecolor     : inherit  ## inherit from axes.facecolor; or color spec\\n#legend.edgecolor     : 0.8      ## background patch boundary color\\n#legend.fancybox      : True     ## if True, use a rounded box for the\\n                                 ## legend background, else a rectangle\\n#legend.shadow        : False    ## if True, give background a shadow effect\\n#legend.numpoints     : 1        ## the number of marker points in the legend line\\n#legend.scatterpoints : 1        ## number of scatter points\\n#legend.markerscale   : 1.0      ## the relative size of legend markers vs. original\\n#legend.fontsize      : medium\\n## Dimensions as fraction of fontsize:\\n#legend.borderpad     : 0.4      ## border whitespace\\n#legend.labelspacing  : 0.5      ## the vertical space between the legend entries\\n#legend.handlelength  : 2.0      ## the length of the legend lines\\n#legend.handleheight  : 0.7      ## the height of the legend handle\\n#legend.handletextpad : 0.8      ## the space between the legend line and legend text\\n#legend.borderaxespad : 0.5      ## the border between the axes and legend edge\\n#legend.columnspacing : 2.0      ## column separation\\n\\n#### FIGURE\\n## See http://matplotlib.org/api/figure_api.html#matplotlib.figure.Figure\\n#figure.titlesize : large      ## size of the figure title (Figure.suptitle())\\n#figure.titleweight : normal   ## weight of the figure title\\n#figure.figsize   : 6.4, 4.8   ## figure size in inches\\n#figure.dpi       : 100        ## figure dots per inch\\n#figure.facecolor : w      ## figure facecolor; 0.75 is scalar gray\\n#figure.edgecolor : w      ## figure edgecolor\\n#figure.frameon : True          ## enable figure frame\\n#figure.max_open_warning : 20  ## The maximum number of figures to open through\\n                               ## the pyplot interface before emitting a warning.\\n                               ## If less than one this feature is disabled.\\n## The figure subplot parameters.  All dimensions are a fraction of the\\n#figure.subplot.left    : 0.125  ## the left side of the subplots of the figure\\n#figure.subplot.right   : 0.9    ## the right side of the subplots of the figure\\n#figure.subplot.bottom  : 0.11   ## the bottom of the subplots of the figure\\n#figure.subplot.top     : 0.88   ## the top of the subplots of the figure\\n#figure.subplot.wspace  : 0.2    ## the amount of width reserved for space between subplots,\\n                                 ## expressed as a fraction of the average axis width\\n#figure.subplot.hspace  : 0.2    ## the amount of height reserved for space between subplots,\\n                                 ## expressed as a fraction of the average axis height\\n\\n## Figure layout\\n#figure.autolayout : False     ## When True, automatically adjust subplot\\n                               ## parameters to make the plot fit the figure\\n                               ## using `tight_layout`\\n#figure.constrained_layout.use: False ## When True, automatically make plot\\n                                      ## elements fit on the figure. (Not compatible\\n                                      ## with `autolayout`, above).\\t\\n#figure.constrained_layout.h_pad : 0.04167 ## Padding around axes objects. Float representing \\n#figure.constrained_layout.w_pad : 0.04167 ##  inches. Default is 3./72. inches (3 pts)\\n#figure.constrained_layout.hspace : 0.02   ## Space between subplot groups. Float representing \\n#figure.constrained_layout.wspace : 0.02   ##  a fraction of the subplot widths being separated. \\n\\n#### IMAGES\\n#image.aspect : equal             ## equal | auto | a number\\n#image.interpolation  : nearest   ## see help(imshow) for options\\n#image.cmap   : viridis           ## A colormap name, gray etc...\\n#image.lut    : 256               ## the size of the colormap lookup table\\n#image.origin : upper             ## lower | upper\\n#image.resample  : True\\n#image.composite_image : True     ## When True, all the images on a set of axes are\\n                                  ## combined into a single composite image before\\n                                  ## saving a figure as a vector graphics file,\\n                                  ## such as a PDF.\\n\\n#### CONTOUR PLOTS\\n#contour.negative_linestyle : dashed ## string or on-off ink sequence\\n#contour.corner_mask        : True   ## True | False | legacy\\n\\n#### ERRORBAR PLOTS\\n#errorbar.capsize : 0             ## length of end cap on error bars in pixels\\n\\n#### HISTOGRAM PLOTS\\n#hist.bins : 10                   ## The default number of histogram bins.\\n                                  ## If Numpy 1.11 or later is\\n                                  ## installed, may also be `auto`\\n\\n#### SCATTER PLOTS\\n#scatter.marker : o               ## The default marker type for scatter plots.\\n\\n#### Agg rendering\\n#### Warning: experimental, 2008/10/10\\n#agg.path.chunksize : 0           ## 0 to disable; values in the range\\n                                  ## 10000 to 100000 can improve speed slightly\\n                                  ## and prevent an Agg rendering failure\\n                                  ## when plotting very large data sets,\\n                                  ## especially if they are very gappy.\\n                                  ## It may cause minor artifacts, though.\\n                                  ## A value of 20000 is probably a good\\n                                  ## starting point.\\n#### PATHS \\n#path.simplify : True   ## When True, simplify paths by removing \"invisible\"\\n                        ## points to reduce file size and increase rendering\\n                        ## speed\\n#path.simplify_threshold : 0.111111111111  ## The threshold of similarity below which\\n                                           ## vertices will be removed in the \\n                                           ## simplification process\\n#path.snap : True ## When True, rectilinear axis-aligned paths will be snapped to\\n                  ## the nearest pixel when certain criteria are met.  When False,\\n                  ## paths will never be snapped.\\n#path.sketch : None ## May be none, or a 3-tuple of the form (scale, length,\\n                    ## randomness).\\n                    ## *scale* is the amplitude of the wiggle\\n                    ## perpendicular to the line (in pixels).  *length*\\n                    ## is the length of the wiggle along the line (in\\n                    ## pixels).  *randomness* is the factor by which\\n                    ## the length is randomly scaled.\\n#path.effects : []  ##\\n\\n#### SAVING FIGURES\\n## the default savefig params can be different from the display params\\n## e.g., you may want a higher resolution, or to make the figure\\n## background white\\n#savefig.dpi         : figure   ## figure dots per inch or \\'figure\\'\\n#savefig.facecolor   : w        ## figure facecolor when saving\\n#savefig.edgecolor   : w        ## figure edgecolor when saving\\n#savefig.format      : png      ## png, ps, pdf, svg\\n#savefig.bbox        : standard ## \\'tight\\' or \\'standard\\'.\\n                                ## \\'tight\\' is incompatible with pipe-based animation\\n                                ## backends but will workd with temporary file based ones:\\n                                ## e.g. setting animation.writer to ffmpeg will not work,\\n                                ## use ffmpeg_file instead\\n#savefig.pad_inches  : 0.1      ## Padding to be used when bbox is set to \\'tight\\'\\n#savefig.jpeg_quality: 95       ## when a jpeg is saved, the default quality parameter.\\n#savefig.directory   : ~        ## default directory in savefig dialog box,\\n                                ## leave empty to always use current working directory\\n#savefig.transparent : False    ## setting that controls whether figures are saved with a\\n                                ## transparent background by default\\n#savefig.frameon : True\\t\\t\\t## enable frame of figure when saving \\n#savefig.orientation : portrait\\t## Orientation of saved figure\\t\\t\\t\\t\\n\\n### tk backend params\\n#tk.window_focus   : False    ## Maintain shell focus for TkAgg\\n\\n### ps backend params\\n#ps.papersize      : letter   ## auto, letter, legal, ledger, A0-A10, B0-B10\\n#ps.useafm         : False    ## use of afm fonts, results in small files\\n#ps.usedistiller   : False    ## can be: None, ghostscript or xpdf\\n                                          ## Experimental: may produce smaller files.\\n                                          ## xpdf intended for production of publication quality files,\\n                                          ## but requires ghostscript, xpdf and ps2eps\\n#ps.distiller.res  : 6000      ## dpi\\n#ps.fonttype       : 3         ## Output Type 3 (Type3) or Type 42 (TrueType)\\n\\n### pdf backend params\\n#pdf.compression   : 6   ## integer from 0 to 9\\n                         ## 0 disables compression (good for debugging)\\n#pdf.fonttype       : 3         ## Output Type 3 (Type3) or Type 42 (TrueType)\\n#pdf.use14corefonts : False\\n#pdf.inheritcolor : False\\n\\n### svg backend params\\n#svg.image_inline : True       ## write raster image data directly into the svg file\\n#svg.fonttype :   path         ## How to handle SVG fonts:\\n   ##     none: Assume fonts are installed on the machine where the SVG will be viewed.\\n   ##     path: Embed characters as paths -- supported by most SVG renderers\\n   ##     svgfont: Embed characters as SVG fonts -- supported only by Chrome,\\n   ##                Opera and Safari\\n#svg.hashsalt : None           ## if not None, use this string as hash salt\\n                               ## instead of uuid4\\n### pgf parameter\\n#pgf.rcfonts : True\\n#pgf.preamble :   \\n#pgf.texsystem : xelatex\\n#pgf.debug : False\\n\\n### docstring params\\n##docstring.hardcopy = False  ## set this when you want to generate hardcopy docstring\\n\\n## Event keys to interact with figures/plots via keyboard.\\n## Customize these settings according to your needs.\\n## Leave the field(s) empty if you don\\'t need a key-map. (i.e., fullscreen : \\'\\')\\n#keymap.fullscreen : f, ctrl+f       ## toggling\\n#keymap.home : h, r, home            ## home or reset mnemonic\\n#keymap.back : left, c, backspace    ## forward / backward keys to enable\\n#keymap.forward : right, v           ##   left handed quick navigation\\n#keymap.pan : p                      ## pan mnemonic\\n#keymap.zoom : o                     ## zoom mnemonic\\n#keymap.save : s, ctrl+s             ## saving current figure\\n#keymap.quit : ctrl+w, cmd+w, q      ## close the current figure\\n#keymap.quit_all : W, cmd+W, Q       ## close all figures\\n#keymap.grid : g                     ## switching on/off major grids in current axes\\n#keymap.grid_minor : G               ## switching on/off minor grids in current axes\\n#keymap.yscale : l                   ## toggle scaling of y-axes (\\'log\\'/\\'linear\\')\\n#keymap.xscale : k, L                ## toggle scaling of x-axes (\\'log\\'/\\'linear\\')\\n#keymap.all_axes : a                 ## enable all axes\\n\\n## Control location of examples data files\\n#examples.directory :              ## directory to look in for custom installation\\n\\n###ANIMATION settings\\n#animation.html :  none            ## How to display the animation as HTML in\\n                                   ## the IPython notebook. \\'html5\\' uses\\n                                   ## HTML5 video tag; \\'jshtml\\' creates a \\n                                   ## Javascript animation\\n#animation.writer : ffmpeg         ## MovieWriter \\'backend\\' to use\\n#animation.codec : h264            ## Codec to use for writing movie\\n#animation.bitrate: -1             ## Controls size/quality tradeoff for movie.\\n                                   ## -1 implies let utility auto-determine\\n#animation.frame_format:  png      ## Controls frame format used by temp files\\n#animation.html_args:              ## Additional arguments to pass to html writer\\n#animation.ffmpeg_path:  ffmpeg    ## Path to ffmpeg binary. Without full path\\n                                   ## $PATH is searched\\n#animation.ffmpeg_args:            ## Additional arguments to pass to ffmpeg\\n#animation.avconv_path:  avconv    ## Path to avconv binary. Without full path\\n                                   ## $PATH is searched\\n#animation.avconv_args:            ## Additional arguments to pass to avconv\\n#animation.convert_path:  convert  ## Path to ImageMagick\\'s convert binary.\\n                                   ## On Windows use the full path since convert\\n                                   ## is also the name of a system tool.\\n#animation.convert_args:           ## Additional arguments to pass to convert\\n#animation.embed_limit : 20.0\\n'"
      ]
     },
     "execution_count": 7,
     "metadata": {},
     "output_type": "execute_result"
    }
   ],
   "source": [
    "file.read()"
   ]
  },
  {
   "cell_type": "code",
   "execution_count": null,
   "metadata": {
    "collapsed": true
   },
   "outputs": [],
   "source": []
  }
 ],
 "metadata": {
  "anaconda-cloud": {},
  "kernelspec": {
   "display_name": "Python [conda env:py37]",
   "language": "python",
   "name": "conda-env-py37-py"
  },
  "language_info": {
   "codemirror_mode": {
    "name": "ipython",
    "version": 3
   },
   "file_extension": ".py",
   "mimetype": "text/x-python",
   "name": "python",
   "nbconvert_exporter": "python",
   "pygments_lexer": "ipython3",
   "version": "3.7.0"
  }
 },
 "nbformat": 4,
 "nbformat_minor": 0
}
