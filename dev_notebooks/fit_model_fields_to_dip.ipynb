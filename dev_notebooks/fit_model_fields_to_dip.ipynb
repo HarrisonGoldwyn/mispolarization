{
 "cells": [
  {
   "cell_type": "code",
   "execution_count": 1,
   "metadata": {},
   "outputs": [],
   "source": [
    "import os\n",
    "import sys\n",
    "module_path = os.path.abspath(os.path.join('..'))\n",
    "sys.path.append(module_path)"
   ]
  },
  {
   "cell_type": "code",
   "execution_count": 2,
   "metadata": {},
   "outputs": [],
   "source": [
    "import numpy as np"
   ]
  },
  {
   "cell_type": "code",
   "execution_count": 3,
   "metadata": {},
   "outputs": [],
   "source": [
    "\n",
    "import matplotlib.pyplot as plt\n",
    "import matplotlib as mpl\n",
    "\n",
    "# inspired by http://nipunbatra.github.io/2014/08/latexify/\n",
    "params = {\n",
    "    'text.latex.preamble': ['\\\\usepackage{gensymb}'],\n",
    "    'image.origin': 'lower',\n",
    "    'image.interpolation': 'nearest',\n",
    "    'image.cmap': 'magma',\n",
    "    'axes.grid': False,\n",
    "#     'savefig.dpi': 150,  # to adjust notebook inline plot size\n",
    "    'axes.labelsize': 8, # fontsize for x and y labels (was 10)\n",
    "    'axes.titlesize': 8,\n",
    "    'font.size': 8, # was 10\n",
    "    'legend.fontsize': 6, # was 10\n",
    "    'xtick.labelsize': 8,\n",
    "    'ytick.labelsize': 8,\n",
    "    'text.usetex': True,\n",
    "    'figure.figsize': [3.39, 2.10],\n",
    "    'font.family': 'serif',\n",
    "}\n",
    "mpl.rcParams.update(params)\n",
    "\n",
    "## For colorbar \n",
    "from mpl_toolkits.axes_grid1 import make_axes_locatable\n",
    "#         ## Add colorbar\n",
    "#         divider = make_axes_locatable(axs[ax_idx])\n",
    "#         cax1 = divider.append_axes(\"right\", size=\"5%\", pad=0.05)\n",
    "#         fig.colorbar(img1, cax=cax1)\n"
   ]
  },
  {
   "cell_type": "code",
   "execution_count": 4,
   "metadata": {},
   "outputs": [],
   "source": [
    "from misloc_mispol_package.calc import BEM_simulation_wrapper as bem\n",
    "from misloc_mispol_package.calc import fitting_misLocalization as fit\n",
    "\n",
    "from misloc_mispol_package.optics import diffraction_int as diffi\n",
    "\n",
    "import scipy.optimize as opt\n",
    "m_per_nm = fit.m_per_nm"
   ]
  },
  {
   "cell_type": "code",
   "execution_count": null,
   "metadata": {},
   "outputs": [],
   "source": []
  },
  {
   "cell_type": "code",
   "execution_count": null,
   "metadata": {},
   "outputs": [],
   "source": []
  },
  {
   "cell_type": "code",
   "execution_count": 5,
   "metadata": {},
   "outputs": [],
   "source": [
    "import scipy.io as sio"
   ]
  },
  {
   "cell_type": "code",
   "execution_count": 6,
   "metadata": {},
   "outputs": [],
   "source": [
    "mat_images = sio.loadmat(\n",
    "    \"/Users/chair/Documents/Academia/SuperRes/Biteen_colab/\"+\n",
    "    \"from_Biteen_group/rerecoverthelocalization/mov_006_molecule_img_good.mat\"\n",
    "    )"
   ]
  },
  {
   "cell_type": "code",
   "execution_count": null,
   "metadata": {},
   "outputs": [],
   "source": []
  },
  {
   "cell_type": "code",
   "execution_count": null,
   "metadata": {},
   "outputs": [],
   "source": []
  },
  {
   "cell_type": "code",
   "execution_count": 7,
   "metadata": {},
   "outputs": [],
   "source": [
    "exp_obs_pts = diffi.observation_points(0, 48*20*m_per_nm, 0, 48*20*m_per_nm, 21) ## cm_per_m"
   ]
  },
  {
   "cell_type": "code",
   "execution_count": 8,
   "metadata": {},
   "outputs": [],
   "source": [
    "def dipole_fields(p, ang, x, y):\n",
    "    \n",
    "    p_x = p*np.cos(ang)\n",
    "    p_y = p*np.sin(ang)\n",
    "\n",
    "    \n",
    "    field = real_dipole_fields(np.array([[p_x, p_y, 0]]), np.array([[x, y,0]]))\n",
    "    \n",
    "    return field\n",
    "    "
   ]
  },
  {
   "cell_type": "code",
   "execution_count": 9,
   "metadata": {},
   "outputs": [],
   "source": [
    "def model_dip_image(p, ang, x, y, offset):\n",
    "    \n",
    "    ## Shift coordines to match data\n",
    "    x = (x)*m_per_nm\n",
    "    y = (y)*m_per_nm\n",
    "    \n",
    "    ## Initialize observation pts\n",
    "    inst = fit.CoupledDipoles(\n",
    "        obs_points=exp_obs_pts, \n",
    "        drive_energy_eV=2.32\n",
    "                             )\n",
    "    \n",
    "    real_dipole_fields = inst.mb_p_fields\n",
    "    \n",
    "    p_x = p*np.cos(ang)\n",
    "    p_y = p*np.sin(ang)\n",
    "    \n",
    "    field = real_dipole_fields(np.array([[p_x, p_y, 0]]), np.array([[x, y, 0]]))\n",
    "    \n",
    "    image = inst.image_from_E(field)\n",
    "    \n",
    "    return image.ravel() + offset#, field\n",
    "\n",
    "\n",
    "def normed_model_dip_image(p, ang, x, y, offset):\n",
    "    \n",
    "    image = model_dip_image(p, ang, x, y, offset)\n",
    "    \n",
    "    normed_image = image / np.max(image)\n",
    "    \n",
    "    return normed_image\n",
    "    "
   ]
  },
  {
   "cell_type": "code",
   "execution_count": 10,
   "metadata": {},
   "outputs": [
    {
     "data": {
      "text/plain": [
       "0.0"
      ]
     },
     "execution_count": 10,
     "metadata": {},
     "output_type": "execute_result"
    }
   ],
   "source": [
    "import scipy.special as spf\n",
    "\n",
    "spf.spherical_jn( 1, 0 )"
   ]
  },
  {
   "cell_type": "code",
   "execution_count": 11,
   "metadata": {},
   "outputs": [
    {
     "name": "stderr",
     "output_type": "stream",
     "text": [
      "  File \"/Users/chair/anaconda/envs/py36/lib/python3.6/runpy.py\", line 193, in _run_module_as_main\n",
      "    \"__main__\", mod_spec)\n",
      "  File \"/Users/chair/anaconda/envs/py36/lib/python3.6/runpy.py\", line 85, in _run_code\n",
      "    exec(code, run_globals)\n",
      "  File \"/Users/chair/anaconda/envs/py36/lib/python3.6/site-packages/ipykernel_launcher.py\", line 16, in <module>\n",
      "    app.launch_new_instance()\n",
      "  File \"/Users/chair/anaconda/envs/py36/lib/python3.6/site-packages/traitlets/config/application.py\", line 658, in launch_instance\n",
      "    app.start()\n",
      "  File \"/Users/chair/anaconda/envs/py36/lib/python3.6/site-packages/ipykernel/kernelapp.py\", line 505, in start\n",
      "    self.io_loop.start()\n",
      "  File \"/Users/chair/anaconda/envs/py36/lib/python3.6/site-packages/tornado/platform/asyncio.py\", line 132, in start\n",
      "    self.asyncio_loop.run_forever()\n",
      "  File \"/Users/chair/anaconda/envs/py36/lib/python3.6/asyncio/base_events.py\", line 427, in run_forever\n",
      "    self._run_once()\n",
      "  File \"/Users/chair/anaconda/envs/py36/lib/python3.6/asyncio/base_events.py\", line 1440, in _run_once\n",
      "    handle._run()\n",
      "  File \"/Users/chair/anaconda/envs/py36/lib/python3.6/asyncio/events.py\", line 145, in _run\n",
      "    self._callback(*self._args)\n",
      "  File \"/Users/chair/anaconda/envs/py36/lib/python3.6/site-packages/tornado/ioloop.py\", line 758, in _run_callback\n",
      "    ret = callback()\n",
      "  File \"/Users/chair/anaconda/envs/py36/lib/python3.6/site-packages/tornado/stack_context.py\", line 300, in null_wrapper\n",
      "    return fn(*args, **kwargs)\n",
      "  File \"/Users/chair/anaconda/envs/py36/lib/python3.6/site-packages/tornado/gen.py\", line 1233, in inner\n",
      "    self.run()\n",
      "  File \"/Users/chair/anaconda/envs/py36/lib/python3.6/site-packages/tornado/gen.py\", line 1147, in run\n",
      "    yielded = self.gen.send(value)\n",
      "  File \"/Users/chair/anaconda/envs/py36/lib/python3.6/site-packages/ipykernel/kernelbase.py\", line 370, in dispatch_queue\n",
      "    yield self.process_one()\n",
      "  File \"/Users/chair/anaconda/envs/py36/lib/python3.6/site-packages/tornado/gen.py\", line 346, in wrapper\n",
      "    runner = Runner(result, future, yielded)\n",
      "  File \"/Users/chair/anaconda/envs/py36/lib/python3.6/site-packages/tornado/gen.py\", line 1080, in __init__\n",
      "    self.run()\n",
      "  File \"/Users/chair/anaconda/envs/py36/lib/python3.6/site-packages/tornado/gen.py\", line 1147, in run\n",
      "    yielded = self.gen.send(value)\n",
      "  File \"/Users/chair/anaconda/envs/py36/lib/python3.6/site-packages/ipykernel/kernelbase.py\", line 357, in process_one\n",
      "    yield gen.maybe_future(dispatch(*args))\n",
      "  File \"/Users/chair/anaconda/envs/py36/lib/python3.6/site-packages/tornado/gen.py\", line 326, in wrapper\n",
      "    yielded = next(result)\n",
      "  File \"/Users/chair/anaconda/envs/py36/lib/python3.6/site-packages/ipykernel/kernelbase.py\", line 267, in dispatch_shell\n",
      "    yield gen.maybe_future(handler(stream, idents, msg))\n",
      "  File \"/Users/chair/anaconda/envs/py36/lib/python3.6/site-packages/tornado/gen.py\", line 326, in wrapper\n",
      "    yielded = next(result)\n",
      "  File \"/Users/chair/anaconda/envs/py36/lib/python3.6/site-packages/ipykernel/kernelbase.py\", line 534, in execute_request\n",
      "    user_expressions, allow_stdin,\n",
      "  File \"/Users/chair/anaconda/envs/py36/lib/python3.6/site-packages/tornado/gen.py\", line 326, in wrapper\n",
      "    yielded = next(result)\n",
      "  File \"/Users/chair/anaconda/envs/py36/lib/python3.6/site-packages/ipykernel/ipkernel.py\", line 294, in do_execute\n",
      "    res = shell.run_cell(code, store_history=store_history, silent=silent)\n",
      "  File \"/Users/chair/anaconda/envs/py36/lib/python3.6/site-packages/ipykernel/zmqshell.py\", line 536, in run_cell\n",
      "    return super(ZMQInteractiveShell, self).run_cell(*args, **kwargs)\n",
      "  File \"/Users/chair/anaconda/envs/py36/lib/python3.6/site-packages/IPython/core/interactiveshell.py\", line 2819, in run_cell\n",
      "    raw_cell, store_history, silent, shell_futures)\n",
      "  File \"/Users/chair/anaconda/envs/py36/lib/python3.6/site-packages/IPython/core/interactiveshell.py\", line 2845, in _run_cell\n",
      "    return runner(coro)\n",
      "  File \"/Users/chair/anaconda/envs/py36/lib/python3.6/site-packages/IPython/core/async_helpers.py\", line 67, in _pseudo_sync_runner\n",
      "    coro.send(None)\n",
      "  File \"/Users/chair/anaconda/envs/py36/lib/python3.6/site-packages/IPython/core/interactiveshell.py\", line 3020, in run_cell_async\n",
      "    interactivity=interactivity, compiler=compiler, result=result)\n",
      "  File \"/Users/chair/anaconda/envs/py36/lib/python3.6/site-packages/IPython/core/interactiveshell.py\", line 3191, in run_ast_nodes\n",
      "    if (yield from self.run_code(code, result)):\n",
      "  File \"/Users/chair/anaconda/envs/py36/lib/python3.6/site-packages/IPython/core/interactiveshell.py\", line 3267, in run_code\n",
      "    exec(code_obj, self.user_global_ns, self.user_ns)\n",
      "  File \"<ipython-input-11-e2edc12d54c9>\", line 1, in <module>\n",
      "    model_dip_image( 1E-12, 1, 480.00000000000006, 528.0, 1)\n",
      "  File \"<ipython-input-9-bc2445fb215a>\", line 18, in model_dip_image\n",
      "    field = real_dipole_fields(np.array([[p_x, p_y, 0]]), np.array([[x, y, 0]]))\n",
      "  File \"/Users/chair/Documents/Academia/SuperRes/Biteen_colab/Mispolarization/python/gitted/misloc_mispol_package/calc/fitting_misLocalization.py\", line 808, in mb_p_fields\n",
      "    (self.drive_energy_eV/hbar)*np.sqrt(self.eps_b)/c\n",
      "  File \"/Users/chair/Documents/Academia/SuperRes/Biteen_colab/Mispolarization/python/gitted/misloc_mispol_package/optics/anal_foc_diff_fields.py\", line 34, in E_field\n",
      "    np.nan_to_num(spf.spherical_jn( 1, k*rho(xi, y) )/(k*rho(xi, y)))\n",
      "  File \"/Users/chair/anaconda/envs/py36/lib/python3.6/warnings.py\", line 99, in _showwarnmsg\n",
      "    msg.file, msg.line)\n",
      "  File \"/Users/chair/Documents/Academia/SuperRes/Biteen_colab/Mispolarization/python/gitted/misloc_mispol_package/calc/BEM_simulation_wrapper.py\", line 120, in warn_with_traceback\n",
      "    traceback.print_stack(file=log)\n",
      "/Users/chair/Documents/Academia/SuperRes/Biteen_colab/Mispolarization/python/gitted/misloc_mispol_package/optics/anal_foc_diff_fields.py:34: RuntimeWarning: invalid value encountered in true_divide\n",
      "  np.nan_to_num(spf.spherical_jn( 1, k*rho(xi, y) )/(k*rho(xi, y)))\n",
      "  File \"/Users/chair/anaconda/envs/py36/lib/python3.6/runpy.py\", line 193, in _run_module_as_main\n",
      "    \"__main__\", mod_spec)\n",
      "  File \"/Users/chair/anaconda/envs/py36/lib/python3.6/runpy.py\", line 85, in _run_code\n",
      "    exec(code, run_globals)\n",
      "  File \"/Users/chair/anaconda/envs/py36/lib/python3.6/site-packages/ipykernel_launcher.py\", line 16, in <module>\n",
      "    app.launch_new_instance()\n",
      "  File \"/Users/chair/anaconda/envs/py36/lib/python3.6/site-packages/traitlets/config/application.py\", line 658, in launch_instance\n",
      "    app.start()\n",
      "  File \"/Users/chair/anaconda/envs/py36/lib/python3.6/site-packages/ipykernel/kernelapp.py\", line 505, in start\n",
      "    self.io_loop.start()\n",
      "  File \"/Users/chair/anaconda/envs/py36/lib/python3.6/site-packages/tornado/platform/asyncio.py\", line 132, in start\n",
      "    self.asyncio_loop.run_forever()\n",
      "  File \"/Users/chair/anaconda/envs/py36/lib/python3.6/asyncio/base_events.py\", line 427, in run_forever\n",
      "    self._run_once()\n",
      "  File \"/Users/chair/anaconda/envs/py36/lib/python3.6/asyncio/base_events.py\", line 1440, in _run_once\n",
      "    handle._run()\n",
      "  File \"/Users/chair/anaconda/envs/py36/lib/python3.6/asyncio/events.py\", line 145, in _run\n",
      "    self._callback(*self._args)\n",
      "  File \"/Users/chair/anaconda/envs/py36/lib/python3.6/site-packages/tornado/ioloop.py\", line 758, in _run_callback\n",
      "    ret = callback()\n",
      "  File \"/Users/chair/anaconda/envs/py36/lib/python3.6/site-packages/tornado/stack_context.py\", line 300, in null_wrapper\n",
      "    return fn(*args, **kwargs)\n",
      "  File \"/Users/chair/anaconda/envs/py36/lib/python3.6/site-packages/tornado/gen.py\", line 1233, in inner\n",
      "    self.run()\n",
      "  File \"/Users/chair/anaconda/envs/py36/lib/python3.6/site-packages/tornado/gen.py\", line 1147, in run\n",
      "    yielded = self.gen.send(value)\n",
      "  File \"/Users/chair/anaconda/envs/py36/lib/python3.6/site-packages/ipykernel/kernelbase.py\", line 370, in dispatch_queue\n",
      "    yield self.process_one()\n",
      "  File \"/Users/chair/anaconda/envs/py36/lib/python3.6/site-packages/tornado/gen.py\", line 346, in wrapper\n",
      "    runner = Runner(result, future, yielded)\n",
      "  File \"/Users/chair/anaconda/envs/py36/lib/python3.6/site-packages/tornado/gen.py\", line 1080, in __init__\n",
      "    self.run()\n",
      "  File \"/Users/chair/anaconda/envs/py36/lib/python3.6/site-packages/tornado/gen.py\", line 1147, in run\n",
      "    yielded = self.gen.send(value)\n",
      "  File \"/Users/chair/anaconda/envs/py36/lib/python3.6/site-packages/ipykernel/kernelbase.py\", line 357, in process_one\n",
      "    yield gen.maybe_future(dispatch(*args))\n",
      "  File \"/Users/chair/anaconda/envs/py36/lib/python3.6/site-packages/tornado/gen.py\", line 326, in wrapper\n",
      "    yielded = next(result)\n",
      "  File \"/Users/chair/anaconda/envs/py36/lib/python3.6/site-packages/ipykernel/kernelbase.py\", line 267, in dispatch_shell\n",
      "    yield gen.maybe_future(handler(stream, idents, msg))\n",
      "  File \"/Users/chair/anaconda/envs/py36/lib/python3.6/site-packages/tornado/gen.py\", line 326, in wrapper\n",
      "    yielded = next(result)\n",
      "  File \"/Users/chair/anaconda/envs/py36/lib/python3.6/site-packages/ipykernel/kernelbase.py\", line 534, in execute_request\n",
      "    user_expressions, allow_stdin,\n",
      "  File \"/Users/chair/anaconda/envs/py36/lib/python3.6/site-packages/tornado/gen.py\", line 326, in wrapper\n",
      "    yielded = next(result)\n",
      "  File \"/Users/chair/anaconda/envs/py36/lib/python3.6/site-packages/ipykernel/ipkernel.py\", line 294, in do_execute\n",
      "    res = shell.run_cell(code, store_history=store_history, silent=silent)\n",
      "  File \"/Users/chair/anaconda/envs/py36/lib/python3.6/site-packages/ipykernel/zmqshell.py\", line 536, in run_cell\n",
      "    return super(ZMQInteractiveShell, self).run_cell(*args, **kwargs)\n",
      "  File \"/Users/chair/anaconda/envs/py36/lib/python3.6/site-packages/IPython/core/interactiveshell.py\", line 2819, in run_cell\n",
      "    raw_cell, store_history, silent, shell_futures)\n",
      "  File \"/Users/chair/anaconda/envs/py36/lib/python3.6/site-packages/IPython/core/interactiveshell.py\", line 2845, in _run_cell\n",
      "    return runner(coro)\n",
      "  File \"/Users/chair/anaconda/envs/py36/lib/python3.6/site-packages/IPython/core/async_helpers.py\", line 67, in _pseudo_sync_runner\n",
      "    coro.send(None)\n",
      "  File \"/Users/chair/anaconda/envs/py36/lib/python3.6/site-packages/IPython/core/interactiveshell.py\", line 3020, in run_cell_async\n",
      "    interactivity=interactivity, compiler=compiler, result=result)\n",
      "  File \"/Users/chair/anaconda/envs/py36/lib/python3.6/site-packages/IPython/core/interactiveshell.py\", line 3191, in run_ast_nodes\n",
      "    if (yield from self.run_code(code, result)):\n",
      "  File \"/Users/chair/anaconda/envs/py36/lib/python3.6/site-packages/IPython/core/interactiveshell.py\", line 3267, in run_code\n",
      "    exec(code_obj, self.user_global_ns, self.user_ns)\n",
      "  File \"<ipython-input-11-e2edc12d54c9>\", line 1, in <module>\n",
      "    model_dip_image( 1E-12, 1, 480.00000000000006, 528.0, 1)\n",
      "  File \"<ipython-input-9-bc2445fb215a>\", line 18, in model_dip_image\n",
      "    field = real_dipole_fields(np.array([[p_x, p_y, 0]]), np.array([[x, y, 0]]))\n",
      "  File \"/Users/chair/Documents/Academia/SuperRes/Biteen_colab/Mispolarization/python/gitted/misloc_mispol_package/calc/fitting_misLocalization.py\", line 808, in mb_p_fields\n",
      "    (self.drive_energy_eV/hbar)*np.sqrt(self.eps_b)/c\n",
      "  File \"/Users/chair/Documents/Academia/SuperRes/Biteen_colab/Mispolarization/python/gitted/misloc_mispol_package/optics/anal_foc_diff_fields.py\", line 54, in E_field\n",
      "    spf.jv(2, k*rho(xi, y) )/(k*rho(xi, y))\n",
      "  File \"/Users/chair/anaconda/envs/py36/lib/python3.6/warnings.py\", line 99, in _showwarnmsg\n",
      "    msg.file, msg.line)\n",
      "  File \"/Users/chair/Documents/Academia/SuperRes/Biteen_colab/Mispolarization/python/gitted/misloc_mispol_package/calc/BEM_simulation_wrapper.py\", line 120, in warn_with_traceback\n",
      "    traceback.print_stack(file=log)\n",
      "/Users/chair/Documents/Academia/SuperRes/Biteen_colab/Mispolarization/python/gitted/misloc_mispol_package/optics/anal_foc_diff_fields.py:54: RuntimeWarning: invalid value encountered in true_divide\n",
      "  spf.jv(2, k*rho(xi, y) )/(k*rho(xi, y))\n"
     ]
    },
    {
     "data": {
      "text/plain": [
       "array([6.02831459e+00, 1.32246767e+01, 1.88405857e+01, 1.78377658e+01,\n",
       "       1.46333689e+01, 2.02801518e+01, 4.18423843e+01, 7.61436666e+01,\n",
       "       1.13636155e+02, 1.46624775e+02, 1.73576180e+02, 1.97298177e+02,\n",
       "       2.19889716e+02, 2.37697786e+02, 2.39030080e+02, 2.08684899e+02,\n",
       "       1.41806059e+02, 5.93262480e+01, 5.44842260e+00, 1.54485561e+01,\n",
       "       7.62460786e+01, 8.58633906e+00, 1.60674241e+01, 1.78274425e+01,\n",
       "       1.48208439e+01, 1.83367257e+01, 3.75098206e+01, 6.78194122e+01,\n",
       "       9.47700618e+01, 1.07465716e+02, 1.06537346e+02, 1.00931351e+02,\n",
       "       1.01150111e+02, 1.16219435e+02, 1.52307022e+02, 2.06567830e+02,\n",
       "       2.57617578e+02, 2.67476026e+02, 2.08747688e+02, 1.01672835e+02,\n",
       "       1.54783055e+01, 1.08098397e+01, 1.32815478e+01, 1.80837898e+01,\n",
       "       1.47853219e+01, 1.20943303e+01, 2.33720075e+01, 4.80911567e+01,\n",
       "       6.92748597e+01, 7.18878922e+01, 5.84360050e+01, 4.30028596e+01,\n",
       "       3.39643465e+01, 2.72871021e+01, 1.69297544e+01, 1.07739558e+01,\n",
       "       3.39664472e+01, 1.06778979e+02, 2.08373734e+02, 2.70250516e+02,\n",
       "       2.31640502e+02, 1.13415055e+02, 1.54427835e+01, 1.73819547e+01,\n",
       "       1.61646658e+01, 8.65052895e+00, 1.06065187e+01, 3.13997781e+01,\n",
       "       5.74048158e+01, 6.73118550e+01, 6.25663458e+01, 7.02095852e+01,\n",
       "       1.12010664e+02, 1.78383346e+02, 2.33369394e+02, 2.37740189e+02,\n",
       "       1.73893452e+02, 7.01922861e+01, 2.94527341e+00, 4.12351649e+01,\n",
       "       1.64200728e+02, 2.55573093e+02, 2.18875013e+02, 9.19866380e+01,\n",
       "       1.78306791e+01, 1.07496233e+01, 4.85636072e+00, 1.84365582e+01,\n",
       "       4.98406797e+01, 7.22330655e+01, 7.14004904e+01, 7.81908567e+01,\n",
       "       1.40964673e+02, 2.68441213e+02, 4.20833227e+02, 5.52279315e+02,\n",
       "       6.29711900e+02, 6.10384212e+02, 4.56813568e+02, 2.13847429e+02,\n",
       "       2.91958754e+01, 2.63332332e+01, 1.56636592e+02, 2.40595917e+02,\n",
       "       1.76094228e+02, 1.50948789e+01, 7.53053614e+00, 1.09642565e+01,\n",
       "       3.82407801e+01, 7.14035787e+01, 7.49416216e+01, 5.54986489e+01,\n",
       "       8.16039994e+01, 2.05037087e+02, 3.77943797e+02, 5.02332588e+02,\n",
       "       5.63447381e+02, 6.43269896e+02, 7.65232717e+02, 7.98465680e+02,\n",
       "       6.06866747e+02, 2.67487374e+02, 3.27370065e+01, 4.53268887e+01,\n",
       "       1.77339654e+02, 2.10620870e+02, 1.32226410e+01, 1.24522456e+01,\n",
       "       2.74874822e+01, 5.99117651e+01, 7.86456159e+01, 5.23224170e+01,\n",
       "       2.75161449e+01, 1.24760794e+02, 3.85350242e+02, 6.44210263e+02,\n",
       "       6.62822995e+02, 4.30515569e+02, 2.36745877e+02, 3.45555540e+02,\n",
       "       6.50525071e+02, 7.80667550e+02, 5.52778893e+02, 1.87978989e+02,\n",
       "       1.90245435e+01, 9.48028518e+01, 1.90334998e+02, 1.63847137e+01,\n",
       "       2.65984815e+01, 4.69926078e+01, 7.12678236e+01, 7.02171252e+01,\n",
       "       3.25516991e+01, 6.01906444e+01, 3.49953790e+02, 9.54422391e+02,\n",
       "       1.56127289e+03, 1.67213917e+03, 1.12390486e+03, 3.55325365e+02,\n",
       "       3.42743607e+00, 2.35696919e+02, 6.15128619e+02, 6.53619238e+02,\n",
       "       3.48400593e+02, 7.01998262e+01, 4.67982657e+01, 1.46094722e+02,\n",
       "       2.59130476e+01, 4.65921709e+01, 6.17343857e+01, 7.06587370e+01,\n",
       "       6.64945686e+01, 5.97841515e+01, 1.91835812e+02, 7.46721456e+02,\n",
       "       1.85833945e+03, 3.14057192e+03, 3.79072440e+03, 3.28181647e+03,\n",
       "       1.95183761e+03, 7.42564921e+02, 3.00493995e+02, 4.48066733e+02,\n",
       "       5.79124732e+02, 4.01727150e+02, 1.28377357e+02, 3.84298332e+01,\n",
       "       1.07504063e+02, 4.00419389e+01, 6.86572686e+01, 6.98348746e+01,\n",
       "       6.46611349e+01, 8.52458341e+01, 1.42014760e+02, 3.47530132e+02,\n",
       "       1.02844314e+03, 2.47567221e+03, 4.42190972e+03, 5.91075094e+03,\n",
       "       5.97541279e+03, 4.55030266e+03, 2.58302294e+03, 1.15885841e+03,\n",
       "       6.02366024e+02, 4.88467440e+02, 3.50893434e+02, 1.44602677e+02,\n",
       "       4.76265428e+01, 8.51229588e+01, 5.51855182e+01, 9.13888969e+01,\n",
       "       7.52421064e+01, 5.73732100e+01, 1.20424603e+02, 2.50399290e+02,\n",
       "       4.37031481e+02, 9.33346989e+02, 2.18365767e+03, 4.24414842e+03,\n",
       "       6.32789832e+03, 1.15025067e+04, 6.32789832e+03, 4.24414842e+03,\n",
       "       2.18365767e+03, 9.33346989e+02, 4.37031481e+02, 2.50399290e+02,\n",
       "       1.20424603e+02, 5.73732100e+01, 7.52421064e+01, 6.68384144e+01,\n",
       "       1.14970805e+02, 8.51229588e+01, 4.76265428e+01, 1.44602677e+02,\n",
       "       3.50893434e+02, 4.88467440e+02, 6.02366024e+02, 1.15885841e+03,\n",
       "       2.58302294e+03, 4.55030266e+03, 5.97541279e+03, 5.91075094e+03,\n",
       "       4.42190972e+03, 2.47567221e+03, 1.02844314e+03, 3.47530132e+02,\n",
       "       1.42014760e+02, 8.52458341e+01, 6.46611349e+01, 6.98348746e+01,\n",
       "       6.98970645e+01, 1.37665182e+02, 1.07504063e+02, 3.84298332e+01,\n",
       "       1.28377357e+02, 4.01727150e+02, 5.79124732e+02, 4.48066733e+02,\n",
       "       3.00493995e+02, 7.42564921e+02, 1.95183761e+03, 3.28181647e+03,\n",
       "       3.79072440e+03, 3.14057192e+03, 1.85833945e+03, 7.46721456e+02,\n",
       "       1.91835812e+02, 5.97841515e+01, 6.64945686e+01, 7.06587370e+01,\n",
       "       6.17343857e+01, 6.00369613e+01, 1.51992407e+02, 1.46094722e+02,\n",
       "       4.67982657e+01, 7.01998262e+01, 3.48400593e+02, 6.53619238e+02,\n",
       "       6.15128619e+02, 2.35696919e+02, 3.42743607e+00, 3.55325365e+02,\n",
       "       1.12390486e+03, 1.67213917e+03, 1.56127289e+03, 9.54422391e+02,\n",
       "       3.49953790e+02, 6.01906444e+01, 3.25516991e+01, 7.02171252e+01,\n",
       "       7.12678236e+01, 4.69926078e+01, 3.77258599e+01, 1.44993478e+02,\n",
       "       1.90334998e+02, 9.48028518e+01, 1.90245435e+01, 1.87978989e+02,\n",
       "       5.52778893e+02, 7.80667550e+02, 6.50525071e+02, 3.45555540e+02,\n",
       "       2.36745877e+02, 4.30515569e+02, 6.62822995e+02, 6.44210263e+02,\n",
       "       3.85350242e+02, 1.24760794e+02, 2.75161449e+01, 5.23224170e+01,\n",
       "       7.86456159e+01, 5.99117651e+01, 2.74874822e+01, 1.32253584e+01,\n",
       "       1.07494211e+02, 2.10620870e+02, 1.77339654e+02, 4.53268887e+01,\n",
       "       3.27370065e+01, 2.67487374e+02, 6.06866747e+02, 7.98465680e+02,\n",
       "       7.65232717e+02, 6.43269896e+02, 5.63447381e+02, 5.02332588e+02,\n",
       "       3.77943797e+02, 2.05037087e+02, 8.16039994e+01, 5.54986489e+01,\n",
       "       7.49416216e+01, 7.14035787e+01, 3.82407801e+01, 1.09642565e+01,\n",
       "       5.95214261e+00, 4.97957195e+01, 1.76094228e+02, 2.40595917e+02,\n",
       "       1.56636592e+02, 2.63332332e+01, 2.91958754e+01, 2.13847429e+02,\n",
       "       4.56813568e+02, 6.10384212e+02, 6.29711900e+02, 5.52279315e+02,\n",
       "       4.20833227e+02, 2.68441213e+02, 1.40964673e+02, 7.81908567e+01,\n",
       "       7.14004904e+01, 7.22330655e+01, 4.98406797e+01, 1.84365582e+01,\n",
       "       4.85636072e+00, 3.16269116e+01, 6.97971949e+00, 9.19866380e+01,\n",
       "       2.18875013e+02, 2.55573093e+02, 1.64200728e+02, 4.12351649e+01,\n",
       "       2.94527341e+00, 7.01922861e+01, 1.73893452e+02, 2.37740189e+02,\n",
       "       2.33369394e+02, 1.78383346e+02, 1.12010664e+02, 7.02095852e+01,\n",
       "       6.25663458e+01, 6.73118550e+01, 5.74048158e+01, 3.13997781e+01,\n",
       "       1.06065187e+01, 8.65052895e+00, 8.25773387e+01, 1.56945801e+01,\n",
       "       1.54427835e+01, 1.13415055e+02, 2.31640502e+02, 2.70250516e+02,\n",
       "       2.08373734e+02, 1.06778979e+02, 3.39664472e+01, 1.07739558e+01,\n",
       "       1.69297544e+01, 2.72871021e+01, 3.39643465e+01, 4.30028596e+01,\n",
       "       5.84360050e+01, 7.18878922e+01, 6.92748597e+01, 4.80911567e+01,\n",
       "       2.33720075e+01, 1.20943303e+01, 1.47853219e+01, 1.22679754e+02,\n",
       "       7.34729170e+01, 1.08098397e+01, 1.54783055e+01, 1.01672835e+02,\n",
       "       2.08747688e+02, 2.67476026e+02, 2.57617578e+02, 2.06567830e+02,\n",
       "       1.52307022e+02, 1.16219435e+02, 1.01150111e+02, 1.00931351e+02,\n",
       "       1.06537346e+02, 1.07465716e+02, 9.47700618e+01, 6.78194122e+01,\n",
       "       3.75098206e+01, 1.83367257e+01, 1.48208439e+01, 1.78274425e+01,\n",
       "       1.14303747e+02, 1.26850819e+02, 7.62460786e+01, 1.54485561e+01,\n",
       "       5.44842260e+00, 5.93262480e+01, 1.41806059e+02, 2.08684899e+02,\n",
       "       2.39030080e+02, 2.37697786e+02, 2.19889716e+02, 1.97298177e+02,\n",
       "       1.73576180e+02, 1.46624775e+02, 1.13636155e+02, 7.61436666e+01,\n",
       "       4.18423843e+01, 2.02801518e+01, 1.46333689e+01, 1.78377658e+01,\n",
       "       1.88405857e+01])"
      ]
     },
     "execution_count": 11,
     "metadata": {},
     "output_type": "execute_result"
    }
   ],
   "source": [
    "model_dip_image( 1E-12, 1, 480.00000000000006, 528.0, 1)"
   ]
  },
  {
   "cell_type": "code",
   "execution_count": 12,
   "metadata": {},
   "outputs": [
    {
     "data": {
      "text/plain": [
       "array([4.80e-05, 5.28e-05])"
      ]
     },
     "execution_count": 12,
     "metadata": {},
     "output_type": "execute_result"
    }
   ],
   "source": [
    "exp_obs_pts[0][221]"
   ]
  },
  {
   "cell_type": "code",
   "execution_count": 13,
   "metadata": {},
   "outputs": [
    {
     "data": {
      "text/plain": [
       "<matplotlib.colorbar.Colorbar at 0x13235b97f0>"
      ]
     },
     "execution_count": 13,
     "metadata": {},
     "output_type": "execute_result"
    },
    {
     "data": {
      "image/png": "[encoded data removed]",
      "text/plain": [
       "<Figure size 400x400 with 2 Axes>"
      ]
     },
     "metadata": {
      "needs_background": "light"
     },
     "output_type": "display_data"
    }
   ],
   "source": [
    "plt.figure(figsize=(2,2), dpi=200)\n",
    "plt.imshow(model_dip_image( 1E-12, 1, 480.00000000000006, 528.0, 1).reshape(21,21))\n",
    "plt.colorbar()\n"
   ]
  },
  {
   "cell_type": "code",
   "execution_count": 47,
   "metadata": {},
   "outputs": [],
   "source": [
    "class ReallyRealFittingTools(fit.FittingTools):\n",
    "    \"\"\" Slightly modified FittingTools class for convenience in fitting real data\n",
    "        I was motivated to write this beacuse I can the covarience for plotting fits\"\"\"\n",
    "    def __init__(self, obs_pts):\n",
    "        fit.FittingTools.__init__(self, obs_pts)\n",
    "        \n",
    "    def fit_model(self, images):\n",
    "        \"\"\" calculate index of maximum in each image. \"\"\"\n",
    "        num_of_images = images.shape[0]\n",
    "\n",
    "        apparent_centroids_xy = np.zeros((num_of_images,2))\n",
    "\n",
    "        max_positions = self.calculate_max_xy(images)\n",
    "\n",
    "        for i in np.arange(num_of_images):\n",
    "            x0 = max_positions[0][i]\n",
    "            y0 = max_positions[1][i]\n",
    "            params0 = (1E10, 2, x0+200, y0+200,  0)\n",
    "            print(f\"params0: {params0}\")\n",
    "            fit_results = opt.least_squares(\n",
    "                lambda fit_params: (\n",
    "                    normed_model_dip_image(*fit_params)\n",
    "                    -\n",
    "                    (images[i]/np.max(images[i]))\n",
    "                    ), \n",
    "                params0,\n",
    "                x_scale=[1E10, 1, 1E2, 1E2, 1],\n",
    "#                 xtol=0\n",
    "                )\n",
    "            resulting_fit_params = fit_results['x']\n",
    "            fit_gaussian = normed_model_dip_image(\n",
    "                *resulting_fit_params\n",
    "                )\n",
    "\n",
    "        return fit_results, fit_gaussian   ## returns [x_cen(s), y_cen(s)]\n"
   ]
  },
  {
   "cell_type": "code",
   "execution_count": null,
   "metadata": {},
   "outputs": [],
   "source": []
  },
  {
   "cell_type": "code",
   "execution_count": 48,
   "metadata": {},
   "outputs": [
    {
     "name": "stdout",
     "output_type": "stream",
     "text": [
      "params0: (10000000000.0, 2, 680.0, 728.0, 0)\n"
     ]
    }
   ],
   "source": [
    "exp_fit_inst = ReallyRealFittingTools(exp_obs_pts)\n",
    "best_fit_params, best_fit = exp_fit_inst.fit_model(\n",
    "    np.asarray([mat_images['bgsub_img'][...,26].ravel()]))"
   ]
  },
  {
   "cell_type": "code",
   "execution_count": 49,
   "metadata": {},
   "outputs": [
    {
     "data": {
      "text/plain": [
       "array([7.32730722e+32, 4.83617564e+00, 4.76450109e+02, 5.08779547e+02,\n",
       "       0.00000000e+00])"
      ]
     },
     "execution_count": 49,
     "metadata": {},
     "output_type": "execute_result"
    }
   ],
   "source": [
    "best_fit_params.x"
   ]
  },
  {
   "cell_type": "markdown",
   "metadata": {},
   "source": [
    "#### within a few nm of the Gaussian fit results\n",
    "4.82265769e+02,  5.00226690e+02,"
   ]
  },
  {
   "cell_type": "code",
   "execution_count": 50,
   "metadata": {},
   "outputs": [
    {
     "data": {
      "text/plain": [
       "'`ftol` termination condition is satisfied.'"
      ]
     },
     "execution_count": 50,
     "metadata": {},
     "output_type": "execute_result"
    }
   ],
   "source": [
    "best_fit_params.message"
   ]
  },
  {
   "cell_type": "code",
   "execution_count": 51,
   "metadata": {},
   "outputs": [
    {
     "data": {
      "text/plain": [
       "<matplotlib.colorbar.Colorbar at 0x1324d436a0>"
      ]
     },
     "execution_count": 51,
     "metadata": {},
     "output_type": "execute_result"
    },
    {
     "data": {
      "image/png": "[encoded data removed]",
      "text/plain": [
       "<Figure size 600x600 with 2 Axes>"
      ]
     },
     "metadata": {
      "needs_background": "light"
     },
     "output_type": "display_data"
    }
   ],
   "source": [
    "image = mat_images['bgsub_img'][...,26].ravel()\n",
    "\n",
    "plt.figure(\n",
    "    figsize=(3,3), \n",
    "    dpi=200\n",
    ") \n",
    "ax = plt.axes()\n",
    "\n",
    "img = ax.imshow(image.reshape(21,21))\n",
    "\n",
    "ax.contour(\n",
    "    range(0,21),\n",
    "    range(0,21),\n",
    "    best_fit.reshape(exp_obs_pts[-2].shape),\n",
    "    cmap='Greys',\n",
    "    linewidths=0.5,\n",
    "    )\n",
    "plt.colorbar(img)"
   ]
  },
  {
   "cell_type": "code",
   "execution_count": 28,
   "metadata": {},
   "outputs": [
    {
     "data": {
      "text/plain": [
       "<matplotlib.colorbar.Colorbar at 0x1323feb240>"
      ]
     },
     "execution_count": 28,
     "metadata": {},
     "output_type": "execute_result"
    },
    {
     "data": {
      "image/png": "[encoded data removed]",
      "text/plain": [
       "<Figure size 600x400 with 2 Axes>"
      ]
     },
     "metadata": {
      "needs_background": "light"
     },
     "output_type": "display_data"
    }
   ],
   "source": [
    "fig = plt.figure(dpi=100)\n",
    "ax = plt.axes()\n",
    "img1 =ax.imshow(\n",
    "#     range(0,21),\n",
    "#     range(0,21),\n",
    "    best_fit.reshape(exp_obs_pts[-2].shape),\n",
    "#     cmap='Greys',\n",
    "#     linewidths=0.5,\n",
    "    )\n",
    "## Add colorbar\n",
    "divider = make_axes_locatable(plt.gca())\n",
    "cax1 = divider.append_axes(\"right\", size=\"5%\", pad=0.05)\n",
    "fig.colorbar(img1, cax=cax1)"
   ]
  },
  {
   "cell_type": "markdown",
   "metadata": {},
   "source": [
    "OK, lets try fitting a plasmon coupled image."
   ]
  },
  {
   "cell_type": "code",
   "execution_count": null,
   "metadata": {},
   "outputs": [],
   "source": []
  }
 ],
 "metadata": {
  "kernelspec": {
   "display_name": "Python 3",
   "language": "python",
   "name": "python3"
  },
  "language_info": {
   "codemirror_mode": {
    "name": "ipython",
    "version": 3
   },
   "file_extension": ".py",
   "mimetype": "text/x-python",
   "name": "python",
   "nbconvert_exporter": "python",
   "pygments_lexer": "ipython3",
   "version": "3.6.7"
  }
 },
 "nbformat": 4,
 "nbformat_minor": 4
}
