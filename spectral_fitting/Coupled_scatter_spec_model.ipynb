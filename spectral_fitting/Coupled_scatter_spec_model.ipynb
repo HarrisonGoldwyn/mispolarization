{
 "cells": [
  {
   "cell_type": "code",
   "execution_count": null,
   "metadata": {},
   "outputs": [],
   "source": []
  },
  {
   "cell_type": "code",
   "execution_count": 1,
   "metadata": {},
   "outputs": [],
   "source": [
    "## Basic imports for worling with paths\n",
    "import os\n",
    "import sys\n",
    "\n",
    "## Custom package modules\n",
    "module_path = os.path.abspath(os.path.join('..'))\n",
    "sys.path.append(module_path)\n",
    "\n",
    "from misloc_mispol_package.calc import BEM_simulation_wrapper as bem\n",
    "from misloc_mispol_package.calc import fitting_misLocalization as fit\n",
    "from misloc_mispol_package.calc import coupled_dipoles as cp\n",
    "from misloc_mispol_package.optics import anal_foc_diff_fields as afi\n",
    "from misloc_mispol_package.optics import diffraction_int as diffi\n",
    "    \n",
    "import numpy as np\n",
    "## For fitting\n",
    "import scipy.optimize as opt\n",
    "## For loading matlab files \n",
    "import scipy.io as sio\n",
    "from scipy.constants import physical_constants\n",
    "\n",
    "## Plotting\n",
    "import matplotlib.pyplot as plt\n",
    "import matplotlib as mpl\n",
    "\n",
    "## Matplotlib settings\n",
    "## inspired by http://nipunbatra.github.io/2014/08/latexify/\n",
    "params = {\n",
    "    'text.latex.preamble': ['\\\\usepackage{gensymb}'],\n",
    "    'image.origin': 'lower',\n",
    "    'image.interpolation': 'nearest',\n",
    "    'image.cmap': 'magma',\n",
    "    'axes.grid': False,\n",
    "    'figure.dpi': 300,  # to adjust notebook inline plot size\n",
    "    'savefig.dpi': 300,  # to adjust notebook inline plot size\n",
    "    'axes.labelsize': 12, # fontsize for x and y labels (was 10)\n",
    "    'axes.titlesize': 14,\n",
    "    'font.size': 8, # was 10\n",
    "    'legend.fontsize': 8, # was 10\n",
    "    'xtick.labelsize': 8,\n",
    "    'ytick.labelsize': 8,\n",
    "    'text.usetex': True,\n",
    "    'figure.figsize': [3.5, 2.625], # 4 x 3\n",
    "    'font.family': 'serif',\n",
    "    'figure.max_open_warning':100\n",
    "}\n",
    "mpl.rcParams.update(params)\n",
    "\n",
    "## For colorbar \n",
    "from mpl_toolkits.axes_grid1 import make_axes_locatable\n",
    "## Instructions for adding colorbar to axes \n",
    "#     ## Add colorbar\n",
    "#     divider = make_axes_locatable(axs[ax_idx])\n",
    "#     cax1 = divider.append_axes(\"right\", size=\"5%\", pad=0.05)\n",
    "#     fig.colorbar(img1, cax=cax1)\n",
    "\n",
    "## Useful unit conversion\n",
    "m_per_nm = fit.m_per_nm"
   ]
  },
  {
   "cell_type": "code",
   "execution_count": 2,
   "metadata": {},
   "outputs": [],
   "source": [
    "import scipy.constants as con\n",
    "hbar = con.physical_constants['Planck constant over 2 pi in eV s'][0]\n",
    "c = con.physical_constants['speed of light in vacuum'][0]*1e2 #cm/m\n",
    "nm = 1e-7\n",
    "## DEFINE BACKGROUND FOR FITS\n",
    "eps_b = 1.778"
   ]
  },
  {
   "cell_type": "code",
   "execution_count": 3,
   "metadata": {},
   "outputs": [
    {
     "name": "stdout",
     "output_type": "stream",
     "text": [
      "dyad.shape = (1, 3, 3)\n",
      "d.size = 1\n"
     ]
    },
    {
     "data": {
      "text/plain": [
       "(1, 3, 3)"
      ]
     },
     "execution_count": 3,
     "metadata": {},
     "output_type": "execute_result"
    }
   ],
   "source": [
    "cp.G(1, np.array([[1, 1, 1]])).shape"
   ]
  },
  {
   "cell_type": "code",
   "execution_count": 4,
   "metadata": {},
   "outputs": [
    {
     "name": "stdout",
     "output_type": "stream",
     "text": [
      "dyad.shape = (2, 3, 3)\n",
      "d.size = 2\n"
     ]
    },
    {
     "data": {
      "text/plain": [
       "(2, 3, 3)"
      ]
     },
     "execution_count": 4,
     "metadata": {},
     "output_type": "execute_result"
    }
   ],
   "source": [
    "cp.G(1, np.array([[1, 1, 1], [1, 1, 1]])).shape"
   ]
  },
  {
   "cell_type": "code",
   "execution_count": 5,
   "metadata": {},
   "outputs": [
    {
     "name": "stdout",
     "output_type": "stream",
     "text": [
      "dyad.shape = (1, 3, 3)\n",
      "d.size = 1\n"
     ]
    },
    {
     "data": {
      "text/plain": [
       "(2, 3, 3)"
      ]
     },
     "execution_count": 5,
     "metadata": {},
     "output_type": "execute_result"
    }
   ],
   "source": [
    "\n",
    "cp.G(np.array([1, 2]), np.array([[1, 1, 1]])).shape"
   ]
  },
  {
   "cell_type": "code",
   "execution_count": 6,
   "metadata": {},
   "outputs": [],
   "source": [
    "# cp.G(np.array([1, 2]), np.array([[1, 1, 1], [1, 1, 1]])).shape"
   ]
  },
  {
   "cell_type": "markdown",
   "metadata": {},
   "source": []
  },
  {
   "cell_type": "markdown",
   "metadata": {},
   "source": [
    "Seens to be working ok, try the spectrum"
   ]
  },
  {
   "cell_type": "code",
   "execution_count": 7,
   "metadata": {},
   "outputs": [
    {
     "data": {
      "text/plain": [
       "(2, 3, 3)"
      ]
     },
     "execution_count": 7,
     "metadata": {},
     "output_type": "execute_result"
    }
   ],
   "source": [
    "cp.sparse_polarizability_tensor(1, 1, np.array([1, 2]), 1, 1,1, 1).shape"
   ]
  },
  {
   "cell_type": "code",
   "execution_count": 79,
   "metadata": {},
   "outputs": [],
   "source": [
    "def test_alpha_0_of_omega(w): \n",
    "    alpha = cp.sparse_polarizability_tensor(\n",
    "        1e-20, 2.4/hbar, w, 0.05/hbar, 0, 0, 1)\n",
    "    return alpha\n",
    "\n",
    "def test_alpha_1_of_omega(w): \n",
    "    alpha = cp.sparse_polarizability_tensor(\n",
    "        1e-30, 2.5/hbar, w, 0.05/hbar, 0, 0, 1)\n",
    "    return alpha\n",
    "\n",
    "test_d = np.array([[10, 0, 0]])*1e-7,\n",
    "\n",
    "def dipoles_of_omega(w):\n",
    "    \"\"\"Returns [p_0, p_1] both of shape ~ (# omegas, 3)\"\"\"\n",
    "    return cp.dipole_moments_per_omega(\n",
    "        mol_angle=0,\n",
    "        plas_angle=0,\n",
    "        d=test_d,\n",
    "        drive_hbar_w=w*hbar,\n",
    "        alpha0_diag_of_omega=test_alpha_0_of_omega,\n",
    "        alpha1_diag_of_omega=test_alpha_1_of_omega,)\n"
   ]
  },
  {
   "cell_type": "code",
   "execution_count": 80,
   "metadata": {},
   "outputs": [
    {
     "name": "stdout",
     "output_type": "stream",
     "text": [
      "dyad.shape = (1, 3, 3)\n",
      "d.size = 1\n"
     ]
    }
   ],
   "source": [
    "\n",
    "test_p0, test_p1 = dipoles_of_omega(np.linspace(1,3, 5))"
   ]
  },
  {
   "cell_type": "code",
   "execution_count": 92,
   "metadata": {},
   "outputs": [
    {
     "name": "stdout",
     "output_type": "stream",
     "text": [
      "dyad.shape = (1, 3, 3)\n",
      "d.size = 1\n",
      "p_0, p_1 = (array([[ 1.69825322e-28+9.64916602e-30j,  0.00000000e+00+0.00000000e+00j,\n",
      "         0.00000000e+00+0.00000000e+00j],\n",
      "       [ 1.70596584e-28+9.74711624e-30j,  0.00000000e+00+0.00000000e+00j,\n",
      "         0.00000000e+00+0.00000000e+00j],\n",
      "       [ 1.71375633e-28+9.84654872e-30j,  0.00000000e+00+0.00000000e+00j,\n",
      "         0.00000000e+00+0.00000000e+00j],\n",
      "       ...,\n",
      "       [-9.30383315e-29+4.33372002e-30j,  0.00000000e+00+0.00000000e+00j,\n",
      "         0.00000000e+00+0.00000000e+00j],\n",
      "       [-9.26933403e-29+4.30446077e-30j,  0.00000000e+00+0.00000000e+00j,\n",
      "         0.00000000e+00+0.00000000e+00j],\n",
      "       [-9.23506665e-29+4.27549382e-30j,  0.00000000e+00+0.00000000e+00j,\n",
      "         0.00000000e+00+0.00000000e+00j]]), array([[1.51551835e-29+1.55137858e-30j, 0.00000000e+00+0.00000000e+00j,\n",
      "        0.00000000e+00+0.00000000e+00j],\n",
      "       [1.52780617e-29+1.57201871e-30j, 0.00000000e+00+0.00000000e+00j,\n",
      "        0.00000000e+00+0.00000000e+00j],\n",
      "       [1.54025647e-29+1.59303189e-30j, 0.00000000e+00+0.00000000e+00j,\n",
      "        0.00000000e+00+0.00000000e+00j],\n",
      "       ...,\n",
      "       [6.92360272e-30-6.86634187e-31j, 0.00000000e+00+0.00000000e+00j,\n",
      "        0.00000000e+00+0.00000000e+00j],\n",
      "       [6.86811777e-30-6.78694745e-31j, 0.00000000e+00+0.00000000e+00j,\n",
      "        0.00000000e+00+0.00000000e+00j],\n",
      "       [6.81326239e-30-6.70874369e-31j, 0.00000000e+00+0.00000000e+00j,\n",
      "        0.00000000e+00+0.00000000e+00j]]))\n",
      "dyad.shape = (1, 3, 3)\n",
      "d.size = 1\n"
     ]
    }
   ],
   "source": [
    "hbar_ws = np.linspace(2,3, 500)\n",
    "\n",
    "test_spec = cp.sigma_scat_coupled(\n",
    "    dipoles_of_omega,\n",
    "    test_d[0],\n",
    "    hbar_ws,\n",
    "    )"
   ]
  },
  {
   "cell_type": "code",
   "execution_count": 93,
   "metadata": {},
   "outputs": [],
   "source": [
    "## \n",
    "def ret_fit_scat_1(hbarw, eps_inf, hbarw_p, hbargamma, a):\n",
    "    return cp.sigma_scat_ret_sphere(\n",
    "        hbarw/hbar, eps_inf, hbarw_p/hbar, hbargamma/hbar, eps_b, a*nm)"
   ]
  },
  {
   "cell_type": "code",
   "execution_count": null,
   "metadata": {},
   "outputs": [],
   "source": []
  },
  {
   "cell_type": "code",
   "execution_count": 117,
   "metadata": {},
   "outputs": [],
   "source": [
    "def osc_spec_model(\n",
    "    hw, \n",
    "    mass, \n",
    "    hw_res, \n",
    "    hbargamma_nr,  \n",
    "    eps_b=1.,\n",
    "    ):\n",
    "    \n",
    "    gamma = hbargamma_nr/hbar\n",
    "\n",
    "    alpha = cp.sparse_polarizability_tensor(\n",
    "#         cpc.fluorophore_mass(70000, gamma), \n",
    "        mass,\n",
    "        w_res=hw_res/hbar, \n",
    "        w=hw/hbar, \n",
    "        gamma_nr=gamma, \n",
    "        a=0, \n",
    "        eps_inf=0, \n",
    "        eps_b=eps_b,\n",
    "        )\n",
    "#     print(alpha.shape)\n",
    "    \n",
    "    sigma = cp.sigma_prefactor(hw/hbar, eps_b) * (\n",
    "        np.abs(alpha[:,0,0])**2.\n",
    "        )\n",
    "    \n",
    "    return sigma"
   ]
  },
  {
   "cell_type": "code",
   "execution_count": 122,
   "metadata": {},
   "outputs": [
    {
     "data": {
      "text/plain": [
       "[<matplotlib.lines.Line2D at 0x131def2198>]"
      ]
     },
     "execution_count": 122,
     "metadata": {},
     "output_type": "execute_result"
    },
    {
     "data": {
      "image/png": "[encoded data removed]",
      "text/plain": [
       "<Figure size 600x300 with 1 Axes>"
      ]
     },
     "metadata": {
      "needs_background": "light"
     },
     "output_type": "display_data"
    }
   ],
   "source": [
    "plt.figure(figsize=(4,2), dpi=150)\n",
    "plt.plot(\n",
    "    ws, \n",
    "    test_spec,#/test_spec.max()\n",
    "    lw=3\n",
    "    )\n",
    "\n",
    "test_spec_1 = osc_spec_model(hbar_ws, 1e-20, 2.4, 0.05)\n",
    "test_spec_2 = osc_spec_model(hbar_ws, 1e-30, 2.5, 0.05)\n",
    "\n",
    "test_spec_1 *= test_spec.max() / test_spec_1.max()\n",
    "test_spec_2 *= test_spec.max() / test_spec_2.max()\n",
    "\n",
    "plt.plot(hbar_ws, test_spec_1, lw=1, ls='--')\n",
    "plt.plot(hbar_ws, test_spec_2, lw=1, ls='--')"
   ]
  },
  {
   "cell_type": "code",
   "execution_count": null,
   "metadata": {},
   "outputs": [],
   "source": []
  }
 ],
 "metadata": {
  "kernelspec": {
   "display_name": "Python [conda env:py36] *",
   "language": "python",
   "name": "conda-env-py36-py"
  },
  "language_info": {
   "codemirror_mode": {
    "name": "ipython",
    "version": 3
   },
   "file_extension": ".py",
   "mimetype": "text/x-python",
   "name": "python",
   "nbconvert_exporter": "python",
   "pygments_lexer": "ipython3",
   "version": "3.6.7"
  }
 },
 "nbformat": 4,
 "nbformat_minor": 4
}
