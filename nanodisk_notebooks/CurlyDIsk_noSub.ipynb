{
 "cells": [
  {
   "cell_type": "code",
   "execution_count": null,
   "metadata": {},
   "outputs": [],
   "source": []
  },
  {
   "cell_type": "code",
   "execution_count": 3,
   "metadata": {},
   "outputs": [],
   "source": [
    "import os\n",
    "import sys\n",
    "module_path = os.path.abspath(os.path.join('..'))\n",
    "sys.path.append(module_path)\n",
    "\n",
    "import numpy as np\n",
    "\n",
    "## Plotting stuff\n",
    "import matplotlib.pyplot as plt\n",
    "import matplotlib as mpl\n",
    "## Default parameters inspired by \n",
    "## http://nipunbatra.github.io/2014/08/latexify/\n",
    "params = {\n",
    "    'text.latex.preamble': ['\\\\usepackage{gensymb}'],\n",
    "    'image.origin': 'lower',\n",
    "    'image.interpolation': 'nearest',\n",
    "    'image.cmap': 'magma',\n",
    "    'axes.grid': False,\n",
    "#     'savefig.dpi': 150,  # to adjust notebook inline plot size\n",
    "    'axes.labelsize': 8, # fontsize for x and y labels (was 10)\n",
    "    'axes.titlesize': 8,\n",
    "    'font.size': 8, # was 10\n",
    "    'legend.fontsize': 6, # was 10\n",
    "    'xtick.labelsize': 8,\n",
    "    'ytick.labelsize': 8,\n",
    "    'text.usetex': True,\n",
    "    'figure.figsize': [3.39, 2.10],\n",
    "    'font.family': 'serif',\n",
    "    'figure.max_open_warning':10001\n",
    "}\n",
    "mpl.rcParams.update(params)\n",
    "## For colorbar \n",
    "from mpl_toolkits.axes_grid1 import make_axes_locatable\n",
    "\n",
    "## Get physical constants from Scipy\n",
    "import scipy.constants as con\n",
    "\n",
    "## For fitting\n",
    "import scipy.optimize as opt\n",
    "\n",
    "## For matlab loading\n",
    "import scipy.io as sio\n",
    "\n",
    "## Load custom package modules\n",
    "from misloc_mispol_package.calc import BEM_simulation_wrapper as bem\n",
    "from misloc_mispol_package.calc import fitting_misLocalization as fit\n",
    "from misloc_mispol_package.calc import coupled_dipoles as cp\n",
    "from misloc_mispol_package.optics import diffraction_int as diffi\n",
    "from misloc_mispol_package.optics import fibonacci as fib\n",
    "\n",
    "## Some useful numerical constants\n",
    "hbar = con.physical_constants['Planck constant over 2 pi in eV s'][0]\n",
    "c = con.physical_constants['speed of light in vacuum'][0]*1e2 #cm/m\n",
    "\n",
    "m_per_nm = fit.m_per_nm\n",
    "\n",
    "eps_b = 1.778 ## Water\n",
    "cm_per_nm = 1E-7\n",
    "\n",
    "hres_obs_pts = diffi.observation_points(\n",
    "    -480*m_per_nm, 480*m_per_nm, -480*m_per_nm, 480*m_per_nm, 201)"
   ]
  },
  {
   "cell_type": "markdown",
   "metadata": {},
   "source": [
    "Need a spectrum of the disk in order to parameterize. Will do that now in matlab. "
   ]
  },
  {
   "cell_type": "code",
   "execution_count": 4,
   "metadata": {},
   "outputs": [],
   "source": [
    "path_to_spec = os.path.join(\n",
    "    os.sep,\n",
    "    'Users',\n",
    "    'chair',\n",
    "    'Documents',\n",
    "    'MATLAB',\n",
    "    'disk_simulations'\n",
    "    )\n",
    "\n",
    "disk_spec = sio.loadmat(os.path.join(\n",
    "    path_to_spec,\n",
    "    'bare_disk_spectrum.mat'\n",
    "    ))"
   ]
  },
  {
   "cell_type": "code",
   "execution_count": 5,
   "metadata": {},
   "outputs": [
    {
     "data": {
      "text/plain": [
       "dict_keys(['__header__', '__version__', '__globals__', 'enei', 'sca'])"
      ]
     },
     "execution_count": 5,
     "metadata": {},
     "output_type": "execute_result"
    }
   ],
   "source": [
    "disk_spec.keys()"
   ]
  },
  {
   "cell_type": "code",
   "execution_count": 6,
   "metadata": {},
   "outputs": [
    {
     "data": {
      "text/plain": [
       "(50, 3)"
      ]
     },
     "execution_count": 6,
     "metadata": {},
     "output_type": "execute_result"
    }
   ],
   "source": [
    "hw = 1240/disk_spec['enei'][0]\n",
    "spec = disk_spec['sca']\n",
    "spec.shape"
   ]
  },
  {
   "cell_type": "code",
   "execution_count": 7,
   "metadata": {},
   "outputs": [
    {
     "data": {
      "text/plain": [
       "(50,)"
      ]
     },
     "execution_count": 7,
     "metadata": {},
     "output_type": "execute_result"
    }
   ],
   "source": [
    "hw.shape"
   ]
  },
  {
   "cell_type": "code",
   "execution_count": 8,
   "metadata": {},
   "outputs": [
    {
     "data": {
      "image/png": "[encoded data removed]",
      "text/plain": [
       "<Figure size 600x450 with 1 Axes>"
      ]
     },
     "metadata": {
      "needs_background": "light"
     },
     "output_type": "display_data"
    }
   ],
   "source": [
    "plt.figure(figsize=(4,3), dpi=150)\n",
    "for i, spectrum in enumerate(spec.T):\n",
    "    plt.plot(hw, spectrum)"
   ]
  },
  {
   "cell_type": "markdown",
   "metadata": {},
   "source": [
    "This is a JC spectrum, should do Drude as well for rigor"
   ]
  },
  {
   "cell_type": "code",
   "execution_count": 13,
   "metadata": {},
   "outputs": [],
   "source": [
    "\n",
    "def ret_fit_scat_1(hbarw, eps_inf, hbarw_p, hbargamma, half_height, radius):\n",
    "    \n",
    "    a_x = half_height\n",
    "    a_yz = radius\n",
    "    \n",
    "    return cp.long_sigma_scat_ret_pro_ellip(\n",
    "        hbarw/hbar, \n",
    "        eps_inf, \n",
    "        hbarw_p/hbar, \n",
    "        hbargamma/hbar, \n",
    "        eps_b, \n",
    "        a_x*cm_per_nm, \n",
    "        a_yz*cm_per_nm)\n"
   ]
  },
  {
   "cell_type": "code",
   "execution_count": 14,
   "metadata": {},
   "outputs": [],
   "source": [
    "#+++++++++++++++++++++++++++++++++++++++++++++\n",
    "def absol_oblate_cost_f(params, *args):\n",
    "    x=args[0]\n",
    "    y=args[1]\n",
    "    \n",
    "    ## Parameters\n",
    "#     eps_inf=params[0]\n",
    "#     w_p=params[1]\n",
    "#     gamma=params[2]\n",
    "#     a_x = params[3]\n",
    "#     a_yz = params[4]\n",
    "    \n",
    "    ## Convert data from nm^2 to cm^2\n",
    "    y = y*(1e-14) ## cm^2/nm^2\n",
    "    \n",
    "    ## Define fit function\n",
    "    yfit = ret_fit_scat_1(x, *params)\n",
    "\n",
    "    ## Define scale of cost func for rescaling to order unity \n",
    "    cost_scale = 1e-10\n",
    "    \n",
    "    return (y-yfit).ravel() / cost_scale\n",
    "\n",
    "\n",
    "\n",
    "def oblate_fit_result(x, params):\n",
    "    \n",
    "    amp = params[-1]\n",
    "    phys_params = params[:-1]\n",
    "    \n",
    "    yfit=ret_fit_scat_1(x, *phys_params)\n",
    "    \n",
    "    return yfit/yfit.max() * amp"
   ]
  },
  {
   "cell_type": "code",
   "execution_count": 15,
   "metadata": {},
   "outputs": [],
   "source": [
    "sigma_scat_data = spec[:,0]"
   ]
  },
  {
   "cell_type": "code",
   "execution_count": 16,
   "metadata": {},
   "outputs": [
    {
     "data": {
      "text/plain": [
       "array([12.35045979,  9.28346156,  0.14991186, 20.        , 41.74973417])"
      ]
     },
     "execution_count": 16,
     "metadata": {},
     "output_type": "execute_result"
    },
    {
     "data": {
      "image/png": "[encoded data removed]",
      "text/plain": [
       "<Figure size 508.5x315 with 1 Axes>"
      ]
     },
     "metadata": {
      "needs_background": "light"
     },
     "output_type": "display_data"
    }
   ],
   "source": [
    "#+++++++++++++++++++++++++++++++++++++++++++++\n",
    "# ini_guess_params=np.array([3.48260965,  6.72763066,  0.65709936, 29.24119972, 79.24119972])\n",
    "ini_guess_params=np.array([11.6817827 ,  9.56022562,  0.8554153, 30.24119972/2, 80.24119972/2,])\n",
    "# ini_guess_params=np.array([13.99604932, 10.05123876,  0.28443696, 36.1993746]) \n",
    "# ini_guess_params=np.array([15.14244193,  8.4634295 , -0.16462349, 64.3292537 , 28.24427368])\n",
    "params0=ini_guess_params   #parameter guess\n",
    "\n",
    "## Reduce fit range\n",
    "energy_cutoff = 2.5\n",
    "args=[hw[hw<energy_cutoff], sigma_scat_data[hw<energy_cutoff]]\n",
    "# for c in Ts:\n",
    "#   args.append(c) \n",
    "args=tuple(args)   #doesn't work if args is a list!!\n",
    "\n",
    "## Perform minimization of cost function\n",
    "result=opt.least_squares(\n",
    "    absol_oblate_cost_f, \n",
    "    params0, \n",
    "    ftol=1e-15,\n",
    "    xtol=1e-15, \n",
    "    gtol=1e-15, \n",
    "    args=args,\n",
    "    bounds=(\n",
    "        [0,   0,  0,  10, 35],\n",
    "        [18, 20, 1,  20, 45],\n",
    "        ),\n",
    "    x_scale=[10,10,1E-1,10, 10],\n",
    "    )\n",
    "                         \n",
    "#+++++++++++++++++++++++++++++++++++++++++++++\n",
    "fit_result = ret_fit_scat_1(hw, *result['x'])\n",
    "ini_guess = ret_fit_scat_1(hw, *ini_guess_params)\n",
    "\n",
    "\n",
    "## Build figure\n",
    "plt.figure(dpi=150)\n",
    "\n",
    "## Plot Data\n",
    "plt.plot(hw, sigma_scat_data*1E-14, label='data')\n",
    "plt.plot(\n",
    "    [2.5, 2.5],\n",
    "    [np.min(sigma_scat_data*1E-14), np.max(sigma_scat_data*1E-14)],\n",
    "    ls='dashed',\n",
    "    c='k',\n",
    "    lw=1)\n",
    "\n",
    "## Plot best fit\n",
    "plt.plot(\n",
    "    hw, \n",
    "    fit_result, \n",
    "    label='fit',\n",
    "    ls='--', \n",
    "#     marker='.', \n",
    "    markersize=1, \n",
    "    alpha=.9)\n",
    "\n",
    "## Plot initial guess\n",
    "plt.plot(\n",
    "    hw, \n",
    "    ini_guess, \n",
    "    label='initial guess',\n",
    "    ls='dotted', \n",
    "#     marker='.', \n",
    "    markersize=1, \n",
    "    alpha=.9)\n",
    "\n",
    "plt.xlabel(r'$\\hbar\\omega$ [eV]')\n",
    "# plt.xlim([1.4, 2.7])\n",
    "plt.ylabel(r'$\\sigma$ [cm$^2$]')\n",
    "plt.title(r'Oblate spheroid model fit to JC Disk')\n",
    "plt.legend(fontsize=4)\n",
    "\n",
    "result['x']"
   ]
  },
  {
   "cell_type": "code",
   "execution_count": 85,
   "metadata": {
    "collapsed": true,
    "jupyter": {
     "outputs_hidden": true
    }
   },
   "outputs": [
    {
     "data": {
      "text/plain": [
       " active_mask: array([0, 0, 0, 1, 0])\n",
       "        cost: 0.003852572475068333\n",
       "         fun: array([ 0.03677396,  0.02641295,  0.01954642,  0.0155293 ,  0.01254973,\n",
       "        0.00949653,  0.00532587, -0.00078105, -0.00855619, -0.01704092,\n",
       "       -0.02421387, -0.02643646, -0.01934708, -0.0017948 ,  0.01944247,\n",
       "        0.02735457,  0.00998276, -0.01423657, -0.0213616 , -0.01203039,\n",
       "        0.00169573,  0.01121331,  0.0144152 ,  0.01267373,  0.00903856,\n",
       "        0.00547792,  0.00259821,  0.00046933, -0.00101302, -0.00198909,\n",
       "       -0.00262962, -0.00309301, -0.00346479, -0.00378862, -0.00408615,\n",
       "       -0.00436761])\n",
       "        grad: array([-2.65712029e-10,  6.92656529e-10,  5.54633847e-08, -4.30586449e-06,\n",
       "        3.82596893e-10])\n",
       "         jac: array([[ 7.35171049e-02, -2.04573544e-01,  1.77572821e-02,\n",
       "        -3.73065567e-03, -2.86644278e-03],\n",
       "       [ 8.83403548e-02, -2.52344233e-01,  3.84272789e-02,\n",
       "        -4.85833231e-03, -3.41290924e-03],\n",
       "       [ 1.06285458e-01, -3.11533729e-01,  6.79711290e-02,\n",
       "        -6.27598407e-03, -3.97372038e-03],\n",
       "       [ 1.28329298e-01, -3.85790391e-01,  1.10557694e-01,\n",
       "        -8.06959638e-03, -4.52081329e-03],\n",
       "       [ 1.55794715e-01, -4.80113243e-01,  1.72614863e-01,\n",
       "        -1.03567491e-02, -5.00829184e-03],\n",
       "       [ 1.90486751e-01, -6.01398531e-01,  2.64226956e-01,\n",
       "        -1.32989400e-02, -5.36206807e-03],\n",
       "       [ 2.34875714e-01, -7.59183275e-01,  4.01493994e-01,\n",
       "        -1.71181810e-02, -5.46433569e-03],\n",
       "       [ 2.92324413e-01, -9.66584375e-01,  6.10553730e-01,\n",
       "        -2.21176785e-02, -5.13159229e-03],\n",
       "       [ 3.67315429e-01, -1.24127068e+00,  9.34439314e-01,\n",
       "        -2.87027360e-02, -4.08755997e-03],\n",
       "       [ 4.65510735e-01, -1.60581418e+00,  1.44456327e+00,\n",
       "        -3.73871120e-02, -1.94254279e-03],\n",
       "       [ 5.93150323e-01, -2.08544652e+00,  2.25885814e+00,\n",
       "        -4.87413906e-02,  1.77781626e-03],\n",
       "       [ 7.54537867e-01, -2.69812659e+00,  3.56612635e+00,\n",
       "        -6.31733827e-02,  7.42823544e-03],\n",
       "       [ 9.44973747e-01, -3.42600264e+00,  5.64311365e+00,\n",
       "        -8.03098133e-02,  1.45619487e-02],\n",
       "       [ 1.13550747e+00, -4.15287187e+00,  8.80919275e+00,\n",
       "        -9.76660669e-02,  2.02740861e-02],\n",
       "       [ 1.25168207e+00, -4.57546718e+00,  1.31838808e+01,\n",
       "        -1.08806272e-01,  1.65876394e-02],\n",
       "       [ 1.17522778e+00, -4.20767032e+00,  1.81287820e+01,\n",
       "        -1.03527724e-01, -9.85251989e-03],\n",
       "       [ 8.28489753e-01, -2.72962332e+00,  2.18181134e+01,\n",
       "        -7.52012466e-02, -6.76715347e-02],\n",
       "       [ 3.09095161e-01, -5.53826272e-01,  2.22191210e+01,\n",
       "        -3.22644210e-02, -1.42580627e-01],\n",
       "       [-1.48385593e-01,  1.33080390e+00,  1.91843223e+01,\n",
       "         5.35813893e-03, -2.01283466e-01],\n",
       "       [-3.97306048e-01,  2.30920515e+00,  1.45670341e+01,\n",
       "         2.55134414e-02, -2.23315335e-01],\n",
       "       [-4.59572734e-01,  2.48518481e+00,  1.02209782e+01,\n",
       "         3.03241331e-02, -2.13978954e-01],\n",
       "       [-4.21865208e-01,  2.23832210e+00,  6.91386318e+00,\n",
       "         2.71502834e-02, -1.88828025e-01],\n",
       "       [-3.50762491e-01,  1.85891976e+00,  4.63869713e+00,\n",
       "         2.14881859e-02, -1.59863822e-01],\n",
       "       [-2.78968307e-01,  1.48869569e+00,  3.13742553e+00,\n",
       "         1.59485727e-02, -1.33008267e-01],\n",
       "       [-2.17926700e-01,  1.17603522e+00,  2.15663430e+00,\n",
       "         1.13861505e-02, -1.10221978e-01],\n",
       "       [-1.69504845e-01,  9.27325139e-01,  1.51166587e+00,\n",
       "         7.89198810e-03, -9.16211796e-02],\n",
       "       [-1.32198834e-01,  7.34324488e-01,  1.08127727e+00,\n",
       "         5.30488119e-03, -7.66631573e-02],\n",
       "       [-1.03752122e-01,  5.85733569e-01,  7.88814699e-01,\n",
       "         3.41962136e-03, -6.46707037e-02],\n",
       "       [-8.20770243e-02,  4.71251513e-01,  5.86219346e-01,\n",
       "         2.05590831e-03, -5.50250236e-02],\n",
       "       [-6.54913874e-02,  3.82589462e-01,  4.43182348e-01,\n",
       "         1.07303957e-03, -4.72172835e-02],\n",
       "       [-5.27134846e-02,  3.13410274e-01,  3.40342689e-01,\n",
       "         3.66528595e-04, -4.08472694e-02],\n",
       "       [-4.27897062e-02,  2.58972358e-01,  2.65132113e-01,\n",
       "        -1.39554600e-04, -3.56060612e-02],\n",
       "       [-3.50166460e-02,  2.15754047e-01,  2.09249679e-01,\n",
       "        -4.99939673e-04, -3.12566736e-02],\n",
       "       [-2.88758300e-02,  1.81139506e-01,  1.67116499e-01,\n",
       "        -7.54037804e-04, -2.76172091e-02],\n",
       "       [-2.39837005e-02,  1.53177772e-01,  1.34918771e-01,\n",
       "        -9.30300498e-04, -2.45474656e-02],\n",
       "       [-2.00548265e-02,  1.30404450e-01,  1.10006366e-01,\n",
       "        -1.04936381e-03, -2.19387084e-02]])\n",
       "     message: '`xtol` termination condition is satisfied.'\n",
       "        nfev: 86\n",
       "        njev: 66\n",
       "  optimality: 8.249138248576546e-09\n",
       "      status: 3\n",
       "     success: True\n",
       "           x: array([10.72208255,  8.55240284,  0.14873124, 50.        , 80.50089825])"
      ]
     },
     "execution_count": 85,
     "metadata": {},
     "output_type": "execute_result"
    }
   ],
   "source": [
    "result"
   ]
  },
  {
   "cell_type": "markdown",
   "metadata": {},
   "source": [
    "Things that would be interesting to compare, \n",
    "- How does fitting just long axis compare to simultaneous fit of long and short axis, like in the rod case\n",
    "    - this could be a significant difference between the rod and disk situations that I had not previously acknowledged. \n",
    "    - If I do not constrain the fit to the long axis the radii tend to equalize. \n",
    "\n",
    "Should also maybe check z orientation?"
   ]
  },
  {
   "cell_type": "code",
   "execution_count": null,
   "metadata": {},
   "outputs": [],
   "source": []
  }
 ],
 "metadata": {
  "kernelspec": {
   "display_name": "Python [conda env:py36] *",
   "language": "python",
   "name": "conda-env-py36-py"
  },
  "language_info": {
   "codemirror_mode": {
    "name": "ipython",
    "version": 3
   },
   "file_extension": ".py",
   "mimetype": "text/x-python",
   "name": "python",
   "nbconvert_exporter": "python",
   "pygments_lexer": "ipython3",
   "version": "3.6.7"
  }
 },
 "nbformat": 4,
 "nbformat_minor": 4
}
